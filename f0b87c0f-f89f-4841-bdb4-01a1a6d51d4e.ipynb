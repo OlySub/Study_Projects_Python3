{
 "cells": [
  {
   "cell_type": "markdown",
   "metadata": {},
   "source": [
    "# Исследование объявлений о продаже квартир\n",
    "\n",
    "В вашем распоряжении данные сервиса Недвижимость — архив объявлений о продаже квартир в Санкт-Петербурге и соседних населённых пунктов за несколько лет. Нужно научиться определять рыночную стоимость объектов недвижимости. Ваша задача — установить параметры. Это позволит построить автоматизированную систему: она отследит аномалии и мошенническую деятельность. \n",
    "\n",
    "По каждой квартире на продажу доступны два вида данных. Первые вписаны пользователем, вторые — получены автоматически на основе картографических данных. Например, расстояние до центра, аэропорта, ближайшего парка и водоёма. "
   ]
  },
  {
   "cell_type": "markdown",
   "metadata": {},
   "source": [
    "### Откройте файл с данными и изучите общую информацию. "
   ]
  },
  {
   "cell_type": "code",
   "execution_count": 1,
   "metadata": {
    "scrolled": true
   },
   "outputs": [
    {
     "data": {
      "text/html": [
       "<div>\n",
       "<style scoped>\n",
       "    .dataframe tbody tr th:only-of-type {\n",
       "        vertical-align: middle;\n",
       "    }\n",
       "\n",
       "    .dataframe tbody tr th {\n",
       "        vertical-align: top;\n",
       "    }\n",
       "\n",
       "    .dataframe thead th {\n",
       "        text-align: right;\n",
       "    }\n",
       "</style>\n",
       "<table border=\"1\" class=\"dataframe\">\n",
       "  <thead>\n",
       "    <tr style=\"text-align: right;\">\n",
       "      <th></th>\n",
       "      <th>total_images</th>\n",
       "      <th>last_price</th>\n",
       "      <th>total_area</th>\n",
       "      <th>first_day_exposition</th>\n",
       "      <th>rooms</th>\n",
       "      <th>ceiling_height</th>\n",
       "      <th>floors_total</th>\n",
       "      <th>living_area</th>\n",
       "      <th>floor</th>\n",
       "      <th>is_apartment</th>\n",
       "      <th>...</th>\n",
       "      <th>kitchen_area</th>\n",
       "      <th>balcony</th>\n",
       "      <th>locality_name</th>\n",
       "      <th>airports_nearest</th>\n",
       "      <th>cityCenters_nearest</th>\n",
       "      <th>parks_around3000</th>\n",
       "      <th>parks_nearest</th>\n",
       "      <th>ponds_around3000</th>\n",
       "      <th>ponds_nearest</th>\n",
       "      <th>days_exposition</th>\n",
       "    </tr>\n",
       "  </thead>\n",
       "  <tbody>\n",
       "    <tr>\n",
       "      <th>0</th>\n",
       "      <td>20</td>\n",
       "      <td>13000000.0</td>\n",
       "      <td>108.0</td>\n",
       "      <td>2019-03-07T00:00:00</td>\n",
       "      <td>3</td>\n",
       "      <td>2.70</td>\n",
       "      <td>16.0</td>\n",
       "      <td>51.0</td>\n",
       "      <td>8</td>\n",
       "      <td>NaN</td>\n",
       "      <td>...</td>\n",
       "      <td>25.0</td>\n",
       "      <td>NaN</td>\n",
       "      <td>Санкт-Петербург</td>\n",
       "      <td>18863.0</td>\n",
       "      <td>16028.0</td>\n",
       "      <td>1.0</td>\n",
       "      <td>482.0</td>\n",
       "      <td>2.0</td>\n",
       "      <td>755.0</td>\n",
       "      <td>NaN</td>\n",
       "    </tr>\n",
       "    <tr>\n",
       "      <th>1</th>\n",
       "      <td>7</td>\n",
       "      <td>3350000.0</td>\n",
       "      <td>40.4</td>\n",
       "      <td>2018-12-04T00:00:00</td>\n",
       "      <td>1</td>\n",
       "      <td>NaN</td>\n",
       "      <td>11.0</td>\n",
       "      <td>18.6</td>\n",
       "      <td>1</td>\n",
       "      <td>NaN</td>\n",
       "      <td>...</td>\n",
       "      <td>11.0</td>\n",
       "      <td>2.0</td>\n",
       "      <td>посёлок Шушары</td>\n",
       "      <td>12817.0</td>\n",
       "      <td>18603.0</td>\n",
       "      <td>0.0</td>\n",
       "      <td>NaN</td>\n",
       "      <td>0.0</td>\n",
       "      <td>NaN</td>\n",
       "      <td>81.0</td>\n",
       "    </tr>\n",
       "    <tr>\n",
       "      <th>2</th>\n",
       "      <td>10</td>\n",
       "      <td>5196000.0</td>\n",
       "      <td>56.0</td>\n",
       "      <td>2015-08-20T00:00:00</td>\n",
       "      <td>2</td>\n",
       "      <td>NaN</td>\n",
       "      <td>5.0</td>\n",
       "      <td>34.3</td>\n",
       "      <td>4</td>\n",
       "      <td>NaN</td>\n",
       "      <td>...</td>\n",
       "      <td>8.3</td>\n",
       "      <td>0.0</td>\n",
       "      <td>Санкт-Петербург</td>\n",
       "      <td>21741.0</td>\n",
       "      <td>13933.0</td>\n",
       "      <td>1.0</td>\n",
       "      <td>90.0</td>\n",
       "      <td>2.0</td>\n",
       "      <td>574.0</td>\n",
       "      <td>558.0</td>\n",
       "    </tr>\n",
       "    <tr>\n",
       "      <th>3</th>\n",
       "      <td>0</td>\n",
       "      <td>64900000.0</td>\n",
       "      <td>159.0</td>\n",
       "      <td>2015-07-24T00:00:00</td>\n",
       "      <td>3</td>\n",
       "      <td>NaN</td>\n",
       "      <td>14.0</td>\n",
       "      <td>NaN</td>\n",
       "      <td>9</td>\n",
       "      <td>NaN</td>\n",
       "      <td>...</td>\n",
       "      <td>NaN</td>\n",
       "      <td>0.0</td>\n",
       "      <td>Санкт-Петербург</td>\n",
       "      <td>28098.0</td>\n",
       "      <td>6800.0</td>\n",
       "      <td>2.0</td>\n",
       "      <td>84.0</td>\n",
       "      <td>3.0</td>\n",
       "      <td>234.0</td>\n",
       "      <td>424.0</td>\n",
       "    </tr>\n",
       "    <tr>\n",
       "      <th>4</th>\n",
       "      <td>2</td>\n",
       "      <td>10000000.0</td>\n",
       "      <td>100.0</td>\n",
       "      <td>2018-06-19T00:00:00</td>\n",
       "      <td>2</td>\n",
       "      <td>3.03</td>\n",
       "      <td>14.0</td>\n",
       "      <td>32.0</td>\n",
       "      <td>13</td>\n",
       "      <td>NaN</td>\n",
       "      <td>...</td>\n",
       "      <td>41.0</td>\n",
       "      <td>NaN</td>\n",
       "      <td>Санкт-Петербург</td>\n",
       "      <td>31856.0</td>\n",
       "      <td>8098.0</td>\n",
       "      <td>2.0</td>\n",
       "      <td>112.0</td>\n",
       "      <td>1.0</td>\n",
       "      <td>48.0</td>\n",
       "      <td>121.0</td>\n",
       "    </tr>\n",
       "  </tbody>\n",
       "</table>\n",
       "<p>5 rows × 22 columns</p>\n",
       "</div>"
      ],
      "text/plain": [
       "   total_images  last_price  total_area first_day_exposition  rooms  \\\n",
       "0            20  13000000.0       108.0  2019-03-07T00:00:00      3   \n",
       "1             7   3350000.0        40.4  2018-12-04T00:00:00      1   \n",
       "2            10   5196000.0        56.0  2015-08-20T00:00:00      2   \n",
       "3             0  64900000.0       159.0  2015-07-24T00:00:00      3   \n",
       "4             2  10000000.0       100.0  2018-06-19T00:00:00      2   \n",
       "\n",
       "   ceiling_height  floors_total  living_area  floor is_apartment  ...  \\\n",
       "0            2.70          16.0         51.0      8          NaN  ...   \n",
       "1             NaN          11.0         18.6      1          NaN  ...   \n",
       "2             NaN           5.0         34.3      4          NaN  ...   \n",
       "3             NaN          14.0          NaN      9          NaN  ...   \n",
       "4            3.03          14.0         32.0     13          NaN  ...   \n",
       "\n",
       "   kitchen_area  balcony    locality_name  airports_nearest  \\\n",
       "0          25.0      NaN  Санкт-Петербург           18863.0   \n",
       "1          11.0      2.0   посёлок Шушары           12817.0   \n",
       "2           8.3      0.0  Санкт-Петербург           21741.0   \n",
       "3           NaN      0.0  Санкт-Петербург           28098.0   \n",
       "4          41.0      NaN  Санкт-Петербург           31856.0   \n",
       "\n",
       "  cityCenters_nearest  parks_around3000  parks_nearest  ponds_around3000  \\\n",
       "0             16028.0               1.0          482.0               2.0   \n",
       "1             18603.0               0.0            NaN               0.0   \n",
       "2             13933.0               1.0           90.0               2.0   \n",
       "3              6800.0               2.0           84.0               3.0   \n",
       "4              8098.0               2.0          112.0               1.0   \n",
       "\n",
       "   ponds_nearest  days_exposition  \n",
       "0          755.0              NaN  \n",
       "1            NaN             81.0  \n",
       "2          574.0            558.0  \n",
       "3          234.0            424.0  \n",
       "4           48.0            121.0  \n",
       "\n",
       "[5 rows x 22 columns]"
      ]
     },
     "execution_count": 1,
     "metadata": {},
     "output_type": "execute_result"
    }
   ],
   "source": [
    "import pandas as pd\n",
    "import re\n",
    "from IPython.display import Image\n",
    "import numpy as np\n",
    "import matplotlib.pyplot as plt\n",
    "from matplotlib import colors\n",
    "from matplotlib.ticker import PercentFormatter\n",
    "import seaborn as sns\n",
    "\n",
    "try:\n",
    "    df = pd.read_csv ('real_estate_data.csv', sep='\\t')  #читаем файл, применяем разделитель между значениями\n",
    "except FileNotFoundError:  \n",
    "    df = pd.read_csv ('https://code.s3.yandex.net/datasets/real_estate_data.csv', sep='\\t')\n",
    "\n",
    "df.head() #выводим первые 5 строк датафрейма"
   ]
  },
  {
   "cell_type": "code",
   "execution_count": 2,
   "metadata": {
    "scrolled": true
   },
   "outputs": [
    {
     "data": {
      "text/html": [
       "<div>\n",
       "<style scoped>\n",
       "    .dataframe tbody tr th:only-of-type {\n",
       "        vertical-align: middle;\n",
       "    }\n",
       "\n",
       "    .dataframe tbody tr th {\n",
       "        vertical-align: top;\n",
       "    }\n",
       "\n",
       "    .dataframe thead th {\n",
       "        text-align: right;\n",
       "    }\n",
       "</style>\n",
       "<table border=\"1\" class=\"dataframe\">\n",
       "  <thead>\n",
       "    <tr style=\"text-align: right;\">\n",
       "      <th></th>\n",
       "      <th>total_images</th>\n",
       "      <th>last_price</th>\n",
       "      <th>total_area</th>\n",
       "      <th>first_day_exposition</th>\n",
       "      <th>rooms</th>\n",
       "      <th>ceiling_height</th>\n",
       "      <th>floors_total</th>\n",
       "      <th>living_area</th>\n",
       "      <th>floor</th>\n",
       "      <th>is_apartment</th>\n",
       "      <th>...</th>\n",
       "      <th>kitchen_area</th>\n",
       "      <th>balcony</th>\n",
       "      <th>locality_name</th>\n",
       "      <th>airports_nearest</th>\n",
       "      <th>cityCenters_nearest</th>\n",
       "      <th>parks_around3000</th>\n",
       "      <th>parks_nearest</th>\n",
       "      <th>ponds_around3000</th>\n",
       "      <th>ponds_nearest</th>\n",
       "      <th>days_exposition</th>\n",
       "    </tr>\n",
       "  </thead>\n",
       "  <tbody>\n",
       "    <tr>\n",
       "      <th>23694</th>\n",
       "      <td>9</td>\n",
       "      <td>9700000.0</td>\n",
       "      <td>133.81</td>\n",
       "      <td>2017-03-21T00:00:00</td>\n",
       "      <td>3</td>\n",
       "      <td>3.7</td>\n",
       "      <td>5.0</td>\n",
       "      <td>73.3</td>\n",
       "      <td>3</td>\n",
       "      <td>NaN</td>\n",
       "      <td>...</td>\n",
       "      <td>13.83</td>\n",
       "      <td>NaN</td>\n",
       "      <td>Санкт-Петербург</td>\n",
       "      <td>24665.0</td>\n",
       "      <td>4232.0</td>\n",
       "      <td>1.0</td>\n",
       "      <td>796.0</td>\n",
       "      <td>3.0</td>\n",
       "      <td>381.0</td>\n",
       "      <td>NaN</td>\n",
       "    </tr>\n",
       "    <tr>\n",
       "      <th>23695</th>\n",
       "      <td>14</td>\n",
       "      <td>3100000.0</td>\n",
       "      <td>59.00</td>\n",
       "      <td>2018-01-15T00:00:00</td>\n",
       "      <td>3</td>\n",
       "      <td>NaN</td>\n",
       "      <td>5.0</td>\n",
       "      <td>38.0</td>\n",
       "      <td>4</td>\n",
       "      <td>NaN</td>\n",
       "      <td>...</td>\n",
       "      <td>8.50</td>\n",
       "      <td>NaN</td>\n",
       "      <td>Тосно</td>\n",
       "      <td>NaN</td>\n",
       "      <td>NaN</td>\n",
       "      <td>NaN</td>\n",
       "      <td>NaN</td>\n",
       "      <td>NaN</td>\n",
       "      <td>NaN</td>\n",
       "      <td>45.0</td>\n",
       "    </tr>\n",
       "    <tr>\n",
       "      <th>23696</th>\n",
       "      <td>18</td>\n",
       "      <td>2500000.0</td>\n",
       "      <td>56.70</td>\n",
       "      <td>2018-02-11T00:00:00</td>\n",
       "      <td>2</td>\n",
       "      <td>NaN</td>\n",
       "      <td>3.0</td>\n",
       "      <td>29.7</td>\n",
       "      <td>1</td>\n",
       "      <td>NaN</td>\n",
       "      <td>...</td>\n",
       "      <td>NaN</td>\n",
       "      <td>NaN</td>\n",
       "      <td>село Рождествено</td>\n",
       "      <td>NaN</td>\n",
       "      <td>NaN</td>\n",
       "      <td>NaN</td>\n",
       "      <td>NaN</td>\n",
       "      <td>NaN</td>\n",
       "      <td>NaN</td>\n",
       "      <td>NaN</td>\n",
       "    </tr>\n",
       "    <tr>\n",
       "      <th>23697</th>\n",
       "      <td>13</td>\n",
       "      <td>11475000.0</td>\n",
       "      <td>76.75</td>\n",
       "      <td>2017-03-28T00:00:00</td>\n",
       "      <td>2</td>\n",
       "      <td>3.0</td>\n",
       "      <td>17.0</td>\n",
       "      <td>NaN</td>\n",
       "      <td>12</td>\n",
       "      <td>NaN</td>\n",
       "      <td>...</td>\n",
       "      <td>23.30</td>\n",
       "      <td>2.0</td>\n",
       "      <td>Санкт-Петербург</td>\n",
       "      <td>39140.0</td>\n",
       "      <td>10364.0</td>\n",
       "      <td>2.0</td>\n",
       "      <td>173.0</td>\n",
       "      <td>3.0</td>\n",
       "      <td>196.0</td>\n",
       "      <td>602.0</td>\n",
       "    </tr>\n",
       "    <tr>\n",
       "      <th>23698</th>\n",
       "      <td>4</td>\n",
       "      <td>1350000.0</td>\n",
       "      <td>32.30</td>\n",
       "      <td>2017-07-21T00:00:00</td>\n",
       "      <td>1</td>\n",
       "      <td>2.5</td>\n",
       "      <td>5.0</td>\n",
       "      <td>12.3</td>\n",
       "      <td>1</td>\n",
       "      <td>NaN</td>\n",
       "      <td>...</td>\n",
       "      <td>9.00</td>\n",
       "      <td>NaN</td>\n",
       "      <td>поселок Новый Учхоз</td>\n",
       "      <td>NaN</td>\n",
       "      <td>NaN</td>\n",
       "      <td>NaN</td>\n",
       "      <td>NaN</td>\n",
       "      <td>NaN</td>\n",
       "      <td>NaN</td>\n",
       "      <td>NaN</td>\n",
       "    </tr>\n",
       "  </tbody>\n",
       "</table>\n",
       "<p>5 rows × 22 columns</p>\n",
       "</div>"
      ],
      "text/plain": [
       "       total_images  last_price  total_area first_day_exposition  rooms  \\\n",
       "23694             9   9700000.0      133.81  2017-03-21T00:00:00      3   \n",
       "23695            14   3100000.0       59.00  2018-01-15T00:00:00      3   \n",
       "23696            18   2500000.0       56.70  2018-02-11T00:00:00      2   \n",
       "23697            13  11475000.0       76.75  2017-03-28T00:00:00      2   \n",
       "23698             4   1350000.0       32.30  2017-07-21T00:00:00      1   \n",
       "\n",
       "       ceiling_height  floors_total  living_area  floor is_apartment  ...  \\\n",
       "23694             3.7           5.0         73.3      3          NaN  ...   \n",
       "23695             NaN           5.0         38.0      4          NaN  ...   \n",
       "23696             NaN           3.0         29.7      1          NaN  ...   \n",
       "23697             3.0          17.0          NaN     12          NaN  ...   \n",
       "23698             2.5           5.0         12.3      1          NaN  ...   \n",
       "\n",
       "       kitchen_area  balcony        locality_name  airports_nearest  \\\n",
       "23694         13.83      NaN      Санкт-Петербург           24665.0   \n",
       "23695          8.50      NaN                Тосно               NaN   \n",
       "23696           NaN      NaN     село Рождествено               NaN   \n",
       "23697         23.30      2.0      Санкт-Петербург           39140.0   \n",
       "23698          9.00      NaN  поселок Новый Учхоз               NaN   \n",
       "\n",
       "      cityCenters_nearest  parks_around3000  parks_nearest  ponds_around3000  \\\n",
       "23694              4232.0               1.0          796.0               3.0   \n",
       "23695                 NaN               NaN            NaN               NaN   \n",
       "23696                 NaN               NaN            NaN               NaN   \n",
       "23697             10364.0               2.0          173.0               3.0   \n",
       "23698                 NaN               NaN            NaN               NaN   \n",
       "\n",
       "       ponds_nearest  days_exposition  \n",
       "23694          381.0              NaN  \n",
       "23695            NaN             45.0  \n",
       "23696            NaN              NaN  \n",
       "23697          196.0            602.0  \n",
       "23698            NaN              NaN  \n",
       "\n",
       "[5 rows x 22 columns]"
      ]
     },
     "execution_count": 2,
     "metadata": {},
     "output_type": "execute_result"
    }
   ],
   "source": [
    "df.tail() #выводим последние 5 строк датафрейма"
   ]
  },
  {
   "cell_type": "code",
   "execution_count": 3,
   "metadata": {},
   "outputs": [
    {
     "data": {
      "text/html": [
       "<div>\n",
       "<style scoped>\n",
       "    .dataframe tbody tr th:only-of-type {\n",
       "        vertical-align: middle;\n",
       "    }\n",
       "\n",
       "    .dataframe tbody tr th {\n",
       "        vertical-align: top;\n",
       "    }\n",
       "\n",
       "    .dataframe thead th {\n",
       "        text-align: right;\n",
       "    }\n",
       "</style>\n",
       "<table border=\"1\" class=\"dataframe\">\n",
       "  <thead>\n",
       "    <tr style=\"text-align: right;\">\n",
       "      <th></th>\n",
       "      <th>total_images</th>\n",
       "      <th>last_price</th>\n",
       "      <th>total_area</th>\n",
       "      <th>rooms</th>\n",
       "      <th>ceiling_height</th>\n",
       "      <th>floors_total</th>\n",
       "      <th>living_area</th>\n",
       "      <th>floor</th>\n",
       "      <th>kitchen_area</th>\n",
       "      <th>balcony</th>\n",
       "      <th>airports_nearest</th>\n",
       "      <th>cityCenters_nearest</th>\n",
       "      <th>parks_around3000</th>\n",
       "      <th>parks_nearest</th>\n",
       "      <th>ponds_around3000</th>\n",
       "      <th>ponds_nearest</th>\n",
       "      <th>days_exposition</th>\n",
       "    </tr>\n",
       "  </thead>\n",
       "  <tbody>\n",
       "    <tr>\n",
       "      <th>count</th>\n",
       "      <td>23699.000000</td>\n",
       "      <td>2.369900e+04</td>\n",
       "      <td>23699.000000</td>\n",
       "      <td>23699.000000</td>\n",
       "      <td>14504.000000</td>\n",
       "      <td>23613.000000</td>\n",
       "      <td>21796.000000</td>\n",
       "      <td>23699.000000</td>\n",
       "      <td>21421.000000</td>\n",
       "      <td>12180.000000</td>\n",
       "      <td>18157.000000</td>\n",
       "      <td>18180.000000</td>\n",
       "      <td>18181.000000</td>\n",
       "      <td>8079.000000</td>\n",
       "      <td>18181.000000</td>\n",
       "      <td>9110.000000</td>\n",
       "      <td>20518.000000</td>\n",
       "    </tr>\n",
       "    <tr>\n",
       "      <th>mean</th>\n",
       "      <td>9.858475</td>\n",
       "      <td>6.541549e+06</td>\n",
       "      <td>60.348651</td>\n",
       "      <td>2.070636</td>\n",
       "      <td>2.771499</td>\n",
       "      <td>10.673824</td>\n",
       "      <td>34.457852</td>\n",
       "      <td>5.892358</td>\n",
       "      <td>10.569807</td>\n",
       "      <td>1.150082</td>\n",
       "      <td>28793.672193</td>\n",
       "      <td>14191.277833</td>\n",
       "      <td>0.611408</td>\n",
       "      <td>490.804555</td>\n",
       "      <td>0.770255</td>\n",
       "      <td>517.980900</td>\n",
       "      <td>180.888634</td>\n",
       "    </tr>\n",
       "    <tr>\n",
       "      <th>std</th>\n",
       "      <td>5.682529</td>\n",
       "      <td>1.088701e+07</td>\n",
       "      <td>35.654083</td>\n",
       "      <td>1.078405</td>\n",
       "      <td>1.261056</td>\n",
       "      <td>6.597173</td>\n",
       "      <td>22.030445</td>\n",
       "      <td>4.885249</td>\n",
       "      <td>5.905438</td>\n",
       "      <td>1.071300</td>\n",
       "      <td>12630.880622</td>\n",
       "      <td>8608.386210</td>\n",
       "      <td>0.802074</td>\n",
       "      <td>342.317995</td>\n",
       "      <td>0.938346</td>\n",
       "      <td>277.720643</td>\n",
       "      <td>219.727988</td>\n",
       "    </tr>\n",
       "    <tr>\n",
       "      <th>min</th>\n",
       "      <td>0.000000</td>\n",
       "      <td>1.219000e+04</td>\n",
       "      <td>12.000000</td>\n",
       "      <td>0.000000</td>\n",
       "      <td>1.000000</td>\n",
       "      <td>1.000000</td>\n",
       "      <td>2.000000</td>\n",
       "      <td>1.000000</td>\n",
       "      <td>1.300000</td>\n",
       "      <td>0.000000</td>\n",
       "      <td>0.000000</td>\n",
       "      <td>181.000000</td>\n",
       "      <td>0.000000</td>\n",
       "      <td>1.000000</td>\n",
       "      <td>0.000000</td>\n",
       "      <td>13.000000</td>\n",
       "      <td>1.000000</td>\n",
       "    </tr>\n",
       "    <tr>\n",
       "      <th>25%</th>\n",
       "      <td>6.000000</td>\n",
       "      <td>3.400000e+06</td>\n",
       "      <td>40.000000</td>\n",
       "      <td>1.000000</td>\n",
       "      <td>2.520000</td>\n",
       "      <td>5.000000</td>\n",
       "      <td>18.600000</td>\n",
       "      <td>2.000000</td>\n",
       "      <td>7.000000</td>\n",
       "      <td>0.000000</td>\n",
       "      <td>18585.000000</td>\n",
       "      <td>9238.000000</td>\n",
       "      <td>0.000000</td>\n",
       "      <td>288.000000</td>\n",
       "      <td>0.000000</td>\n",
       "      <td>294.000000</td>\n",
       "      <td>45.000000</td>\n",
       "    </tr>\n",
       "    <tr>\n",
       "      <th>50%</th>\n",
       "      <td>9.000000</td>\n",
       "      <td>4.650000e+06</td>\n",
       "      <td>52.000000</td>\n",
       "      <td>2.000000</td>\n",
       "      <td>2.650000</td>\n",
       "      <td>9.000000</td>\n",
       "      <td>30.000000</td>\n",
       "      <td>4.000000</td>\n",
       "      <td>9.100000</td>\n",
       "      <td>1.000000</td>\n",
       "      <td>26726.000000</td>\n",
       "      <td>13098.500000</td>\n",
       "      <td>0.000000</td>\n",
       "      <td>455.000000</td>\n",
       "      <td>1.000000</td>\n",
       "      <td>502.000000</td>\n",
       "      <td>95.000000</td>\n",
       "    </tr>\n",
       "    <tr>\n",
       "      <th>75%</th>\n",
       "      <td>14.000000</td>\n",
       "      <td>6.800000e+06</td>\n",
       "      <td>69.900000</td>\n",
       "      <td>3.000000</td>\n",
       "      <td>2.800000</td>\n",
       "      <td>16.000000</td>\n",
       "      <td>42.300000</td>\n",
       "      <td>8.000000</td>\n",
       "      <td>12.000000</td>\n",
       "      <td>2.000000</td>\n",
       "      <td>37273.000000</td>\n",
       "      <td>16293.000000</td>\n",
       "      <td>1.000000</td>\n",
       "      <td>612.000000</td>\n",
       "      <td>1.000000</td>\n",
       "      <td>729.000000</td>\n",
       "      <td>232.000000</td>\n",
       "    </tr>\n",
       "    <tr>\n",
       "      <th>max</th>\n",
       "      <td>50.000000</td>\n",
       "      <td>7.630000e+08</td>\n",
       "      <td>900.000000</td>\n",
       "      <td>19.000000</td>\n",
       "      <td>100.000000</td>\n",
       "      <td>60.000000</td>\n",
       "      <td>409.700000</td>\n",
       "      <td>33.000000</td>\n",
       "      <td>112.000000</td>\n",
       "      <td>5.000000</td>\n",
       "      <td>84869.000000</td>\n",
       "      <td>65968.000000</td>\n",
       "      <td>3.000000</td>\n",
       "      <td>3190.000000</td>\n",
       "      <td>3.000000</td>\n",
       "      <td>1344.000000</td>\n",
       "      <td>1580.000000</td>\n",
       "    </tr>\n",
       "  </tbody>\n",
       "</table>\n",
       "</div>"
      ],
      "text/plain": [
       "       total_images    last_price    total_area         rooms  ceiling_height  \\\n",
       "count  23699.000000  2.369900e+04  23699.000000  23699.000000    14504.000000   \n",
       "mean       9.858475  6.541549e+06     60.348651      2.070636        2.771499   \n",
       "std        5.682529  1.088701e+07     35.654083      1.078405        1.261056   \n",
       "min        0.000000  1.219000e+04     12.000000      0.000000        1.000000   \n",
       "25%        6.000000  3.400000e+06     40.000000      1.000000        2.520000   \n",
       "50%        9.000000  4.650000e+06     52.000000      2.000000        2.650000   \n",
       "75%       14.000000  6.800000e+06     69.900000      3.000000        2.800000   \n",
       "max       50.000000  7.630000e+08    900.000000     19.000000      100.000000   \n",
       "\n",
       "       floors_total   living_area         floor  kitchen_area       balcony  \\\n",
       "count  23613.000000  21796.000000  23699.000000  21421.000000  12180.000000   \n",
       "mean      10.673824     34.457852      5.892358     10.569807      1.150082   \n",
       "std        6.597173     22.030445      4.885249      5.905438      1.071300   \n",
       "min        1.000000      2.000000      1.000000      1.300000      0.000000   \n",
       "25%        5.000000     18.600000      2.000000      7.000000      0.000000   \n",
       "50%        9.000000     30.000000      4.000000      9.100000      1.000000   \n",
       "75%       16.000000     42.300000      8.000000     12.000000      2.000000   \n",
       "max       60.000000    409.700000     33.000000    112.000000      5.000000   \n",
       "\n",
       "       airports_nearest  cityCenters_nearest  parks_around3000  parks_nearest  \\\n",
       "count      18157.000000         18180.000000      18181.000000    8079.000000   \n",
       "mean       28793.672193         14191.277833          0.611408     490.804555   \n",
       "std        12630.880622          8608.386210          0.802074     342.317995   \n",
       "min            0.000000           181.000000          0.000000       1.000000   \n",
       "25%        18585.000000          9238.000000          0.000000     288.000000   \n",
       "50%        26726.000000         13098.500000          0.000000     455.000000   \n",
       "75%        37273.000000         16293.000000          1.000000     612.000000   \n",
       "max        84869.000000         65968.000000          3.000000    3190.000000   \n",
       "\n",
       "       ponds_around3000  ponds_nearest  days_exposition  \n",
       "count      18181.000000    9110.000000     20518.000000  \n",
       "mean           0.770255     517.980900       180.888634  \n",
       "std            0.938346     277.720643       219.727988  \n",
       "min            0.000000      13.000000         1.000000  \n",
       "25%            0.000000     294.000000        45.000000  \n",
       "50%            1.000000     502.000000        95.000000  \n",
       "75%            1.000000     729.000000       232.000000  \n",
       "max            3.000000    1344.000000      1580.000000  "
      ]
     },
     "execution_count": 3,
     "metadata": {},
     "output_type": "execute_result"
    }
   ],
   "source": [
    "df.describe() #посмотрим описательную статистику"
   ]
  },
  {
   "cell_type": "code",
   "execution_count": 4,
   "metadata": {},
   "outputs": [
    {
     "name": "stdout",
     "output_type": "stream",
     "text": [
      "<class 'pandas.core.frame.DataFrame'>\n",
      "RangeIndex: 23699 entries, 0 to 23698\n",
      "Data columns (total 22 columns):\n",
      " #   Column                Non-Null Count  Dtype  \n",
      "---  ------                --------------  -----  \n",
      " 0   total_images          23699 non-null  int64  \n",
      " 1   last_price            23699 non-null  float64\n",
      " 2   total_area            23699 non-null  float64\n",
      " 3   first_day_exposition  23699 non-null  object \n",
      " 4   rooms                 23699 non-null  int64  \n",
      " 5   ceiling_height        14504 non-null  float64\n",
      " 6   floors_total          23613 non-null  float64\n",
      " 7   living_area           21796 non-null  float64\n",
      " 8   floor                 23699 non-null  int64  \n",
      " 9   is_apartment          2775 non-null   object \n",
      " 10  studio                23699 non-null  bool   \n",
      " 11  open_plan             23699 non-null  bool   \n",
      " 12  kitchen_area          21421 non-null  float64\n",
      " 13  balcony               12180 non-null  float64\n",
      " 14  locality_name         23650 non-null  object \n",
      " 15  airports_nearest      18157 non-null  float64\n",
      " 16  cityCenters_nearest   18180 non-null  float64\n",
      " 17  parks_around3000      18181 non-null  float64\n",
      " 18  parks_nearest         8079 non-null   float64\n",
      " 19  ponds_around3000      18181 non-null  float64\n",
      " 20  ponds_nearest         9110 non-null   float64\n",
      " 21  days_exposition       20518 non-null  float64\n",
      "dtypes: bool(2), float64(14), int64(3), object(3)\n",
      "memory usage: 3.7+ MB\n"
     ]
    }
   ],
   "source": [
    "df.info() #выводим информацию обо всём датафрейме"
   ]
  },
  {
   "cell_type": "code",
   "execution_count": 5,
   "metadata": {},
   "outputs": [
    {
     "data": {
      "image/png": "[encoded data removed]",
      "text/plain": [
       "<Figure size 1080x1440 with 20 Axes>"
      ]
     },
     "metadata": {
      "needs_background": "light"
     },
     "output_type": "display_data"
    }
   ],
   "source": [
    "df.hist(figsize=(15, 20))\n",
    "plt.show()#строим гистрограмму всех показателей датафрема"
   ]
  },
  {
   "cell_type": "markdown",
   "metadata": {},
   "source": [
    "При первичном изучении данных заметно большое количество пропущенных значений.  \n",
    "Также нарушена типизация данных, а именно:  \n",
    "first_day_exposition - должен быть тип datetime.  \n",
    "floors_total - должен быть тип int.  \n",
    "cityCenters_nearest - верхний регистр в названии.  \n",
    "parks_around3000 - тип должен быть int.  \n",
    "ponds_around3000 - тип должен быть int.  \n",
    "days_exposition - тип должен быть int.  \n",
    "last_price - удобнее читать с типом int."
   ]
  },
  {
   "cell_type": "markdown",
   "metadata": {},
   "source": [
    "### Предобработка данных"
   ]
  },
  {
   "cell_type": "code",
   "execution_count": 6,
   "metadata": {
    "scrolled": true
   },
   "outputs": [
    {
     "data": {
      "text/plain": [
       "total_images            0.000000\n",
       "last_price              0.000000\n",
       "total_area              0.000000\n",
       "first_day_exposition    0.000000\n",
       "rooms                   0.000000\n",
       "ceiling_height          0.387991\n",
       "floors_total            0.003629\n",
       "living_area             0.080299\n",
       "floor                   0.000000\n",
       "is_apartment            0.882906\n",
       "studio                  0.000000\n",
       "open_plan               0.000000\n",
       "kitchen_area            0.096122\n",
       "balcony                 0.486054\n",
       "locality_name           0.002068\n",
       "airports_nearest        0.233850\n",
       "cityCenters_nearest     0.232879\n",
       "parks_around3000        0.232837\n",
       "parks_nearest           0.659100\n",
       "ponds_around3000        0.232837\n",
       "ponds_nearest           0.615596\n",
       "days_exposition         0.134225\n",
       "dtype: float64"
      ]
     },
     "execution_count": 6,
     "metadata": {},
     "output_type": "execute_result"
    }
   ],
   "source": [
    "df.isna().mean() #Определим долю пропущенных значений в таблице"
   ]
  },
  {
   "cell_type": "code",
   "execution_count": 7,
   "metadata": {},
   "outputs": [
    {
     "data": {
      "text/plain": [
       "total_images                0\n",
       "last_price                  0\n",
       "total_area                  0\n",
       "first_day_exposition        0\n",
       "rooms                       0\n",
       "ceiling_height           9195\n",
       "floors_total               86\n",
       "living_area              1903\n",
       "floor                       0\n",
       "is_apartment            20924\n",
       "studio                      0\n",
       "open_plan                   0\n",
       "kitchen_area             2278\n",
       "balcony                 11519\n",
       "locality_name              49\n",
       "airports_nearest         5542\n",
       "cityCenters_nearest      5519\n",
       "parks_around3000         5518\n",
       "parks_nearest           15620\n",
       "ponds_around3000         5518\n",
       "ponds_nearest           14589\n",
       "days_exposition          3181\n",
       "dtype: int64"
      ]
     },
     "execution_count": 7,
     "metadata": {},
     "output_type": "execute_result"
    }
   ],
   "source": [
    "df.isna().sum()#Для наглядности выведем кол-во пропусков"
   ]
  },
  {
   "cell_type": "markdown",
   "metadata": {},
   "source": [
    "Причины отсутствия данных в столбцах таблицы:  \n",
    "is_apartment - наибольшее количество пропусков. Пропуск данных может означать, что данное жилое помещение не является аппартаментом.  \n",
    "ceiling_height - важный параметр, столбец необходимо заполнять средними значениями по населённому пункту месторасположения квартиры.  \n",
    "floors_total - важная информация, вероятно при подачи данных не был отмечен обязательным параметром. Постараемся расчитать по местоположению квартиры.  \n",
    "living_area - важная информация, вероятно при подачи данных не был отмечен обязательным параметром.  \n",
    "balcony - пропуск вероятнее всего говорит об отсутствии балконов в квартире.   \n",
    "kitchen_area - пропуски могут быть в квартирах-студиях, где жилая площадь и площадь кухни объеденины.  \n",
    "locality_name - наименьшая доля пропуска данных. Считаю, что заполнять их необходимости нет и можно их удалить, влияние на дальнейший анализ не будет заметен.  \n",
    "airports_nearest - вероятно ближайший аэропорт находится слишком далеко и данные для заполнения были не обязательны.  \n",
    "cityCenters_nearest - вероятно центр города находится слишком далеко или данные для заполнения были не обязательны.  \n",
    "parks_around3000 и ponds_around3000 - возможно парков и водоёмов в радиусе 3км нет.Не считаю нужным удалять и заполнять данные пропуски.  \n",
    "parks_nearest и ponds_nearest - возможно парки и водоёмы слишком далеко, чтобы указывать данных о них. Не считаю нужным удалять и заполнять данные пропуски.  \n",
    "days_exposition - несвоевременная отметка на онлайн-ресурсе о закрытии сделки можем привести к отсутствию данных в данном столбце, так и к слишком большим показателям. Можно заполнить пропуски нулевыми показателями, для дальнейшего анализа не повредит."
   ]
  },
  {
   "cell_type": "code",
   "execution_count": 8,
   "metadata": {
    "scrolled": true
   },
   "outputs": [
    {
     "name": "stdout",
     "output_type": "stream",
     "text": [
      "[   0   81  558 ... 1360 1007  971]\n"
     ]
    }
   ],
   "source": [
    "#Заполняем пропуски days_exposition нулевыми значениями и меняем тип данных\n",
    "df['days_exposition'] = df['days_exposition'].fillna(0).astype('int')\n",
    "print(df['days_exposition'].unique()) #Проверяем изменения по уникальным значениям"
   ]
  },
  {
   "cell_type": "code",
   "execution_count": 9,
   "metadata": {},
   "outputs": [],
   "source": [
    "#Изменим тип столбца с датой в формат даты без времени (время не указано)\n",
    "df['first_day_exposition'] = pd.to_datetime(df['first_day_exposition'], format = '%Y-%m-%d')\n",
    "#Изменим тип столбца с ценой на int\n",
    "df['last_price'] = df['last_price'].astype('int')"
   ]
  },
  {
   "cell_type": "code",
   "execution_count": 10,
   "metadata": {
    "scrolled": true
   },
   "outputs": [
    {
     "name": "stdout",
     "output_type": "stream",
     "text": [
      "[0 2 1 5 4 3]\n"
     ]
    }
   ],
   "source": [
    "#Заполняем пропуски balcony нулевыми значениями и меняем тип данных\n",
    "df['balcony'] = df['balcony'].fillna(0).astype('int')\n",
    "print(df['balcony'].unique()) #Проверяем изменения по уникальным значениям"
   ]
  },
  {
   "cell_type": "code",
   "execution_count": 11,
   "metadata": {},
   "outputs": [
    {
     "name": "stdout",
     "output_type": "stream",
     "text": [
      "[False  True]\n"
     ]
    }
   ],
   "source": [
    "#Заменим пропуски is_apartment значениями False, т.к. вероятно пропуск означает, что помещение - не аппартаменты\n",
    "df['is_apartment'] = df['is_apartment'].fillna(False)\n",
    "print(df['is_apartment'].unique()) #Проверяем изменения по уникальным значениям"
   ]
  },
  {
   "cell_type": "code",
   "execution_count": 12,
   "metadata": {},
   "outputs": [],
   "source": [
    "#Переименнуем столбец с верхним регистром\n",
    "df = df.rename(columns={'cityCenters_nearest' : 'city_centers_nearest'})"
   ]
  },
  {
   "cell_type": "code",
   "execution_count": 13,
   "metadata": {},
   "outputs": [
    {
     "name": "stdout",
     "output_type": "stream",
     "text": [
      "[ 3  1  2  4  5  6  7 11  8 14 10 15  9 19 16 12]\n"
     ]
    }
   ],
   "source": [
    "#Удалим строки, где количество комнат указано 0\n",
    "df.drop(df[df['rooms'] == 0].index, inplace=True)\n",
    "print(df['rooms'].unique()) #Проверяем изменения по уникальным значениям"
   ]
  },
  {
   "cell_type": "code",
   "execution_count": 14,
   "metadata": {},
   "outputs": [
    {
     "name": "stdout",
     "output_type": "stream",
     "text": [
      "[16. 11.  5. 14. 12. 26. 24. 27.  9.  6. 17. 25.  3. 23. 19. 18.  4. 22.\n",
      "  8.  2. 10.  7. 13. 15. 20. 28. 36. 21. 35. 34. 60.  1. 29. 33. 52. 37.]\n"
     ]
    }
   ],
   "source": [
    "#Удалим строки, где не указана этажность дома\n",
    "df.drop(df[df['floors_total'].isnull()].index, inplace=True)\n",
    "print(df['floors_total'].unique()) #Проверяем изменения по уникальным значениям\n",
    "\n",
    "#Изменим тип столбца с кол-вом этажей в доме на int\n",
    "df['floors_total'] = df['floors_total'].astype('int')"
   ]
  },
  {
   "cell_type": "code",
   "execution_count": 15,
   "metadata": {},
   "outputs": [
    {
     "data": {
      "text/plain": [
       "0"
      ]
     },
     "execution_count": 15,
     "metadata": {},
     "output_type": "execute_result"
    }
   ],
   "source": [
    "#Удалим строки без указания населенного пункта\n",
    "df=df.dropna(subset=['locality_name'])\n",
    "df['locality_name'].isna().sum() #Проверяем удаление"
   ]
  },
  {
   "cell_type": "code",
   "execution_count": 16,
   "metadata": {
    "scrolled": true
   },
   "outputs": [
    {
     "name": "stdout",
     "output_type": "stream",
     "text": [
      "Средняя площадь кухни 9.0\n",
      "Средняя жилая площадь 30.2\n",
      "Средняя общая площадь 52.0\n",
      "0\n",
      "0\n",
      "0\n"
     ]
    }
   ],
   "source": [
    "#Заполним пропуски общей площади и площади кухни\n",
    "for i in df['rooms'].unique():\n",
    "    df.loc[(df['total_area'].isna()) & (df['rooms'] == i), 'total_area'] = df[df['rooms'] == i]['total_area'].median()\n",
    "    df.loc[(df['kitchen_area'].isna()) & (df['rooms'] == i), 'kitchen_area'] = df[df['rooms'] == i]['kitchen_area'].median()\n",
    "\n",
    "#Заполним пропуски в жилой площади (из общей площади вычитаем нежилую площадь - примерно 2 кухни)\n",
    "df.loc[df['living_area'].isna(), 'living_area'] = df.loc[df['living_area'].isna(), 'total_area'] - 2 * df.loc[df['living_area'].isna(), 'kitchen_area']\n",
    "    \n",
    "print('Средняя площадь кухни', df['kitchen_area'].median())\n",
    "print('Средняя жилая площадь', df['living_area'].median())\n",
    "print('Средняя общая площадь', df['total_area'].median())\n",
    "\n",
    "print(df['total_area'].isna().sum()) #Проверяем заполнение\n",
    "print(df['kitchen_area'].isna().sum()) #Проверяем заполнение\n",
    "print(df['living_area'].isna().sum()) #Проверяем заполнение"
   ]
  },
  {
   "cell_type": "code",
   "execution_count": 17,
   "metadata": {},
   "outputs": [
    {
     "data": {
      "text/plain": [
       "total_images                0\n",
       "last_price                  0\n",
       "total_area                  0\n",
       "first_day_exposition        0\n",
       "rooms                       0\n",
       "ceiling_height           8972\n",
       "floors_total                0\n",
       "living_area                 0\n",
       "floor                       0\n",
       "is_apartment                0\n",
       "studio                      0\n",
       "open_plan                   0\n",
       "kitchen_area                0\n",
       "balcony                     0\n",
       "locality_name               0\n",
       "airports_nearest         5447\n",
       "city_centers_nearest     5424\n",
       "parks_around3000         5423\n",
       "parks_nearest           15369\n",
       "ponds_around3000         5423\n",
       "ponds_nearest           14403\n",
       "days_exposition             0\n",
       "dtype: int64"
      ]
     },
     "execution_count": 17,
     "metadata": {},
     "output_type": "execute_result"
    }
   ],
   "source": [
    "df.isna().sum()"
   ]
  },
  {
   "cell_type": "code",
   "execution_count": 18,
   "metadata": {},
   "outputs": [],
   "source": [
    "#уменьшим пропуски в столбце airports_nearest заполнив по возможности средним значением по местности\n",
    "for i in df['locality_name'].unique():\n",
    "    df.loc[(df['locality_name'] == i) & (df['airports_nearest'].isna()), 'airports_nearest'] = df.loc[(df['locality_name'] == i), 'airports_nearest'].mean()"
   ]
  },
  {
   "cell_type": "code",
   "execution_count": 19,
   "metadata": {},
   "outputs": [
    {
     "data": {
      "text/plain": [
       "total_images                0\n",
       "last_price                  0\n",
       "total_area                  0\n",
       "first_day_exposition        0\n",
       "rooms                       0\n",
       "ceiling_height           8972\n",
       "floors_total                0\n",
       "living_area                 0\n",
       "floor                       0\n",
       "is_apartment                0\n",
       "studio                      0\n",
       "open_plan                   0\n",
       "kitchen_area                0\n",
       "balcony                     0\n",
       "locality_name               0\n",
       "airports_nearest         5356\n",
       "city_centers_nearest     5424\n",
       "parks_around3000         5423\n",
       "parks_nearest           15369\n",
       "ponds_around3000         5423\n",
       "ponds_nearest           14403\n",
       "days_exposition             0\n",
       "dtype: int64"
      ]
     },
     "execution_count": 19,
     "metadata": {},
     "output_type": "execute_result"
    }
   ],
   "source": [
    "df.isna().sum() #91 пропуск заполнили"
   ]
  },
  {
   "cell_type": "code",
   "execution_count": 20,
   "metadata": {},
   "outputs": [
    {
     "data": {
      "text/plain": [
       "8972"
      ]
     },
     "execution_count": 20,
     "metadata": {},
     "output_type": "execute_result"
    }
   ],
   "source": [
    "df['ceiling_height'].isnull().sum() #посчитаем сколько пропущенных значений с высотой потолков"
   ]
  },
  {
   "cell_type": "code",
   "execution_count": 21,
   "metadata": {},
   "outputs": [],
   "source": [
    "#НАДО ЧТО-ТО СДЕЛАТЬ С ПОТОЛКАМИ, НО ЧТО????"
   ]
  },
  {
   "cell_type": "code",
   "execution_count": 22,
   "metadata": {},
   "outputs": [
    {
     "data": {
      "text/plain": [
       "array([ 2.7 ,   nan,  3.03,  2.5 ,  2.67,  2.56,  3.05,  2.75,  2.6 ,\n",
       "        2.9 ,  2.8 ,  2.55,  3.  ,  2.65,  3.2 ,  2.61,  3.25,  3.45,\n",
       "        2.77,  2.85,  2.64,  2.57,  4.15,  3.5 ,  3.3 ,  2.71,  4.  ,\n",
       "        2.47,  2.73,  2.84,  3.1 ,  2.34,  3.4 ,  3.06,  2.72,  2.54,\n",
       "        2.51,  2.78,  2.76,  2.58,  3.7 ,  2.52,  5.2 ,  2.87,  2.66,\n",
       "        2.59,  2.  ,  2.45,  3.6 ,  2.92,  3.11,  3.13,  3.8 ,  3.15,\n",
       "        3.55,  3.16,  3.62,  3.12,  2.53,  2.74,  2.96,  2.46,  5.3 ,\n",
       "        5.  ,  2.79,  2.95,  4.06,  2.94,  3.82,  3.54,  3.53,  2.83,\n",
       "        4.7 ,  2.4 ,  3.38,  3.01,  5.6 ,  3.65,  3.9 ,  3.18,  3.35,\n",
       "        2.3 ,  3.57,  2.48,  2.62,  2.82,  3.98,  2.63,  3.83,  3.52,\n",
       "        3.95,  3.75,  2.88,  3.67,  3.87,  3.66,  3.85,  3.86,  4.19,\n",
       "        3.24,  4.8 ,  4.5 ,  4.2 ,  3.36,  3.08,  3.68,  3.07,  3.37,\n",
       "        3.09,  8.  ,  3.26,  3.34,  2.81,  3.44,  2.97,  3.14,  4.37,\n",
       "        2.68,  3.22,  3.27,  4.1 ,  2.93,  3.46,  3.47,  3.33,  3.63,\n",
       "        3.32,  1.2 ,  8.3 ,  2.98,  2.86,  3.17,  4.4 ,  3.28,  3.04,\n",
       "        4.45,  5.5 ,  3.84,  3.23,  3.02,  3.21,  3.43,  3.78,  4.3 ,\n",
       "        3.39,  2.69,  3.31,  4.65,  3.56,  2.2 ,  3.51,  3.93,  3.42,\n",
       "        2.99,  3.49,  1.4 ,  4.14,  2.91,  3.88,  1.75,  4.25,  3.29,\n",
       "        2.25,  3.76,  3.69,  6.  ,  2.26,  2.89,  3.58,  2.49,  4.9 ,\n",
       "        3.48,  1.03,  1.  , 10.  ,  3.59])"
      ]
     },
     "execution_count": 22,
     "metadata": {},
     "output_type": "execute_result"
    }
   ],
   "source": [
    "#избавимся от аномально высоких потолков\n",
    "df.loc[df['ceiling_height']>10, 'ceiling_height'] /= 10\n",
    "df['ceiling_height'].unique() #проверяем"
   ]
  },
  {
   "cell_type": "code",
   "execution_count": 23,
   "metadata": {
    "scrolled": true
   },
   "outputs": [
    {
     "data": {
      "text/plain": [
       "в пределах города    12115\n",
       "область               3779\n",
       "центр                 1527\n",
       "самый центр            526\n",
       "Name: fillna_ceiling_height, dtype: int64"
      ]
     },
     "execution_count": 23,
     "metadata": {},
     "output_type": "execute_result"
    }
   ],
   "source": [
    "#напишем функцию, которая позволит объединить квартиры по удалённости от центра для дальнейшего расчёта средней высоты потолков\n",
    "def fillna_ceiling_height(row):\n",
    "    try:\n",
    "        if row['city_centers_nearest'] < 2500:\n",
    "            return 'самый центр'\n",
    "        if row['city_centers_nearest'] < 5000:\n",
    "            return 'центр'\n",
    "        if row['city_centers_nearest'] < 17000:\n",
    "            return 'в пределах города'\n",
    "        if row['city_centers_nearest'] >= 17000:\n",
    "            return 'область'\n",
    "    except:\n",
    "        return 'нет информации'\n",
    "df['fillna_ceiling_height'] = df.apply(fillna_ceiling_height, axis = 1)  \n",
    "df['fillna_ceiling_height'].value_counts()"
   ]
  },
  {
   "cell_type": "code",
   "execution_count": 24,
   "metadata": {},
   "outputs": [
    {
     "data": {
      "text/html": [
       "<div>\n",
       "<style scoped>\n",
       "    .dataframe tbody tr th:only-of-type {\n",
       "        vertical-align: middle;\n",
       "    }\n",
       "\n",
       "    .dataframe tbody tr th {\n",
       "        vertical-align: top;\n",
       "    }\n",
       "\n",
       "    .dataframe thead th {\n",
       "        text-align: right;\n",
       "    }\n",
       "</style>\n",
       "<table border=\"1\" class=\"dataframe\">\n",
       "  <thead>\n",
       "    <tr style=\"text-align: right;\">\n",
       "      <th></th>\n",
       "      <th>locality_name</th>\n",
       "      <th>city_centers_nearest</th>\n",
       "      <th>fillna_ceiling_height</th>\n",
       "      <th>ceiling_height</th>\n",
       "    </tr>\n",
       "  </thead>\n",
       "  <tbody>\n",
       "    <tr>\n",
       "      <th>0</th>\n",
       "      <td>Санкт-Петербург</td>\n",
       "      <td>16028.0</td>\n",
       "      <td>в пределах города</td>\n",
       "      <td>2.70</td>\n",
       "    </tr>\n",
       "    <tr>\n",
       "      <th>1</th>\n",
       "      <td>посёлок Шушары</td>\n",
       "      <td>18603.0</td>\n",
       "      <td>область</td>\n",
       "      <td>NaN</td>\n",
       "    </tr>\n",
       "    <tr>\n",
       "      <th>2</th>\n",
       "      <td>Санкт-Петербург</td>\n",
       "      <td>13933.0</td>\n",
       "      <td>в пределах города</td>\n",
       "      <td>NaN</td>\n",
       "    </tr>\n",
       "    <tr>\n",
       "      <th>3</th>\n",
       "      <td>Санкт-Петербург</td>\n",
       "      <td>6800.0</td>\n",
       "      <td>в пределах города</td>\n",
       "      <td>NaN</td>\n",
       "    </tr>\n",
       "    <tr>\n",
       "      <th>4</th>\n",
       "      <td>Санкт-Петербург</td>\n",
       "      <td>8098.0</td>\n",
       "      <td>в пределах города</td>\n",
       "      <td>3.03</td>\n",
       "    </tr>\n",
       "    <tr>\n",
       "      <th>5</th>\n",
       "      <td>городской посёлок Янино-1</td>\n",
       "      <td>NaN</td>\n",
       "      <td>None</td>\n",
       "      <td>NaN</td>\n",
       "    </tr>\n",
       "    <tr>\n",
       "      <th>6</th>\n",
       "      <td>посёлок Парголово</td>\n",
       "      <td>19143.0</td>\n",
       "      <td>область</td>\n",
       "      <td>NaN</td>\n",
       "    </tr>\n",
       "    <tr>\n",
       "      <th>7</th>\n",
       "      <td>Санкт-Петербург</td>\n",
       "      <td>11634.0</td>\n",
       "      <td>в пределах города</td>\n",
       "      <td>NaN</td>\n",
       "    </tr>\n",
       "    <tr>\n",
       "      <th>8</th>\n",
       "      <td>посёлок Мурино</td>\n",
       "      <td>NaN</td>\n",
       "      <td>None</td>\n",
       "      <td>NaN</td>\n",
       "    </tr>\n",
       "    <tr>\n",
       "      <th>9</th>\n",
       "      <td>Санкт-Петербург</td>\n",
       "      <td>15008.0</td>\n",
       "      <td>в пределах города</td>\n",
       "      <td>2.50</td>\n",
       "    </tr>\n",
       "  </tbody>\n",
       "</table>\n",
       "</div>"
      ],
      "text/plain": [
       "               locality_name  city_centers_nearest fillna_ceiling_height  \\\n",
       "0            Санкт-Петербург               16028.0     в пределах города   \n",
       "1             посёлок Шушары               18603.0               область   \n",
       "2            Санкт-Петербург               13933.0     в пределах города   \n",
       "3            Санкт-Петербург                6800.0     в пределах города   \n",
       "4            Санкт-Петербург                8098.0     в пределах города   \n",
       "5  городской посёлок Янино-1                   NaN                  None   \n",
       "6          посёлок Парголово               19143.0               область   \n",
       "7            Санкт-Петербург               11634.0     в пределах города   \n",
       "8             посёлок Мурино                   NaN                  None   \n",
       "9            Санкт-Петербург               15008.0     в пределах города   \n",
       "\n",
       "   ceiling_height  \n",
       "0            2.70  \n",
       "1             NaN  \n",
       "2             NaN  \n",
       "3             NaN  \n",
       "4            3.03  \n",
       "5             NaN  \n",
       "6             NaN  \n",
       "7             NaN  \n",
       "8             NaN  \n",
       "9            2.50  "
      ]
     },
     "execution_count": 24,
     "metadata": {},
     "output_type": "execute_result"
    }
   ],
   "source": [
    "df[['locality_name', 'city_centers_nearest', 'fillna_ceiling_height', 'ceiling_height']].head(10) #посмотрим, что получилось"
   ]
  },
  {
   "cell_type": "code",
   "execution_count": 25,
   "metadata": {},
   "outputs": [
    {
     "data": {
      "text/html": [
       "<div>\n",
       "<style scoped>\n",
       "    .dataframe tbody tr th:only-of-type {\n",
       "        vertical-align: middle;\n",
       "    }\n",
       "\n",
       "    .dataframe tbody tr th {\n",
       "        vertical-align: top;\n",
       "    }\n",
       "\n",
       "    .dataframe thead th {\n",
       "        text-align: right;\n",
       "    }\n",
       "</style>\n",
       "<table border=\"1\" class=\"dataframe\">\n",
       "  <thead>\n",
       "    <tr style=\"text-align: right;\">\n",
       "      <th></th>\n",
       "      <th>ceiling_height</th>\n",
       "    </tr>\n",
       "    <tr>\n",
       "      <th>fillna_ceiling_height</th>\n",
       "      <th></th>\n",
       "    </tr>\n",
       "  </thead>\n",
       "  <tbody>\n",
       "    <tr>\n",
       "      <th>самый центр</th>\n",
       "      <td>3.235189</td>\n",
       "    </tr>\n",
       "    <tr>\n",
       "      <th>центр</th>\n",
       "      <td>3.136065</td>\n",
       "    </tr>\n",
       "    <tr>\n",
       "      <th>в пределах города</th>\n",
       "      <td>2.704514</td>\n",
       "    </tr>\n",
       "    <tr>\n",
       "      <th>область</th>\n",
       "      <td>2.655883</td>\n",
       "    </tr>\n",
       "  </tbody>\n",
       "</table>\n",
       "</div>"
      ],
      "text/plain": [
       "                       ceiling_height\n",
       "fillna_ceiling_height                \n",
       "самый центр                  3.235189\n",
       "центр                        3.136065\n",
       "в пределах города            2.704514\n",
       "область                      2.655883"
      ]
     },
     "execution_count": 25,
     "metadata": {},
     "output_type": "execute_result"
    }
   ],
   "source": [
    "df.groupby('fillna_ceiling_height')['ceiling_height'].mean().sort_values(ascending=False).to_frame() #считаем среднюю высоты потолков"
   ]
  },
  {
   "cell_type": "code",
   "execution_count": 26,
   "metadata": {},
   "outputs": [],
   "source": [
    "list = ['самый центр', 'центр', 'в пределах города', 'область'] #пишем функию\n",
    "for i in list: #будем присваивать среднее значение (по категориям) высоты потолков объявлениям, где было указано расстояние до центра\n",
    "    value_for_filling = df.groupby('fillna_ceiling_height')['ceiling_height'].mean().get(key=i)\n",
    "    df['ceiling_height'] = df.groupby('fillna_ceiling_height')['ceiling_height'].apply(lambda x: x.fillna(x.mean()))"
   ]
  },
  {
   "cell_type": "code",
   "execution_count": 27,
   "metadata": {},
   "outputs": [
    {
     "data": {
      "text/html": [
       "<div>\n",
       "<style scoped>\n",
       "    .dataframe tbody tr th:only-of-type {\n",
       "        vertical-align: middle;\n",
       "    }\n",
       "\n",
       "    .dataframe tbody tr th {\n",
       "        vertical-align: top;\n",
       "    }\n",
       "\n",
       "    .dataframe thead th {\n",
       "        text-align: right;\n",
       "    }\n",
       "</style>\n",
       "<table border=\"1\" class=\"dataframe\">\n",
       "  <thead>\n",
       "    <tr style=\"text-align: right;\">\n",
       "      <th></th>\n",
       "      <th>locality_name</th>\n",
       "      <th>city_centers_nearest</th>\n",
       "      <th>fillna_ceiling_height</th>\n",
       "      <th>ceiling_height</th>\n",
       "    </tr>\n",
       "  </thead>\n",
       "  <tbody>\n",
       "    <tr>\n",
       "      <th>0</th>\n",
       "      <td>Санкт-Петербург</td>\n",
       "      <td>16028.0</td>\n",
       "      <td>в пределах города</td>\n",
       "      <td>2.700000</td>\n",
       "    </tr>\n",
       "    <tr>\n",
       "      <th>1</th>\n",
       "      <td>посёлок Шушары</td>\n",
       "      <td>18603.0</td>\n",
       "      <td>область</td>\n",
       "      <td>2.655883</td>\n",
       "    </tr>\n",
       "    <tr>\n",
       "      <th>2</th>\n",
       "      <td>Санкт-Петербург</td>\n",
       "      <td>13933.0</td>\n",
       "      <td>в пределах города</td>\n",
       "      <td>2.704514</td>\n",
       "    </tr>\n",
       "    <tr>\n",
       "      <th>3</th>\n",
       "      <td>Санкт-Петербург</td>\n",
       "      <td>6800.0</td>\n",
       "      <td>в пределах города</td>\n",
       "      <td>2.704514</td>\n",
       "    </tr>\n",
       "    <tr>\n",
       "      <th>4</th>\n",
       "      <td>Санкт-Петербург</td>\n",
       "      <td>8098.0</td>\n",
       "      <td>в пределах города</td>\n",
       "      <td>3.030000</td>\n",
       "    </tr>\n",
       "    <tr>\n",
       "      <th>5</th>\n",
       "      <td>городской посёлок Янино-1</td>\n",
       "      <td>NaN</td>\n",
       "      <td>None</td>\n",
       "      <td>NaN</td>\n",
       "    </tr>\n",
       "    <tr>\n",
       "      <th>6</th>\n",
       "      <td>посёлок Парголово</td>\n",
       "      <td>19143.0</td>\n",
       "      <td>область</td>\n",
       "      <td>2.655883</td>\n",
       "    </tr>\n",
       "    <tr>\n",
       "      <th>7</th>\n",
       "      <td>Санкт-Петербург</td>\n",
       "      <td>11634.0</td>\n",
       "      <td>в пределах города</td>\n",
       "      <td>2.704514</td>\n",
       "    </tr>\n",
       "    <tr>\n",
       "      <th>8</th>\n",
       "      <td>посёлок Мурино</td>\n",
       "      <td>NaN</td>\n",
       "      <td>None</td>\n",
       "      <td>NaN</td>\n",
       "    </tr>\n",
       "    <tr>\n",
       "      <th>9</th>\n",
       "      <td>Санкт-Петербург</td>\n",
       "      <td>15008.0</td>\n",
       "      <td>в пределах города</td>\n",
       "      <td>2.500000</td>\n",
       "    </tr>\n",
       "  </tbody>\n",
       "</table>\n",
       "</div>"
      ],
      "text/plain": [
       "               locality_name  city_centers_nearest fillna_ceiling_height  \\\n",
       "0            Санкт-Петербург               16028.0     в пределах города   \n",
       "1             посёлок Шушары               18603.0               область   \n",
       "2            Санкт-Петербург               13933.0     в пределах города   \n",
       "3            Санкт-Петербург                6800.0     в пределах города   \n",
       "4            Санкт-Петербург                8098.0     в пределах города   \n",
       "5  городской посёлок Янино-1                   NaN                  None   \n",
       "6          посёлок Парголово               19143.0               область   \n",
       "7            Санкт-Петербург               11634.0     в пределах города   \n",
       "8             посёлок Мурино                   NaN                  None   \n",
       "9            Санкт-Петербург               15008.0     в пределах города   \n",
       "\n",
       "   ceiling_height  \n",
       "0        2.700000  \n",
       "1        2.655883  \n",
       "2        2.704514  \n",
       "3        2.704514  \n",
       "4        3.030000  \n",
       "5             NaN  \n",
       "6        2.655883  \n",
       "7        2.704514  \n",
       "8             NaN  \n",
       "9        2.500000  "
      ]
     },
     "execution_count": 27,
     "metadata": {},
     "output_type": "execute_result"
    }
   ],
   "source": [
    "df[['locality_name', 'city_centers_nearest', 'fillna_ceiling_height', 'ceiling_height']].head(10) #проверяем присвоение"
   ]
  },
  {
   "cell_type": "code",
   "execution_count": 28,
   "metadata": {},
   "outputs": [
    {
     "data": {
      "text/plain": [
       "5424"
      ]
     },
     "execution_count": 28,
     "metadata": {},
     "output_type": "execute_result"
    }
   ],
   "source": [
    "#Работает! Я полтора дня не могла это сделать! Ура! Ура! Ура!\n",
    "df['ceiling_height'].isnull().sum()"
   ]
  },
  {
   "cell_type": "code",
   "execution_count": 29,
   "metadata": {},
   "outputs": [
    {
     "name": "stderr",
     "output_type": "stream",
     "text": [
      "/opt/conda/lib/python3.9/site-packages/numpy/lib/nanfunctions.py:1117: RuntimeWarning: Mean of empty slice\n",
      "  return np.nanmean(a, axis, out=out, keepdims=keepdims)\n",
      "/opt/conda/lib/python3.9/site-packages/numpy/lib/nanfunctions.py:1117: RuntimeWarning: Mean of empty slice\n",
      "  return np.nanmean(a, axis, out=out, keepdims=keepdims)\n",
      "/opt/conda/lib/python3.9/site-packages/numpy/lib/nanfunctions.py:1117: RuntimeWarning: Mean of empty slice\n",
      "  return np.nanmean(a, axis, out=out, keepdims=keepdims)\n",
      "/opt/conda/lib/python3.9/site-packages/numpy/lib/nanfunctions.py:1117: RuntimeWarning: Mean of empty slice\n",
      "  return np.nanmean(a, axis, out=out, keepdims=keepdims)\n",
      "/opt/conda/lib/python3.9/site-packages/numpy/lib/nanfunctions.py:1117: RuntimeWarning: Mean of empty slice\n",
      "  return np.nanmean(a, axis, out=out, keepdims=keepdims)\n",
      "/opt/conda/lib/python3.9/site-packages/numpy/lib/nanfunctions.py:1117: RuntimeWarning: Mean of empty slice\n",
      "  return np.nanmean(a, axis, out=out, keepdims=keepdims)\n",
      "/opt/conda/lib/python3.9/site-packages/numpy/lib/nanfunctions.py:1117: RuntimeWarning: Mean of empty slice\n",
      "  return np.nanmean(a, axis, out=out, keepdims=keepdims)\n",
      "/opt/conda/lib/python3.9/site-packages/numpy/lib/nanfunctions.py:1117: RuntimeWarning: Mean of empty slice\n",
      "  return np.nanmean(a, axis, out=out, keepdims=keepdims)\n",
      "/opt/conda/lib/python3.9/site-packages/numpy/lib/nanfunctions.py:1117: RuntimeWarning: Mean of empty slice\n",
      "  return np.nanmean(a, axis, out=out, keepdims=keepdims)\n",
      "/opt/conda/lib/python3.9/site-packages/numpy/lib/nanfunctions.py:1117: RuntimeWarning: Mean of empty slice\n",
      "  return np.nanmean(a, axis, out=out, keepdims=keepdims)\n",
      "/opt/conda/lib/python3.9/site-packages/numpy/lib/nanfunctions.py:1117: RuntimeWarning: Mean of empty slice\n",
      "  return np.nanmean(a, axis, out=out, keepdims=keepdims)\n",
      "/opt/conda/lib/python3.9/site-packages/numpy/lib/nanfunctions.py:1117: RuntimeWarning: Mean of empty slice\n",
      "  return np.nanmean(a, axis, out=out, keepdims=keepdims)\n",
      "/opt/conda/lib/python3.9/site-packages/numpy/lib/nanfunctions.py:1117: RuntimeWarning: Mean of empty slice\n",
      "  return np.nanmean(a, axis, out=out, keepdims=keepdims)\n",
      "/opt/conda/lib/python3.9/site-packages/numpy/lib/nanfunctions.py:1117: RuntimeWarning: Mean of empty slice\n",
      "  return np.nanmean(a, axis, out=out, keepdims=keepdims)\n",
      "/opt/conda/lib/python3.9/site-packages/numpy/lib/nanfunctions.py:1117: RuntimeWarning: Mean of empty slice\n",
      "  return np.nanmean(a, axis, out=out, keepdims=keepdims)\n",
      "/opt/conda/lib/python3.9/site-packages/numpy/lib/nanfunctions.py:1117: RuntimeWarning: Mean of empty slice\n",
      "  return np.nanmean(a, axis, out=out, keepdims=keepdims)\n",
      "/opt/conda/lib/python3.9/site-packages/numpy/lib/nanfunctions.py:1117: RuntimeWarning: Mean of empty slice\n",
      "  return np.nanmean(a, axis, out=out, keepdims=keepdims)\n",
      "/opt/conda/lib/python3.9/site-packages/numpy/lib/nanfunctions.py:1117: RuntimeWarning: Mean of empty slice\n",
      "  return np.nanmean(a, axis, out=out, keepdims=keepdims)\n",
      "/opt/conda/lib/python3.9/site-packages/numpy/lib/nanfunctions.py:1117: RuntimeWarning: Mean of empty slice\n",
      "  return np.nanmean(a, axis, out=out, keepdims=keepdims)\n",
      "/opt/conda/lib/python3.9/site-packages/numpy/lib/nanfunctions.py:1117: RuntimeWarning: Mean of empty slice\n",
      "  return np.nanmean(a, axis, out=out, keepdims=keepdims)\n",
      "/opt/conda/lib/python3.9/site-packages/numpy/lib/nanfunctions.py:1117: RuntimeWarning: Mean of empty slice\n",
      "  return np.nanmean(a, axis, out=out, keepdims=keepdims)\n",
      "/opt/conda/lib/python3.9/site-packages/numpy/lib/nanfunctions.py:1117: RuntimeWarning: Mean of empty slice\n",
      "  return np.nanmean(a, axis, out=out, keepdims=keepdims)\n",
      "/opt/conda/lib/python3.9/site-packages/numpy/lib/nanfunctions.py:1117: RuntimeWarning: Mean of empty slice\n",
      "  return np.nanmean(a, axis, out=out, keepdims=keepdims)\n",
      "/opt/conda/lib/python3.9/site-packages/numpy/lib/nanfunctions.py:1117: RuntimeWarning: Mean of empty slice\n",
      "  return np.nanmean(a, axis, out=out, keepdims=keepdims)\n",
      "/opt/conda/lib/python3.9/site-packages/numpy/lib/nanfunctions.py:1117: RuntimeWarning: Mean of empty slice\n",
      "  return np.nanmean(a, axis, out=out, keepdims=keepdims)\n",
      "/opt/conda/lib/python3.9/site-packages/numpy/lib/nanfunctions.py:1117: RuntimeWarning: Mean of empty slice\n",
      "  return np.nanmean(a, axis, out=out, keepdims=keepdims)\n",
      "/opt/conda/lib/python3.9/site-packages/numpy/lib/nanfunctions.py:1117: RuntimeWarning: Mean of empty slice\n",
      "  return np.nanmean(a, axis, out=out, keepdims=keepdims)\n",
      "/opt/conda/lib/python3.9/site-packages/numpy/lib/nanfunctions.py:1117: RuntimeWarning: Mean of empty slice\n",
      "  return np.nanmean(a, axis, out=out, keepdims=keepdims)\n",
      "/opt/conda/lib/python3.9/site-packages/numpy/lib/nanfunctions.py:1117: RuntimeWarning: Mean of empty slice\n",
      "  return np.nanmean(a, axis, out=out, keepdims=keepdims)\n",
      "/opt/conda/lib/python3.9/site-packages/numpy/lib/nanfunctions.py:1117: RuntimeWarning: Mean of empty slice\n",
      "  return np.nanmean(a, axis, out=out, keepdims=keepdims)\n",
      "/opt/conda/lib/python3.9/site-packages/numpy/lib/nanfunctions.py:1117: RuntimeWarning: Mean of empty slice\n",
      "  return np.nanmean(a, axis, out=out, keepdims=keepdims)\n",
      "/opt/conda/lib/python3.9/site-packages/numpy/lib/nanfunctions.py:1117: RuntimeWarning: Mean of empty slice\n",
      "  return np.nanmean(a, axis, out=out, keepdims=keepdims)\n",
      "/opt/conda/lib/python3.9/site-packages/numpy/lib/nanfunctions.py:1117: RuntimeWarning: Mean of empty slice\n",
      "  return np.nanmean(a, axis, out=out, keepdims=keepdims)\n",
      "/opt/conda/lib/python3.9/site-packages/numpy/lib/nanfunctions.py:1117: RuntimeWarning: Mean of empty slice\n",
      "  return np.nanmean(a, axis, out=out, keepdims=keepdims)\n",
      "/opt/conda/lib/python3.9/site-packages/numpy/lib/nanfunctions.py:1117: RuntimeWarning: Mean of empty slice\n",
      "  return np.nanmean(a, axis, out=out, keepdims=keepdims)\n",
      "/opt/conda/lib/python3.9/site-packages/numpy/lib/nanfunctions.py:1117: RuntimeWarning: Mean of empty slice\n",
      "  return np.nanmean(a, axis, out=out, keepdims=keepdims)\n",
      "/opt/conda/lib/python3.9/site-packages/numpy/lib/nanfunctions.py:1117: RuntimeWarning: Mean of empty slice\n",
      "  return np.nanmean(a, axis, out=out, keepdims=keepdims)\n",
      "/opt/conda/lib/python3.9/site-packages/numpy/lib/nanfunctions.py:1117: RuntimeWarning: Mean of empty slice\n",
      "  return np.nanmean(a, axis, out=out, keepdims=keepdims)\n",
      "/opt/conda/lib/python3.9/site-packages/numpy/lib/nanfunctions.py:1117: RuntimeWarning: Mean of empty slice\n",
      "  return np.nanmean(a, axis, out=out, keepdims=keepdims)\n",
      "/opt/conda/lib/python3.9/site-packages/numpy/lib/nanfunctions.py:1117: RuntimeWarning: Mean of empty slice\n",
      "  return np.nanmean(a, axis, out=out, keepdims=keepdims)\n",
      "/opt/conda/lib/python3.9/site-packages/numpy/lib/nanfunctions.py:1117: RuntimeWarning: Mean of empty slice\n",
      "  return np.nanmean(a, axis, out=out, keepdims=keepdims)\n",
      "/opt/conda/lib/python3.9/site-packages/numpy/lib/nanfunctions.py:1117: RuntimeWarning: Mean of empty slice\n",
      "  return np.nanmean(a, axis, out=out, keepdims=keepdims)\n",
      "/opt/conda/lib/python3.9/site-packages/numpy/lib/nanfunctions.py:1117: RuntimeWarning: Mean of empty slice\n",
      "  return np.nanmean(a, axis, out=out, keepdims=keepdims)\n",
      "/opt/conda/lib/python3.9/site-packages/numpy/lib/nanfunctions.py:1117: RuntimeWarning: Mean of empty slice\n",
      "  return np.nanmean(a, axis, out=out, keepdims=keepdims)\n",
      "/opt/conda/lib/python3.9/site-packages/numpy/lib/nanfunctions.py:1117: RuntimeWarning: Mean of empty slice\n",
      "  return np.nanmean(a, axis, out=out, keepdims=keepdims)\n",
      "/opt/conda/lib/python3.9/site-packages/numpy/lib/nanfunctions.py:1117: RuntimeWarning: Mean of empty slice\n",
      "  return np.nanmean(a, axis, out=out, keepdims=keepdims)\n",
      "/opt/conda/lib/python3.9/site-packages/numpy/lib/nanfunctions.py:1117: RuntimeWarning: Mean of empty slice\n",
      "  return np.nanmean(a, axis, out=out, keepdims=keepdims)\n",
      "/opt/conda/lib/python3.9/site-packages/numpy/lib/nanfunctions.py:1117: RuntimeWarning: Mean of empty slice\n",
      "  return np.nanmean(a, axis, out=out, keepdims=keepdims)\n",
      "/opt/conda/lib/python3.9/site-packages/numpy/lib/nanfunctions.py:1117: RuntimeWarning: Mean of empty slice\n",
      "  return np.nanmean(a, axis, out=out, keepdims=keepdims)\n",
      "/opt/conda/lib/python3.9/site-packages/numpy/lib/nanfunctions.py:1117: RuntimeWarning: Mean of empty slice\n",
      "  return np.nanmean(a, axis, out=out, keepdims=keepdims)\n",
      "/opt/conda/lib/python3.9/site-packages/numpy/lib/nanfunctions.py:1117: RuntimeWarning: Mean of empty slice\n",
      "  return np.nanmean(a, axis, out=out, keepdims=keepdims)\n",
      "/opt/conda/lib/python3.9/site-packages/numpy/lib/nanfunctions.py:1117: RuntimeWarning: Mean of empty slice\n",
      "  return np.nanmean(a, axis, out=out, keepdims=keepdims)\n",
      "/opt/conda/lib/python3.9/site-packages/numpy/lib/nanfunctions.py:1117: RuntimeWarning: Mean of empty slice\n",
      "  return np.nanmean(a, axis, out=out, keepdims=keepdims)\n",
      "/opt/conda/lib/python3.9/site-packages/numpy/lib/nanfunctions.py:1117: RuntimeWarning: Mean of empty slice\n",
      "  return np.nanmean(a, axis, out=out, keepdims=keepdims)\n",
      "/opt/conda/lib/python3.9/site-packages/numpy/lib/nanfunctions.py:1117: RuntimeWarning: Mean of empty slice\n",
      "  return np.nanmean(a, axis, out=out, keepdims=keepdims)\n",
      "/opt/conda/lib/python3.9/site-packages/numpy/lib/nanfunctions.py:1117: RuntimeWarning: Mean of empty slice\n",
      "  return np.nanmean(a, axis, out=out, keepdims=keepdims)\n",
      "/opt/conda/lib/python3.9/site-packages/numpy/lib/nanfunctions.py:1117: RuntimeWarning: Mean of empty slice\n",
      "  return np.nanmean(a, axis, out=out, keepdims=keepdims)\n",
      "/opt/conda/lib/python3.9/site-packages/numpy/lib/nanfunctions.py:1117: RuntimeWarning: Mean of empty slice\n",
      "  return np.nanmean(a, axis, out=out, keepdims=keepdims)\n",
      "/opt/conda/lib/python3.9/site-packages/numpy/lib/nanfunctions.py:1117: RuntimeWarning: Mean of empty slice\n",
      "  return np.nanmean(a, axis, out=out, keepdims=keepdims)\n",
      "/opt/conda/lib/python3.9/site-packages/numpy/lib/nanfunctions.py:1117: RuntimeWarning: Mean of empty slice\n",
      "  return np.nanmean(a, axis, out=out, keepdims=keepdims)\n",
      "/opt/conda/lib/python3.9/site-packages/numpy/lib/nanfunctions.py:1117: RuntimeWarning: Mean of empty slice\n",
      "  return np.nanmean(a, axis, out=out, keepdims=keepdims)\n",
      "/opt/conda/lib/python3.9/site-packages/numpy/lib/nanfunctions.py:1117: RuntimeWarning: Mean of empty slice\n",
      "  return np.nanmean(a, axis, out=out, keepdims=keepdims)\n",
      "/opt/conda/lib/python3.9/site-packages/numpy/lib/nanfunctions.py:1117: RuntimeWarning: Mean of empty slice\n",
      "  return np.nanmean(a, axis, out=out, keepdims=keepdims)\n",
      "/opt/conda/lib/python3.9/site-packages/numpy/lib/nanfunctions.py:1117: RuntimeWarning: Mean of empty slice\n",
      "  return np.nanmean(a, axis, out=out, keepdims=keepdims)\n",
      "/opt/conda/lib/python3.9/site-packages/numpy/lib/nanfunctions.py:1117: RuntimeWarning: Mean of empty slice\n",
      "  return np.nanmean(a, axis, out=out, keepdims=keepdims)\n",
      "/opt/conda/lib/python3.9/site-packages/numpy/lib/nanfunctions.py:1117: RuntimeWarning: Mean of empty slice\n",
      "  return np.nanmean(a, axis, out=out, keepdims=keepdims)\n",
      "/opt/conda/lib/python3.9/site-packages/numpy/lib/nanfunctions.py:1117: RuntimeWarning: Mean of empty slice\n",
      "  return np.nanmean(a, axis, out=out, keepdims=keepdims)\n",
      "/opt/conda/lib/python3.9/site-packages/numpy/lib/nanfunctions.py:1117: RuntimeWarning: Mean of empty slice\n",
      "  return np.nanmean(a, axis, out=out, keepdims=keepdims)\n",
      "/opt/conda/lib/python3.9/site-packages/numpy/lib/nanfunctions.py:1117: RuntimeWarning: Mean of empty slice\n",
      "  return np.nanmean(a, axis, out=out, keepdims=keepdims)\n",
      "/opt/conda/lib/python3.9/site-packages/numpy/lib/nanfunctions.py:1117: RuntimeWarning: Mean of empty slice\n",
      "  return np.nanmean(a, axis, out=out, keepdims=keepdims)\n",
      "/opt/conda/lib/python3.9/site-packages/numpy/lib/nanfunctions.py:1117: RuntimeWarning: Mean of empty slice\n",
      "  return np.nanmean(a, axis, out=out, keepdims=keepdims)\n",
      "/opt/conda/lib/python3.9/site-packages/numpy/lib/nanfunctions.py:1117: RuntimeWarning: Mean of empty slice\n",
      "  return np.nanmean(a, axis, out=out, keepdims=keepdims)\n",
      "/opt/conda/lib/python3.9/site-packages/numpy/lib/nanfunctions.py:1117: RuntimeWarning: Mean of empty slice\n",
      "  return np.nanmean(a, axis, out=out, keepdims=keepdims)\n",
      "/opt/conda/lib/python3.9/site-packages/numpy/lib/nanfunctions.py:1117: RuntimeWarning: Mean of empty slice\n",
      "  return np.nanmean(a, axis, out=out, keepdims=keepdims)\n",
      "/opt/conda/lib/python3.9/site-packages/numpy/lib/nanfunctions.py:1117: RuntimeWarning: Mean of empty slice\n",
      "  return np.nanmean(a, axis, out=out, keepdims=keepdims)\n",
      "/opt/conda/lib/python3.9/site-packages/numpy/lib/nanfunctions.py:1117: RuntimeWarning: Mean of empty slice\n",
      "  return np.nanmean(a, axis, out=out, keepdims=keepdims)\n",
      "/opt/conda/lib/python3.9/site-packages/numpy/lib/nanfunctions.py:1117: RuntimeWarning: Mean of empty slice\n",
      "  return np.nanmean(a, axis, out=out, keepdims=keepdims)\n",
      "/opt/conda/lib/python3.9/site-packages/numpy/lib/nanfunctions.py:1117: RuntimeWarning: Mean of empty slice\n",
      "  return np.nanmean(a, axis, out=out, keepdims=keepdims)\n",
      "/opt/conda/lib/python3.9/site-packages/numpy/lib/nanfunctions.py:1117: RuntimeWarning: Mean of empty slice\n",
      "  return np.nanmean(a, axis, out=out, keepdims=keepdims)\n",
      "/opt/conda/lib/python3.9/site-packages/numpy/lib/nanfunctions.py:1117: RuntimeWarning: Mean of empty slice\n",
      "  return np.nanmean(a, axis, out=out, keepdims=keepdims)\n",
      "/opt/conda/lib/python3.9/site-packages/numpy/lib/nanfunctions.py:1117: RuntimeWarning: Mean of empty slice\n",
      "  return np.nanmean(a, axis, out=out, keepdims=keepdims)\n",
      "/opt/conda/lib/python3.9/site-packages/numpy/lib/nanfunctions.py:1117: RuntimeWarning: Mean of empty slice\n",
      "  return np.nanmean(a, axis, out=out, keepdims=keepdims)\n",
      "/opt/conda/lib/python3.9/site-packages/numpy/lib/nanfunctions.py:1117: RuntimeWarning: Mean of empty slice\n",
      "  return np.nanmean(a, axis, out=out, keepdims=keepdims)\n",
      "/opt/conda/lib/python3.9/site-packages/numpy/lib/nanfunctions.py:1117: RuntimeWarning: Mean of empty slice\n",
      "  return np.nanmean(a, axis, out=out, keepdims=keepdims)\n",
      "/opt/conda/lib/python3.9/site-packages/numpy/lib/nanfunctions.py:1117: RuntimeWarning: Mean of empty slice\n",
      "  return np.nanmean(a, axis, out=out, keepdims=keepdims)\n",
      "/opt/conda/lib/python3.9/site-packages/numpy/lib/nanfunctions.py:1117: RuntimeWarning: Mean of empty slice\n",
      "  return np.nanmean(a, axis, out=out, keepdims=keepdims)\n",
      "/opt/conda/lib/python3.9/site-packages/numpy/lib/nanfunctions.py:1117: RuntimeWarning: Mean of empty slice\n",
      "  return np.nanmean(a, axis, out=out, keepdims=keepdims)\n",
      "/opt/conda/lib/python3.9/site-packages/numpy/lib/nanfunctions.py:1117: RuntimeWarning: Mean of empty slice\n",
      "  return np.nanmean(a, axis, out=out, keepdims=keepdims)\n",
      "/opt/conda/lib/python3.9/site-packages/numpy/lib/nanfunctions.py:1117: RuntimeWarning: Mean of empty slice\n",
      "  return np.nanmean(a, axis, out=out, keepdims=keepdims)\n",
      "/opt/conda/lib/python3.9/site-packages/numpy/lib/nanfunctions.py:1117: RuntimeWarning: Mean of empty slice\n",
      "  return np.nanmean(a, axis, out=out, keepdims=keepdims)\n",
      "/opt/conda/lib/python3.9/site-packages/numpy/lib/nanfunctions.py:1117: RuntimeWarning: Mean of empty slice\n",
      "  return np.nanmean(a, axis, out=out, keepdims=keepdims)\n",
      "/opt/conda/lib/python3.9/site-packages/numpy/lib/nanfunctions.py:1117: RuntimeWarning: Mean of empty slice\n",
      "  return np.nanmean(a, axis, out=out, keepdims=keepdims)\n",
      "/opt/conda/lib/python3.9/site-packages/numpy/lib/nanfunctions.py:1117: RuntimeWarning: Mean of empty slice\n",
      "  return np.nanmean(a, axis, out=out, keepdims=keepdims)\n",
      "/opt/conda/lib/python3.9/site-packages/numpy/lib/nanfunctions.py:1117: RuntimeWarning: Mean of empty slice\n",
      "  return np.nanmean(a, axis, out=out, keepdims=keepdims)\n",
      "/opt/conda/lib/python3.9/site-packages/numpy/lib/nanfunctions.py:1117: RuntimeWarning: Mean of empty slice\n",
      "  return np.nanmean(a, axis, out=out, keepdims=keepdims)\n",
      "/opt/conda/lib/python3.9/site-packages/numpy/lib/nanfunctions.py:1117: RuntimeWarning: Mean of empty slice\n",
      "  return np.nanmean(a, axis, out=out, keepdims=keepdims)\n",
      "/opt/conda/lib/python3.9/site-packages/numpy/lib/nanfunctions.py:1117: RuntimeWarning: Mean of empty slice\n",
      "  return np.nanmean(a, axis, out=out, keepdims=keepdims)\n",
      "/opt/conda/lib/python3.9/site-packages/numpy/lib/nanfunctions.py:1117: RuntimeWarning: Mean of empty slice\n",
      "  return np.nanmean(a, axis, out=out, keepdims=keepdims)\n",
      "/opt/conda/lib/python3.9/site-packages/numpy/lib/nanfunctions.py:1117: RuntimeWarning: Mean of empty slice\n",
      "  return np.nanmean(a, axis, out=out, keepdims=keepdims)\n",
      "/opt/conda/lib/python3.9/site-packages/numpy/lib/nanfunctions.py:1117: RuntimeWarning: Mean of empty slice\n",
      "  return np.nanmean(a, axis, out=out, keepdims=keepdims)\n",
      "/opt/conda/lib/python3.9/site-packages/numpy/lib/nanfunctions.py:1117: RuntimeWarning: Mean of empty slice\n",
      "  return np.nanmean(a, axis, out=out, keepdims=keepdims)\n",
      "/opt/conda/lib/python3.9/site-packages/numpy/lib/nanfunctions.py:1117: RuntimeWarning: Mean of empty slice\n",
      "  return np.nanmean(a, axis, out=out, keepdims=keepdims)\n",
      "/opt/conda/lib/python3.9/site-packages/numpy/lib/nanfunctions.py:1117: RuntimeWarning: Mean of empty slice\n",
      "  return np.nanmean(a, axis, out=out, keepdims=keepdims)\n",
      "/opt/conda/lib/python3.9/site-packages/numpy/lib/nanfunctions.py:1117: RuntimeWarning: Mean of empty slice\n",
      "  return np.nanmean(a, axis, out=out, keepdims=keepdims)\n",
      "/opt/conda/lib/python3.9/site-packages/numpy/lib/nanfunctions.py:1117: RuntimeWarning: Mean of empty slice\n",
      "  return np.nanmean(a, axis, out=out, keepdims=keepdims)\n",
      "/opt/conda/lib/python3.9/site-packages/numpy/lib/nanfunctions.py:1117: RuntimeWarning: Mean of empty slice\n",
      "  return np.nanmean(a, axis, out=out, keepdims=keepdims)\n",
      "/opt/conda/lib/python3.9/site-packages/numpy/lib/nanfunctions.py:1117: RuntimeWarning: Mean of empty slice\n",
      "  return np.nanmean(a, axis, out=out, keepdims=keepdims)\n",
      "/opt/conda/lib/python3.9/site-packages/numpy/lib/nanfunctions.py:1117: RuntimeWarning: Mean of empty slice\n",
      "  return np.nanmean(a, axis, out=out, keepdims=keepdims)\n",
      "/opt/conda/lib/python3.9/site-packages/numpy/lib/nanfunctions.py:1117: RuntimeWarning: Mean of empty slice\n",
      "  return np.nanmean(a, axis, out=out, keepdims=keepdims)\n",
      "/opt/conda/lib/python3.9/site-packages/numpy/lib/nanfunctions.py:1117: RuntimeWarning: Mean of empty slice\n",
      "  return np.nanmean(a, axis, out=out, keepdims=keepdims)\n",
      "/opt/conda/lib/python3.9/site-packages/numpy/lib/nanfunctions.py:1117: RuntimeWarning: Mean of empty slice\n",
      "  return np.nanmean(a, axis, out=out, keepdims=keepdims)\n",
      "/opt/conda/lib/python3.9/site-packages/numpy/lib/nanfunctions.py:1117: RuntimeWarning: Mean of empty slice\n",
      "  return np.nanmean(a, axis, out=out, keepdims=keepdims)\n",
      "/opt/conda/lib/python3.9/site-packages/numpy/lib/nanfunctions.py:1117: RuntimeWarning: Mean of empty slice\n",
      "  return np.nanmean(a, axis, out=out, keepdims=keepdims)\n",
      "/opt/conda/lib/python3.9/site-packages/numpy/lib/nanfunctions.py:1117: RuntimeWarning: Mean of empty slice\n",
      "  return np.nanmean(a, axis, out=out, keepdims=keepdims)\n",
      "/opt/conda/lib/python3.9/site-packages/numpy/lib/nanfunctions.py:1117: RuntimeWarning: Mean of empty slice\n",
      "  return np.nanmean(a, axis, out=out, keepdims=keepdims)\n",
      "/opt/conda/lib/python3.9/site-packages/numpy/lib/nanfunctions.py:1117: RuntimeWarning: Mean of empty slice\n",
      "  return np.nanmean(a, axis, out=out, keepdims=keepdims)\n",
      "/opt/conda/lib/python3.9/site-packages/numpy/lib/nanfunctions.py:1117: RuntimeWarning: Mean of empty slice\n",
      "  return np.nanmean(a, axis, out=out, keepdims=keepdims)\n",
      "/opt/conda/lib/python3.9/site-packages/numpy/lib/nanfunctions.py:1117: RuntimeWarning: Mean of empty slice\n",
      "  return np.nanmean(a, axis, out=out, keepdims=keepdims)\n",
      "/opt/conda/lib/python3.9/site-packages/numpy/lib/nanfunctions.py:1117: RuntimeWarning: Mean of empty slice\n",
      "  return np.nanmean(a, axis, out=out, keepdims=keepdims)\n",
      "/opt/conda/lib/python3.9/site-packages/numpy/lib/nanfunctions.py:1117: RuntimeWarning: Mean of empty slice\n",
      "  return np.nanmean(a, axis, out=out, keepdims=keepdims)\n",
      "/opt/conda/lib/python3.9/site-packages/numpy/lib/nanfunctions.py:1117: RuntimeWarning: Mean of empty slice\n",
      "  return np.nanmean(a, axis, out=out, keepdims=keepdims)\n",
      "/opt/conda/lib/python3.9/site-packages/numpy/lib/nanfunctions.py:1117: RuntimeWarning: Mean of empty slice\n",
      "  return np.nanmean(a, axis, out=out, keepdims=keepdims)\n",
      "/opt/conda/lib/python3.9/site-packages/numpy/lib/nanfunctions.py:1117: RuntimeWarning: Mean of empty slice\n",
      "  return np.nanmean(a, axis, out=out, keepdims=keepdims)\n",
      "/opt/conda/lib/python3.9/site-packages/numpy/lib/nanfunctions.py:1117: RuntimeWarning: Mean of empty slice\n",
      "  return np.nanmean(a, axis, out=out, keepdims=keepdims)\n",
      "/opt/conda/lib/python3.9/site-packages/numpy/lib/nanfunctions.py:1117: RuntimeWarning: Mean of empty slice\n",
      "  return np.nanmean(a, axis, out=out, keepdims=keepdims)\n",
      "/opt/conda/lib/python3.9/site-packages/numpy/lib/nanfunctions.py:1117: RuntimeWarning: Mean of empty slice\n",
      "  return np.nanmean(a, axis, out=out, keepdims=keepdims)\n",
      "/opt/conda/lib/python3.9/site-packages/numpy/lib/nanfunctions.py:1117: RuntimeWarning: Mean of empty slice\n",
      "  return np.nanmean(a, axis, out=out, keepdims=keepdims)\n",
      "/opt/conda/lib/python3.9/site-packages/numpy/lib/nanfunctions.py:1117: RuntimeWarning: Mean of empty slice\n",
      "  return np.nanmean(a, axis, out=out, keepdims=keepdims)\n",
      "/opt/conda/lib/python3.9/site-packages/numpy/lib/nanfunctions.py:1117: RuntimeWarning: Mean of empty slice\n",
      "  return np.nanmean(a, axis, out=out, keepdims=keepdims)\n",
      "/opt/conda/lib/python3.9/site-packages/numpy/lib/nanfunctions.py:1117: RuntimeWarning: Mean of empty slice\n",
      "  return np.nanmean(a, axis, out=out, keepdims=keepdims)\n",
      "/opt/conda/lib/python3.9/site-packages/numpy/lib/nanfunctions.py:1117: RuntimeWarning: Mean of empty slice\n",
      "  return np.nanmean(a, axis, out=out, keepdims=keepdims)\n",
      "/opt/conda/lib/python3.9/site-packages/numpy/lib/nanfunctions.py:1117: RuntimeWarning: Mean of empty slice\n",
      "  return np.nanmean(a, axis, out=out, keepdims=keepdims)\n",
      "/opt/conda/lib/python3.9/site-packages/numpy/lib/nanfunctions.py:1117: RuntimeWarning: Mean of empty slice\n",
      "  return np.nanmean(a, axis, out=out, keepdims=keepdims)\n",
      "/opt/conda/lib/python3.9/site-packages/numpy/lib/nanfunctions.py:1117: RuntimeWarning: Mean of empty slice\n",
      "  return np.nanmean(a, axis, out=out, keepdims=keepdims)\n",
      "/opt/conda/lib/python3.9/site-packages/numpy/lib/nanfunctions.py:1117: RuntimeWarning: Mean of empty slice\n",
      "  return np.nanmean(a, axis, out=out, keepdims=keepdims)\n",
      "/opt/conda/lib/python3.9/site-packages/numpy/lib/nanfunctions.py:1117: RuntimeWarning: Mean of empty slice\n",
      "  return np.nanmean(a, axis, out=out, keepdims=keepdims)\n",
      "/opt/conda/lib/python3.9/site-packages/numpy/lib/nanfunctions.py:1117: RuntimeWarning: Mean of empty slice\n",
      "  return np.nanmean(a, axis, out=out, keepdims=keepdims)\n",
      "/opt/conda/lib/python3.9/site-packages/numpy/lib/nanfunctions.py:1117: RuntimeWarning: Mean of empty slice\n",
      "  return np.nanmean(a, axis, out=out, keepdims=keepdims)\n",
      "/opt/conda/lib/python3.9/site-packages/numpy/lib/nanfunctions.py:1117: RuntimeWarning: Mean of empty slice\n",
      "  return np.nanmean(a, axis, out=out, keepdims=keepdims)\n",
      "/opt/conda/lib/python3.9/site-packages/numpy/lib/nanfunctions.py:1117: RuntimeWarning: Mean of empty slice\n",
      "  return np.nanmean(a, axis, out=out, keepdims=keepdims)\n",
      "/opt/conda/lib/python3.9/site-packages/numpy/lib/nanfunctions.py:1117: RuntimeWarning: Mean of empty slice\n",
      "  return np.nanmean(a, axis, out=out, keepdims=keepdims)\n",
      "/opt/conda/lib/python3.9/site-packages/numpy/lib/nanfunctions.py:1117: RuntimeWarning: Mean of empty slice\n",
      "  return np.nanmean(a, axis, out=out, keepdims=keepdims)\n",
      "/opt/conda/lib/python3.9/site-packages/numpy/lib/nanfunctions.py:1117: RuntimeWarning: Mean of empty slice\n",
      "  return np.nanmean(a, axis, out=out, keepdims=keepdims)\n",
      "/opt/conda/lib/python3.9/site-packages/numpy/lib/nanfunctions.py:1117: RuntimeWarning: Mean of empty slice\n",
      "  return np.nanmean(a, axis, out=out, keepdims=keepdims)\n",
      "/opt/conda/lib/python3.9/site-packages/numpy/lib/nanfunctions.py:1117: RuntimeWarning: Mean of empty slice\n",
      "  return np.nanmean(a, axis, out=out, keepdims=keepdims)\n",
      "/opt/conda/lib/python3.9/site-packages/numpy/lib/nanfunctions.py:1117: RuntimeWarning: Mean of empty slice\n",
      "  return np.nanmean(a, axis, out=out, keepdims=keepdims)\n",
      "/opt/conda/lib/python3.9/site-packages/numpy/lib/nanfunctions.py:1117: RuntimeWarning: Mean of empty slice\n",
      "  return np.nanmean(a, axis, out=out, keepdims=keepdims)\n",
      "/opt/conda/lib/python3.9/site-packages/numpy/lib/nanfunctions.py:1117: RuntimeWarning: Mean of empty slice\n",
      "  return np.nanmean(a, axis, out=out, keepdims=keepdims)\n",
      "/opt/conda/lib/python3.9/site-packages/numpy/lib/nanfunctions.py:1117: RuntimeWarning: Mean of empty slice\n",
      "  return np.nanmean(a, axis, out=out, keepdims=keepdims)\n",
      "/opt/conda/lib/python3.9/site-packages/numpy/lib/nanfunctions.py:1117: RuntimeWarning: Mean of empty slice\n",
      "  return np.nanmean(a, axis, out=out, keepdims=keepdims)\n",
      "/opt/conda/lib/python3.9/site-packages/numpy/lib/nanfunctions.py:1117: RuntimeWarning: Mean of empty slice\n",
      "  return np.nanmean(a, axis, out=out, keepdims=keepdims)\n",
      "/opt/conda/lib/python3.9/site-packages/numpy/lib/nanfunctions.py:1117: RuntimeWarning: Mean of empty slice\n",
      "  return np.nanmean(a, axis, out=out, keepdims=keepdims)\n",
      "/opt/conda/lib/python3.9/site-packages/numpy/lib/nanfunctions.py:1117: RuntimeWarning: Mean of empty slice\n",
      "  return np.nanmean(a, axis, out=out, keepdims=keepdims)\n",
      "/opt/conda/lib/python3.9/site-packages/numpy/lib/nanfunctions.py:1117: RuntimeWarning: Mean of empty slice\n",
      "  return np.nanmean(a, axis, out=out, keepdims=keepdims)\n",
      "/opt/conda/lib/python3.9/site-packages/numpy/lib/nanfunctions.py:1117: RuntimeWarning: Mean of empty slice\n",
      "  return np.nanmean(a, axis, out=out, keepdims=keepdims)\n",
      "/opt/conda/lib/python3.9/site-packages/numpy/lib/nanfunctions.py:1117: RuntimeWarning: Mean of empty slice\n",
      "  return np.nanmean(a, axis, out=out, keepdims=keepdims)\n",
      "/opt/conda/lib/python3.9/site-packages/numpy/lib/nanfunctions.py:1117: RuntimeWarning: Mean of empty slice\n",
      "  return np.nanmean(a, axis, out=out, keepdims=keepdims)\n",
      "/opt/conda/lib/python3.9/site-packages/numpy/lib/nanfunctions.py:1117: RuntimeWarning: Mean of empty slice\n",
      "  return np.nanmean(a, axis, out=out, keepdims=keepdims)\n",
      "/opt/conda/lib/python3.9/site-packages/numpy/lib/nanfunctions.py:1117: RuntimeWarning: Mean of empty slice\n",
      "  return np.nanmean(a, axis, out=out, keepdims=keepdims)\n",
      "/opt/conda/lib/python3.9/site-packages/numpy/lib/nanfunctions.py:1117: RuntimeWarning: Mean of empty slice\n",
      "  return np.nanmean(a, axis, out=out, keepdims=keepdims)\n",
      "/opt/conda/lib/python3.9/site-packages/numpy/lib/nanfunctions.py:1117: RuntimeWarning: Mean of empty slice\n",
      "  return np.nanmean(a, axis, out=out, keepdims=keepdims)\n",
      "/opt/conda/lib/python3.9/site-packages/numpy/lib/nanfunctions.py:1117: RuntimeWarning: Mean of empty slice\n",
      "  return np.nanmean(a, axis, out=out, keepdims=keepdims)\n",
      "/opt/conda/lib/python3.9/site-packages/numpy/lib/nanfunctions.py:1117: RuntimeWarning: Mean of empty slice\n",
      "  return np.nanmean(a, axis, out=out, keepdims=keepdims)\n",
      "/opt/conda/lib/python3.9/site-packages/numpy/lib/nanfunctions.py:1117: RuntimeWarning: Mean of empty slice\n",
      "  return np.nanmean(a, axis, out=out, keepdims=keepdims)\n",
      "/opt/conda/lib/python3.9/site-packages/numpy/lib/nanfunctions.py:1117: RuntimeWarning: Mean of empty slice\n",
      "  return np.nanmean(a, axis, out=out, keepdims=keepdims)\n",
      "/opt/conda/lib/python3.9/site-packages/numpy/lib/nanfunctions.py:1117: RuntimeWarning: Mean of empty slice\n",
      "  return np.nanmean(a, axis, out=out, keepdims=keepdims)\n",
      "/opt/conda/lib/python3.9/site-packages/numpy/lib/nanfunctions.py:1117: RuntimeWarning: Mean of empty slice\n",
      "  return np.nanmean(a, axis, out=out, keepdims=keepdims)\n",
      "/opt/conda/lib/python3.9/site-packages/numpy/lib/nanfunctions.py:1117: RuntimeWarning: Mean of empty slice\n",
      "  return np.nanmean(a, axis, out=out, keepdims=keepdims)\n",
      "/opt/conda/lib/python3.9/site-packages/numpy/lib/nanfunctions.py:1117: RuntimeWarning: Mean of empty slice\n",
      "  return np.nanmean(a, axis, out=out, keepdims=keepdims)\n",
      "/opt/conda/lib/python3.9/site-packages/numpy/lib/nanfunctions.py:1117: RuntimeWarning: Mean of empty slice\n",
      "  return np.nanmean(a, axis, out=out, keepdims=keepdims)\n",
      "/opt/conda/lib/python3.9/site-packages/numpy/lib/nanfunctions.py:1117: RuntimeWarning: Mean of empty slice\n",
      "  return np.nanmean(a, axis, out=out, keepdims=keepdims)\n",
      "/opt/conda/lib/python3.9/site-packages/numpy/lib/nanfunctions.py:1117: RuntimeWarning: Mean of empty slice\n",
      "  return np.nanmean(a, axis, out=out, keepdims=keepdims)\n",
      "/opt/conda/lib/python3.9/site-packages/numpy/lib/nanfunctions.py:1117: RuntimeWarning: Mean of empty slice\n",
      "  return np.nanmean(a, axis, out=out, keepdims=keepdims)\n",
      "/opt/conda/lib/python3.9/site-packages/numpy/lib/nanfunctions.py:1117: RuntimeWarning: Mean of empty slice\n",
      "  return np.nanmean(a, axis, out=out, keepdims=keepdims)\n",
      "/opt/conda/lib/python3.9/site-packages/numpy/lib/nanfunctions.py:1117: RuntimeWarning: Mean of empty slice\n",
      "  return np.nanmean(a, axis, out=out, keepdims=keepdims)\n",
      "/opt/conda/lib/python3.9/site-packages/numpy/lib/nanfunctions.py:1117: RuntimeWarning: Mean of empty slice\n",
      "  return np.nanmean(a, axis, out=out, keepdims=keepdims)\n",
      "/opt/conda/lib/python3.9/site-packages/numpy/lib/nanfunctions.py:1117: RuntimeWarning: Mean of empty slice\n",
      "  return np.nanmean(a, axis, out=out, keepdims=keepdims)\n",
      "/opt/conda/lib/python3.9/site-packages/numpy/lib/nanfunctions.py:1117: RuntimeWarning: Mean of empty slice\n",
      "  return np.nanmean(a, axis, out=out, keepdims=keepdims)\n",
      "/opt/conda/lib/python3.9/site-packages/numpy/lib/nanfunctions.py:1117: RuntimeWarning: Mean of empty slice\n",
      "  return np.nanmean(a, axis, out=out, keepdims=keepdims)\n",
      "/opt/conda/lib/python3.9/site-packages/numpy/lib/nanfunctions.py:1117: RuntimeWarning: Mean of empty slice\n",
      "  return np.nanmean(a, axis, out=out, keepdims=keepdims)\n",
      "/opt/conda/lib/python3.9/site-packages/numpy/lib/nanfunctions.py:1117: RuntimeWarning: Mean of empty slice\n",
      "  return np.nanmean(a, axis, out=out, keepdims=keepdims)\n",
      "/opt/conda/lib/python3.9/site-packages/numpy/lib/nanfunctions.py:1117: RuntimeWarning: Mean of empty slice\n",
      "  return np.nanmean(a, axis, out=out, keepdims=keepdims)\n",
      "/opt/conda/lib/python3.9/site-packages/numpy/lib/nanfunctions.py:1117: RuntimeWarning: Mean of empty slice\n",
      "  return np.nanmean(a, axis, out=out, keepdims=keepdims)\n",
      "/opt/conda/lib/python3.9/site-packages/numpy/lib/nanfunctions.py:1117: RuntimeWarning: Mean of empty slice\n",
      "  return np.nanmean(a, axis, out=out, keepdims=keepdims)\n",
      "/opt/conda/lib/python3.9/site-packages/numpy/lib/nanfunctions.py:1117: RuntimeWarning: Mean of empty slice\n",
      "  return np.nanmean(a, axis, out=out, keepdims=keepdims)\n",
      "/opt/conda/lib/python3.9/site-packages/numpy/lib/nanfunctions.py:1117: RuntimeWarning: Mean of empty slice\n",
      "  return np.nanmean(a, axis, out=out, keepdims=keepdims)\n",
      "/opt/conda/lib/python3.9/site-packages/numpy/lib/nanfunctions.py:1117: RuntimeWarning: Mean of empty slice\n",
      "  return np.nanmean(a, axis, out=out, keepdims=keepdims)\n",
      "/opt/conda/lib/python3.9/site-packages/numpy/lib/nanfunctions.py:1117: RuntimeWarning: Mean of empty slice\n",
      "  return np.nanmean(a, axis, out=out, keepdims=keepdims)\n",
      "/opt/conda/lib/python3.9/site-packages/numpy/lib/nanfunctions.py:1117: RuntimeWarning: Mean of empty slice\n",
      "  return np.nanmean(a, axis, out=out, keepdims=keepdims)\n",
      "/opt/conda/lib/python3.9/site-packages/numpy/lib/nanfunctions.py:1117: RuntimeWarning: Mean of empty slice\n",
      "  return np.nanmean(a, axis, out=out, keepdims=keepdims)\n",
      "/opt/conda/lib/python3.9/site-packages/numpy/lib/nanfunctions.py:1117: RuntimeWarning: Mean of empty slice\n",
      "  return np.nanmean(a, axis, out=out, keepdims=keepdims)\n",
      "/opt/conda/lib/python3.9/site-packages/numpy/lib/nanfunctions.py:1117: RuntimeWarning: Mean of empty slice\n",
      "  return np.nanmean(a, axis, out=out, keepdims=keepdims)\n",
      "/opt/conda/lib/python3.9/site-packages/numpy/lib/nanfunctions.py:1117: RuntimeWarning: Mean of empty slice\n",
      "  return np.nanmean(a, axis, out=out, keepdims=keepdims)\n",
      "/opt/conda/lib/python3.9/site-packages/numpy/lib/nanfunctions.py:1117: RuntimeWarning: Mean of empty slice\n",
      "  return np.nanmean(a, axis, out=out, keepdims=keepdims)\n",
      "/opt/conda/lib/python3.9/site-packages/numpy/lib/nanfunctions.py:1117: RuntimeWarning: Mean of empty slice\n",
      "  return np.nanmean(a, axis, out=out, keepdims=keepdims)\n",
      "/opt/conda/lib/python3.9/site-packages/numpy/lib/nanfunctions.py:1117: RuntimeWarning: Mean of empty slice\n",
      "  return np.nanmean(a, axis, out=out, keepdims=keepdims)\n",
      "/opt/conda/lib/python3.9/site-packages/numpy/lib/nanfunctions.py:1117: RuntimeWarning: Mean of empty slice\n",
      "  return np.nanmean(a, axis, out=out, keepdims=keepdims)\n",
      "/opt/conda/lib/python3.9/site-packages/numpy/lib/nanfunctions.py:1117: RuntimeWarning: Mean of empty slice\n",
      "  return np.nanmean(a, axis, out=out, keepdims=keepdims)\n",
      "/opt/conda/lib/python3.9/site-packages/numpy/lib/nanfunctions.py:1117: RuntimeWarning: Mean of empty slice\n",
      "  return np.nanmean(a, axis, out=out, keepdims=keepdims)\n",
      "/opt/conda/lib/python3.9/site-packages/numpy/lib/nanfunctions.py:1117: RuntimeWarning: Mean of empty slice\n",
      "  return np.nanmean(a, axis, out=out, keepdims=keepdims)\n",
      "/opt/conda/lib/python3.9/site-packages/numpy/lib/nanfunctions.py:1117: RuntimeWarning: Mean of empty slice\n",
      "  return np.nanmean(a, axis, out=out, keepdims=keepdims)\n",
      "/opt/conda/lib/python3.9/site-packages/numpy/lib/nanfunctions.py:1117: RuntimeWarning: Mean of empty slice\n",
      "  return np.nanmean(a, axis, out=out, keepdims=keepdims)\n",
      "/opt/conda/lib/python3.9/site-packages/numpy/lib/nanfunctions.py:1117: RuntimeWarning: Mean of empty slice\n",
      "  return np.nanmean(a, axis, out=out, keepdims=keepdims)\n",
      "/opt/conda/lib/python3.9/site-packages/numpy/lib/nanfunctions.py:1117: RuntimeWarning: Mean of empty slice\n",
      "  return np.nanmean(a, axis, out=out, keepdims=keepdims)\n",
      "/opt/conda/lib/python3.9/site-packages/numpy/lib/nanfunctions.py:1117: RuntimeWarning: Mean of empty slice\n",
      "  return np.nanmean(a, axis, out=out, keepdims=keepdims)\n",
      "/opt/conda/lib/python3.9/site-packages/numpy/lib/nanfunctions.py:1117: RuntimeWarning: Mean of empty slice\n",
      "  return np.nanmean(a, axis, out=out, keepdims=keepdims)\n",
      "/opt/conda/lib/python3.9/site-packages/numpy/lib/nanfunctions.py:1117: RuntimeWarning: Mean of empty slice\n",
      "  return np.nanmean(a, axis, out=out, keepdims=keepdims)\n",
      "/opt/conda/lib/python3.9/site-packages/numpy/lib/nanfunctions.py:1117: RuntimeWarning: Mean of empty slice\n",
      "  return np.nanmean(a, axis, out=out, keepdims=keepdims)\n",
      "/opt/conda/lib/python3.9/site-packages/numpy/lib/nanfunctions.py:1117: RuntimeWarning: Mean of empty slice\n",
      "  return np.nanmean(a, axis, out=out, keepdims=keepdims)\n",
      "/opt/conda/lib/python3.9/site-packages/numpy/lib/nanfunctions.py:1117: RuntimeWarning: Mean of empty slice\n",
      "  return np.nanmean(a, axis, out=out, keepdims=keepdims)\n",
      "/opt/conda/lib/python3.9/site-packages/numpy/lib/nanfunctions.py:1117: RuntimeWarning: Mean of empty slice\n",
      "  return np.nanmean(a, axis, out=out, keepdims=keepdims)\n",
      "/opt/conda/lib/python3.9/site-packages/numpy/lib/nanfunctions.py:1117: RuntimeWarning: Mean of empty slice\n",
      "  return np.nanmean(a, axis, out=out, keepdims=keepdims)\n",
      "/opt/conda/lib/python3.9/site-packages/numpy/lib/nanfunctions.py:1117: RuntimeWarning: Mean of empty slice\n",
      "  return np.nanmean(a, axis, out=out, keepdims=keepdims)\n",
      "/opt/conda/lib/python3.9/site-packages/numpy/lib/nanfunctions.py:1117: RuntimeWarning: Mean of empty slice\n",
      "  return np.nanmean(a, axis, out=out, keepdims=keepdims)\n",
      "/opt/conda/lib/python3.9/site-packages/numpy/lib/nanfunctions.py:1117: RuntimeWarning: Mean of empty slice\n",
      "  return np.nanmean(a, axis, out=out, keepdims=keepdims)\n",
      "/opt/conda/lib/python3.9/site-packages/numpy/lib/nanfunctions.py:1117: RuntimeWarning: Mean of empty slice\n",
      "  return np.nanmean(a, axis, out=out, keepdims=keepdims)\n",
      "/opt/conda/lib/python3.9/site-packages/numpy/lib/nanfunctions.py:1117: RuntimeWarning: Mean of empty slice\n",
      "  return np.nanmean(a, axis, out=out, keepdims=keepdims)\n",
      "/opt/conda/lib/python3.9/site-packages/numpy/lib/nanfunctions.py:1117: RuntimeWarning: Mean of empty slice\n",
      "  return np.nanmean(a, axis, out=out, keepdims=keepdims)\n",
      "/opt/conda/lib/python3.9/site-packages/numpy/lib/nanfunctions.py:1117: RuntimeWarning: Mean of empty slice\n",
      "  return np.nanmean(a, axis, out=out, keepdims=keepdims)\n",
      "/opt/conda/lib/python3.9/site-packages/numpy/lib/nanfunctions.py:1117: RuntimeWarning: Mean of empty slice\n",
      "  return np.nanmean(a, axis, out=out, keepdims=keepdims)\n",
      "/opt/conda/lib/python3.9/site-packages/numpy/lib/nanfunctions.py:1117: RuntimeWarning: Mean of empty slice\n",
      "  return np.nanmean(a, axis, out=out, keepdims=keepdims)\n",
      "/opt/conda/lib/python3.9/site-packages/numpy/lib/nanfunctions.py:1117: RuntimeWarning: Mean of empty slice\n",
      "  return np.nanmean(a, axis, out=out, keepdims=keepdims)\n",
      "/opt/conda/lib/python3.9/site-packages/numpy/lib/nanfunctions.py:1117: RuntimeWarning: Mean of empty slice\n",
      "  return np.nanmean(a, axis, out=out, keepdims=keepdims)\n",
      "/opt/conda/lib/python3.9/site-packages/numpy/lib/nanfunctions.py:1117: RuntimeWarning: Mean of empty slice\n",
      "  return np.nanmean(a, axis, out=out, keepdims=keepdims)\n",
      "/opt/conda/lib/python3.9/site-packages/numpy/lib/nanfunctions.py:1117: RuntimeWarning: Mean of empty slice\n",
      "  return np.nanmean(a, axis, out=out, keepdims=keepdims)\n",
      "/opt/conda/lib/python3.9/site-packages/numpy/lib/nanfunctions.py:1117: RuntimeWarning: Mean of empty slice\n",
      "  return np.nanmean(a, axis, out=out, keepdims=keepdims)\n",
      "/opt/conda/lib/python3.9/site-packages/numpy/lib/nanfunctions.py:1117: RuntimeWarning: Mean of empty slice\n",
      "  return np.nanmean(a, axis, out=out, keepdims=keepdims)\n",
      "/opt/conda/lib/python3.9/site-packages/numpy/lib/nanfunctions.py:1117: RuntimeWarning: Mean of empty slice\n",
      "  return np.nanmean(a, axis, out=out, keepdims=keepdims)\n",
      "/opt/conda/lib/python3.9/site-packages/numpy/lib/nanfunctions.py:1117: RuntimeWarning: Mean of empty slice\n",
      "  return np.nanmean(a, axis, out=out, keepdims=keepdims)\n",
      "/opt/conda/lib/python3.9/site-packages/numpy/lib/nanfunctions.py:1117: RuntimeWarning: Mean of empty slice\n",
      "  return np.nanmean(a, axis, out=out, keepdims=keepdims)\n",
      "/opt/conda/lib/python3.9/site-packages/numpy/lib/nanfunctions.py:1117: RuntimeWarning: Mean of empty slice\n",
      "  return np.nanmean(a, axis, out=out, keepdims=keepdims)\n",
      "/opt/conda/lib/python3.9/site-packages/numpy/lib/nanfunctions.py:1117: RuntimeWarning: Mean of empty slice\n",
      "  return np.nanmean(a, axis, out=out, keepdims=keepdims)\n",
      "/opt/conda/lib/python3.9/site-packages/numpy/lib/nanfunctions.py:1117: RuntimeWarning: Mean of empty slice\n",
      "  return np.nanmean(a, axis, out=out, keepdims=keepdims)\n",
      "/opt/conda/lib/python3.9/site-packages/numpy/lib/nanfunctions.py:1117: RuntimeWarning: Mean of empty slice\n",
      "  return np.nanmean(a, axis, out=out, keepdims=keepdims)\n",
      "/opt/conda/lib/python3.9/site-packages/numpy/lib/nanfunctions.py:1117: RuntimeWarning: Mean of empty slice\n",
      "  return np.nanmean(a, axis, out=out, keepdims=keepdims)\n",
      "/opt/conda/lib/python3.9/site-packages/numpy/lib/nanfunctions.py:1117: RuntimeWarning: Mean of empty slice\n",
      "  return np.nanmean(a, axis, out=out, keepdims=keepdims)\n",
      "/opt/conda/lib/python3.9/site-packages/numpy/lib/nanfunctions.py:1117: RuntimeWarning: Mean of empty slice\n",
      "  return np.nanmean(a, axis, out=out, keepdims=keepdims)\n",
      "/opt/conda/lib/python3.9/site-packages/numpy/lib/nanfunctions.py:1117: RuntimeWarning: Mean of empty slice\n",
      "  return np.nanmean(a, axis, out=out, keepdims=keepdims)\n",
      "/opt/conda/lib/python3.9/site-packages/numpy/lib/nanfunctions.py:1117: RuntimeWarning: Mean of empty slice\n",
      "  return np.nanmean(a, axis, out=out, keepdims=keepdims)\n",
      "/opt/conda/lib/python3.9/site-packages/numpy/lib/nanfunctions.py:1117: RuntimeWarning: Mean of empty slice\n",
      "  return np.nanmean(a, axis, out=out, keepdims=keepdims)\n",
      "/opt/conda/lib/python3.9/site-packages/numpy/lib/nanfunctions.py:1117: RuntimeWarning: Mean of empty slice\n",
      "  return np.nanmean(a, axis, out=out, keepdims=keepdims)\n",
      "/opt/conda/lib/python3.9/site-packages/numpy/lib/nanfunctions.py:1117: RuntimeWarning: Mean of empty slice\n",
      "  return np.nanmean(a, axis, out=out, keepdims=keepdims)\n",
      "/opt/conda/lib/python3.9/site-packages/numpy/lib/nanfunctions.py:1117: RuntimeWarning: Mean of empty slice\n",
      "  return np.nanmean(a, axis, out=out, keepdims=keepdims)\n",
      "/opt/conda/lib/python3.9/site-packages/numpy/lib/nanfunctions.py:1117: RuntimeWarning: Mean of empty slice\n",
      "  return np.nanmean(a, axis, out=out, keepdims=keepdims)\n",
      "/opt/conda/lib/python3.9/site-packages/numpy/lib/nanfunctions.py:1117: RuntimeWarning: Mean of empty slice\n",
      "  return np.nanmean(a, axis, out=out, keepdims=keepdims)\n",
      "/opt/conda/lib/python3.9/site-packages/numpy/lib/nanfunctions.py:1117: RuntimeWarning: Mean of empty slice\n",
      "  return np.nanmean(a, axis, out=out, keepdims=keepdims)\n",
      "/opt/conda/lib/python3.9/site-packages/numpy/lib/nanfunctions.py:1117: RuntimeWarning: Mean of empty slice\n",
      "  return np.nanmean(a, axis, out=out, keepdims=keepdims)\n",
      "/opt/conda/lib/python3.9/site-packages/numpy/lib/nanfunctions.py:1117: RuntimeWarning: Mean of empty slice\n",
      "  return np.nanmean(a, axis, out=out, keepdims=keepdims)\n",
      "/opt/conda/lib/python3.9/site-packages/numpy/lib/nanfunctions.py:1117: RuntimeWarning: Mean of empty slice\n",
      "  return np.nanmean(a, axis, out=out, keepdims=keepdims)\n",
      "/opt/conda/lib/python3.9/site-packages/numpy/lib/nanfunctions.py:1117: RuntimeWarning: Mean of empty slice\n",
      "  return np.nanmean(a, axis, out=out, keepdims=keepdims)\n",
      "/opt/conda/lib/python3.9/site-packages/numpy/lib/nanfunctions.py:1117: RuntimeWarning: Mean of empty slice\n",
      "  return np.nanmean(a, axis, out=out, keepdims=keepdims)\n",
      "/opt/conda/lib/python3.9/site-packages/numpy/lib/nanfunctions.py:1117: RuntimeWarning: Mean of empty slice\n",
      "  return np.nanmean(a, axis, out=out, keepdims=keepdims)\n",
      "/opt/conda/lib/python3.9/site-packages/numpy/lib/nanfunctions.py:1117: RuntimeWarning: Mean of empty slice\n",
      "  return np.nanmean(a, axis, out=out, keepdims=keepdims)\n",
      "/opt/conda/lib/python3.9/site-packages/numpy/lib/nanfunctions.py:1117: RuntimeWarning: Mean of empty slice\n",
      "  return np.nanmean(a, axis, out=out, keepdims=keepdims)\n",
      "/opt/conda/lib/python3.9/site-packages/numpy/lib/nanfunctions.py:1117: RuntimeWarning: Mean of empty slice\n",
      "  return np.nanmean(a, axis, out=out, keepdims=keepdims)\n",
      "/opt/conda/lib/python3.9/site-packages/numpy/lib/nanfunctions.py:1117: RuntimeWarning: Mean of empty slice\n",
      "  return np.nanmean(a, axis, out=out, keepdims=keepdims)\n",
      "/opt/conda/lib/python3.9/site-packages/numpy/lib/nanfunctions.py:1117: RuntimeWarning: Mean of empty slice\n",
      "  return np.nanmean(a, axis, out=out, keepdims=keepdims)\n",
      "/opt/conda/lib/python3.9/site-packages/numpy/lib/nanfunctions.py:1117: RuntimeWarning: Mean of empty slice\n",
      "  return np.nanmean(a, axis, out=out, keepdims=keepdims)\n",
      "/opt/conda/lib/python3.9/site-packages/numpy/lib/nanfunctions.py:1117: RuntimeWarning: Mean of empty slice\n",
      "  return np.nanmean(a, axis, out=out, keepdims=keepdims)\n",
      "/opt/conda/lib/python3.9/site-packages/numpy/lib/nanfunctions.py:1117: RuntimeWarning: Mean of empty slice\n",
      "  return np.nanmean(a, axis, out=out, keepdims=keepdims)\n",
      "/opt/conda/lib/python3.9/site-packages/numpy/lib/nanfunctions.py:1117: RuntimeWarning: Mean of empty slice\n",
      "  return np.nanmean(a, axis, out=out, keepdims=keepdims)\n",
      "/opt/conda/lib/python3.9/site-packages/numpy/lib/nanfunctions.py:1117: RuntimeWarning: Mean of empty slice\n",
      "  return np.nanmean(a, axis, out=out, keepdims=keepdims)\n",
      "/opt/conda/lib/python3.9/site-packages/numpy/lib/nanfunctions.py:1117: RuntimeWarning: Mean of empty slice\n",
      "  return np.nanmean(a, axis, out=out, keepdims=keepdims)\n",
      "/opt/conda/lib/python3.9/site-packages/numpy/lib/nanfunctions.py:1117: RuntimeWarning: Mean of empty slice\n",
      "  return np.nanmean(a, axis, out=out, keepdims=keepdims)\n",
      "/opt/conda/lib/python3.9/site-packages/numpy/lib/nanfunctions.py:1117: RuntimeWarning: Mean of empty slice\n",
      "  return np.nanmean(a, axis, out=out, keepdims=keepdims)\n",
      "/opt/conda/lib/python3.9/site-packages/numpy/lib/nanfunctions.py:1117: RuntimeWarning: Mean of empty slice\n",
      "  return np.nanmean(a, axis, out=out, keepdims=keepdims)\n",
      "/opt/conda/lib/python3.9/site-packages/numpy/lib/nanfunctions.py:1117: RuntimeWarning: Mean of empty slice\n",
      "  return np.nanmean(a, axis, out=out, keepdims=keepdims)\n",
      "/opt/conda/lib/python3.9/site-packages/numpy/lib/nanfunctions.py:1117: RuntimeWarning: Mean of empty slice\n",
      "  return np.nanmean(a, axis, out=out, keepdims=keepdims)\n",
      "/opt/conda/lib/python3.9/site-packages/numpy/lib/nanfunctions.py:1117: RuntimeWarning: Mean of empty slice\n",
      "  return np.nanmean(a, axis, out=out, keepdims=keepdims)\n",
      "/opt/conda/lib/python3.9/site-packages/numpy/lib/nanfunctions.py:1117: RuntimeWarning: Mean of empty slice\n",
      "  return np.nanmean(a, axis, out=out, keepdims=keepdims)\n",
      "/opt/conda/lib/python3.9/site-packages/numpy/lib/nanfunctions.py:1117: RuntimeWarning: Mean of empty slice\n",
      "  return np.nanmean(a, axis, out=out, keepdims=keepdims)\n",
      "/opt/conda/lib/python3.9/site-packages/numpy/lib/nanfunctions.py:1117: RuntimeWarning: Mean of empty slice\n",
      "  return np.nanmean(a, axis, out=out, keepdims=keepdims)\n",
      "/opt/conda/lib/python3.9/site-packages/numpy/lib/nanfunctions.py:1117: RuntimeWarning: Mean of empty slice\n",
      "  return np.nanmean(a, axis, out=out, keepdims=keepdims)\n",
      "/opt/conda/lib/python3.9/site-packages/numpy/lib/nanfunctions.py:1117: RuntimeWarning: Mean of empty slice\n",
      "  return np.nanmean(a, axis, out=out, keepdims=keepdims)\n",
      "/opt/conda/lib/python3.9/site-packages/numpy/lib/nanfunctions.py:1117: RuntimeWarning: Mean of empty slice\n",
      "  return np.nanmean(a, axis, out=out, keepdims=keepdims)\n",
      "/opt/conda/lib/python3.9/site-packages/numpy/lib/nanfunctions.py:1117: RuntimeWarning: Mean of empty slice\n",
      "  return np.nanmean(a, axis, out=out, keepdims=keepdims)\n",
      "/opt/conda/lib/python3.9/site-packages/numpy/lib/nanfunctions.py:1117: RuntimeWarning: Mean of empty slice\n",
      "  return np.nanmean(a, axis, out=out, keepdims=keepdims)\n",
      "/opt/conda/lib/python3.9/site-packages/numpy/lib/nanfunctions.py:1117: RuntimeWarning: Mean of empty slice\n",
      "  return np.nanmean(a, axis, out=out, keepdims=keepdims)\n",
      "/opt/conda/lib/python3.9/site-packages/numpy/lib/nanfunctions.py:1117: RuntimeWarning: Mean of empty slice\n",
      "  return np.nanmean(a, axis, out=out, keepdims=keepdims)\n",
      "/opt/conda/lib/python3.9/site-packages/numpy/lib/nanfunctions.py:1117: RuntimeWarning: Mean of empty slice\n",
      "  return np.nanmean(a, axis, out=out, keepdims=keepdims)\n",
      "/opt/conda/lib/python3.9/site-packages/numpy/lib/nanfunctions.py:1117: RuntimeWarning: Mean of empty slice\n",
      "  return np.nanmean(a, axis, out=out, keepdims=keepdims)\n",
      "/opt/conda/lib/python3.9/site-packages/numpy/lib/nanfunctions.py:1117: RuntimeWarning: Mean of empty slice\n",
      "  return np.nanmean(a, axis, out=out, keepdims=keepdims)\n",
      "/opt/conda/lib/python3.9/site-packages/numpy/lib/nanfunctions.py:1117: RuntimeWarning: Mean of empty slice\n",
      "  return np.nanmean(a, axis, out=out, keepdims=keepdims)\n",
      "/opt/conda/lib/python3.9/site-packages/numpy/lib/nanfunctions.py:1117: RuntimeWarning: Mean of empty slice\n",
      "  return np.nanmean(a, axis, out=out, keepdims=keepdims)\n",
      "/opt/conda/lib/python3.9/site-packages/numpy/lib/nanfunctions.py:1117: RuntimeWarning: Mean of empty slice\n",
      "  return np.nanmean(a, axis, out=out, keepdims=keepdims)\n",
      "/opt/conda/lib/python3.9/site-packages/numpy/lib/nanfunctions.py:1117: RuntimeWarning: Mean of empty slice\n",
      "  return np.nanmean(a, axis, out=out, keepdims=keepdims)\n",
      "/opt/conda/lib/python3.9/site-packages/numpy/lib/nanfunctions.py:1117: RuntimeWarning: Mean of empty slice\n",
      "  return np.nanmean(a, axis, out=out, keepdims=keepdims)\n",
      "/opt/conda/lib/python3.9/site-packages/numpy/lib/nanfunctions.py:1117: RuntimeWarning: Mean of empty slice\n",
      "  return np.nanmean(a, axis, out=out, keepdims=keepdims)\n",
      "/opt/conda/lib/python3.9/site-packages/numpy/lib/nanfunctions.py:1117: RuntimeWarning: Mean of empty slice\n",
      "  return np.nanmean(a, axis, out=out, keepdims=keepdims)\n",
      "/opt/conda/lib/python3.9/site-packages/numpy/lib/nanfunctions.py:1117: RuntimeWarning: Mean of empty slice\n",
      "  return np.nanmean(a, axis, out=out, keepdims=keepdims)\n",
      "/opt/conda/lib/python3.9/site-packages/numpy/lib/nanfunctions.py:1117: RuntimeWarning: Mean of empty slice\n",
      "  return np.nanmean(a, axis, out=out, keepdims=keepdims)\n",
      "/opt/conda/lib/python3.9/site-packages/numpy/lib/nanfunctions.py:1117: RuntimeWarning: Mean of empty slice\n",
      "  return np.nanmean(a, axis, out=out, keepdims=keepdims)\n",
      "/opt/conda/lib/python3.9/site-packages/numpy/lib/nanfunctions.py:1117: RuntimeWarning: Mean of empty slice\n",
      "  return np.nanmean(a, axis, out=out, keepdims=keepdims)\n",
      "/opt/conda/lib/python3.9/site-packages/numpy/lib/nanfunctions.py:1117: RuntimeWarning: Mean of empty slice\n",
      "  return np.nanmean(a, axis, out=out, keepdims=keepdims)\n",
      "/opt/conda/lib/python3.9/site-packages/numpy/lib/nanfunctions.py:1117: RuntimeWarning: Mean of empty slice\n",
      "  return np.nanmean(a, axis, out=out, keepdims=keepdims)\n",
      "/opt/conda/lib/python3.9/site-packages/numpy/lib/nanfunctions.py:1117: RuntimeWarning: Mean of empty slice\n",
      "  return np.nanmean(a, axis, out=out, keepdims=keepdims)\n",
      "/opt/conda/lib/python3.9/site-packages/numpy/lib/nanfunctions.py:1117: RuntimeWarning: Mean of empty slice\n",
      "  return np.nanmean(a, axis, out=out, keepdims=keepdims)\n",
      "/opt/conda/lib/python3.9/site-packages/numpy/lib/nanfunctions.py:1117: RuntimeWarning: Mean of empty slice\n",
      "  return np.nanmean(a, axis, out=out, keepdims=keepdims)\n",
      "/opt/conda/lib/python3.9/site-packages/numpy/lib/nanfunctions.py:1117: RuntimeWarning: Mean of empty slice\n",
      "  return np.nanmean(a, axis, out=out, keepdims=keepdims)\n",
      "/opt/conda/lib/python3.9/site-packages/numpy/lib/nanfunctions.py:1117: RuntimeWarning: Mean of empty slice\n",
      "  return np.nanmean(a, axis, out=out, keepdims=keepdims)\n",
      "/opt/conda/lib/python3.9/site-packages/numpy/lib/nanfunctions.py:1117: RuntimeWarning: Mean of empty slice\n",
      "  return np.nanmean(a, axis, out=out, keepdims=keepdims)\n",
      "/opt/conda/lib/python3.9/site-packages/numpy/lib/nanfunctions.py:1117: RuntimeWarning: Mean of empty slice\n",
      "  return np.nanmean(a, axis, out=out, keepdims=keepdims)\n",
      "/opt/conda/lib/python3.9/site-packages/numpy/lib/nanfunctions.py:1117: RuntimeWarning: Mean of empty slice\n",
      "  return np.nanmean(a, axis, out=out, keepdims=keepdims)\n",
      "/opt/conda/lib/python3.9/site-packages/numpy/lib/nanfunctions.py:1117: RuntimeWarning: Mean of empty slice\n",
      "  return np.nanmean(a, axis, out=out, keepdims=keepdims)\n",
      "/opt/conda/lib/python3.9/site-packages/numpy/lib/nanfunctions.py:1117: RuntimeWarning: Mean of empty slice\n",
      "  return np.nanmean(a, axis, out=out, keepdims=keepdims)\n",
      "/opt/conda/lib/python3.9/site-packages/numpy/lib/nanfunctions.py:1117: RuntimeWarning: Mean of empty slice\n",
      "  return np.nanmean(a, axis, out=out, keepdims=keepdims)\n",
      "/opt/conda/lib/python3.9/site-packages/numpy/lib/nanfunctions.py:1117: RuntimeWarning: Mean of empty slice\n",
      "  return np.nanmean(a, axis, out=out, keepdims=keepdims)\n",
      "/opt/conda/lib/python3.9/site-packages/numpy/lib/nanfunctions.py:1117: RuntimeWarning: Mean of empty slice\n",
      "  return np.nanmean(a, axis, out=out, keepdims=keepdims)\n",
      "/opt/conda/lib/python3.9/site-packages/numpy/lib/nanfunctions.py:1117: RuntimeWarning: Mean of empty slice\n",
      "  return np.nanmean(a, axis, out=out, keepdims=keepdims)\n",
      "/opt/conda/lib/python3.9/site-packages/numpy/lib/nanfunctions.py:1117: RuntimeWarning: Mean of empty slice\n",
      "  return np.nanmean(a, axis, out=out, keepdims=keepdims)\n",
      "/opt/conda/lib/python3.9/site-packages/numpy/lib/nanfunctions.py:1117: RuntimeWarning: Mean of empty slice\n",
      "  return np.nanmean(a, axis, out=out, keepdims=keepdims)\n",
      "/opt/conda/lib/python3.9/site-packages/numpy/lib/nanfunctions.py:1117: RuntimeWarning: Mean of empty slice\n",
      "  return np.nanmean(a, axis, out=out, keepdims=keepdims)\n",
      "/opt/conda/lib/python3.9/site-packages/numpy/lib/nanfunctions.py:1117: RuntimeWarning: Mean of empty slice\n",
      "  return np.nanmean(a, axis, out=out, keepdims=keepdims)\n",
      "/opt/conda/lib/python3.9/site-packages/numpy/lib/nanfunctions.py:1117: RuntimeWarning: Mean of empty slice\n",
      "  return np.nanmean(a, axis, out=out, keepdims=keepdims)\n",
      "/opt/conda/lib/python3.9/site-packages/numpy/lib/nanfunctions.py:1117: RuntimeWarning: Mean of empty slice\n",
      "  return np.nanmean(a, axis, out=out, keepdims=keepdims)\n",
      "/opt/conda/lib/python3.9/site-packages/numpy/lib/nanfunctions.py:1117: RuntimeWarning: Mean of empty slice\n",
      "  return np.nanmean(a, axis, out=out, keepdims=keepdims)\n",
      "/opt/conda/lib/python3.9/site-packages/numpy/lib/nanfunctions.py:1117: RuntimeWarning: Mean of empty slice\n",
      "  return np.nanmean(a, axis, out=out, keepdims=keepdims)\n",
      "/opt/conda/lib/python3.9/site-packages/numpy/lib/nanfunctions.py:1117: RuntimeWarning: Mean of empty slice\n",
      "  return np.nanmean(a, axis, out=out, keepdims=keepdims)\n",
      "/opt/conda/lib/python3.9/site-packages/numpy/lib/nanfunctions.py:1117: RuntimeWarning: Mean of empty slice\n",
      "  return np.nanmean(a, axis, out=out, keepdims=keepdims)\n",
      "/opt/conda/lib/python3.9/site-packages/numpy/lib/nanfunctions.py:1117: RuntimeWarning: Mean of empty slice\n",
      "  return np.nanmean(a, axis, out=out, keepdims=keepdims)\n",
      "/opt/conda/lib/python3.9/site-packages/numpy/lib/nanfunctions.py:1117: RuntimeWarning: Mean of empty slice\n",
      "  return np.nanmean(a, axis, out=out, keepdims=keepdims)\n",
      "/opt/conda/lib/python3.9/site-packages/numpy/lib/nanfunctions.py:1117: RuntimeWarning: Mean of empty slice\n",
      "  return np.nanmean(a, axis, out=out, keepdims=keepdims)\n",
      "/opt/conda/lib/python3.9/site-packages/numpy/lib/nanfunctions.py:1117: RuntimeWarning: Mean of empty slice\n",
      "  return np.nanmean(a, axis, out=out, keepdims=keepdims)\n",
      "/opt/conda/lib/python3.9/site-packages/numpy/lib/nanfunctions.py:1117: RuntimeWarning: Mean of empty slice\n",
      "  return np.nanmean(a, axis, out=out, keepdims=keepdims)\n",
      "/opt/conda/lib/python3.9/site-packages/numpy/lib/nanfunctions.py:1117: RuntimeWarning: Mean of empty slice\n",
      "  return np.nanmean(a, axis, out=out, keepdims=keepdims)\n",
      "/opt/conda/lib/python3.9/site-packages/numpy/lib/nanfunctions.py:1117: RuntimeWarning: Mean of empty slice\n",
      "  return np.nanmean(a, axis, out=out, keepdims=keepdims)\n",
      "/opt/conda/lib/python3.9/site-packages/numpy/lib/nanfunctions.py:1117: RuntimeWarning: Mean of empty slice\n",
      "  return np.nanmean(a, axis, out=out, keepdims=keepdims)\n",
      "/opt/conda/lib/python3.9/site-packages/numpy/lib/nanfunctions.py:1117: RuntimeWarning: Mean of empty slice\n",
      "  return np.nanmean(a, axis, out=out, keepdims=keepdims)\n",
      "/opt/conda/lib/python3.9/site-packages/numpy/lib/nanfunctions.py:1117: RuntimeWarning: Mean of empty slice\n",
      "  return np.nanmean(a, axis, out=out, keepdims=keepdims)\n",
      "/opt/conda/lib/python3.9/site-packages/numpy/lib/nanfunctions.py:1117: RuntimeWarning: Mean of empty slice\n",
      "  return np.nanmean(a, axis, out=out, keepdims=keepdims)\n",
      "/opt/conda/lib/python3.9/site-packages/numpy/lib/nanfunctions.py:1117: RuntimeWarning: Mean of empty slice\n",
      "  return np.nanmean(a, axis, out=out, keepdims=keepdims)\n",
      "/opt/conda/lib/python3.9/site-packages/numpy/lib/nanfunctions.py:1117: RuntimeWarning: Mean of empty slice\n",
      "  return np.nanmean(a, axis, out=out, keepdims=keepdims)\n",
      "/opt/conda/lib/python3.9/site-packages/numpy/lib/nanfunctions.py:1117: RuntimeWarning: Mean of empty slice\n",
      "  return np.nanmean(a, axis, out=out, keepdims=keepdims)\n",
      "/opt/conda/lib/python3.9/site-packages/numpy/lib/nanfunctions.py:1117: RuntimeWarning: Mean of empty slice\n",
      "  return np.nanmean(a, axis, out=out, keepdims=keepdims)\n",
      "/opt/conda/lib/python3.9/site-packages/numpy/lib/nanfunctions.py:1117: RuntimeWarning: Mean of empty slice\n",
      "  return np.nanmean(a, axis, out=out, keepdims=keepdims)\n",
      "/opt/conda/lib/python3.9/site-packages/numpy/lib/nanfunctions.py:1117: RuntimeWarning: Mean of empty slice\n",
      "  return np.nanmean(a, axis, out=out, keepdims=keepdims)\n",
      "/opt/conda/lib/python3.9/site-packages/numpy/lib/nanfunctions.py:1117: RuntimeWarning: Mean of empty slice\n",
      "  return np.nanmean(a, axis, out=out, keepdims=keepdims)\n"
     ]
    },
    {
     "data": {
      "text/plain": [
       "0"
      ]
     },
     "execution_count": 29,
     "metadata": {},
     "output_type": "execute_result"
    }
   ],
   "source": [
    "#Поменяем пропуски в высоте потолков на значения, относительно своего района:\n",
    "for i in df['locality_name'].unique():\n",
    "    median = df.loc[df['locality_name'] == i, 'ceiling_height'].median()\n",
    "    df.loc[(df['ceiling_height'].isna()) & (df['locality_name'] == i), 'ceiling_height'] = median\n",
    "    \n",
    "#остатки заполним общей медианой по Лен. области \n",
    "df.loc[df['ceiling_height'].isna(), 'ceiling_height'] = df['ceiling_height'].median ()\n",
    "\n",
    "df['ceiling_height'].isna().sum() #проверяем заполнение пропусков"
   ]
  },
  {
   "cell_type": "code",
   "execution_count": 30,
   "metadata": {},
   "outputs": [
    {
     "data": {
      "text/plain": [
       "total_images                 0\n",
       "last_price                   0\n",
       "total_area                   0\n",
       "first_day_exposition         0\n",
       "rooms                        0\n",
       "ceiling_height               0\n",
       "floors_total                 0\n",
       "living_area                  0\n",
       "floor                        0\n",
       "is_apartment                 0\n",
       "studio                       0\n",
       "open_plan                    0\n",
       "kitchen_area                 0\n",
       "balcony                      0\n",
       "locality_name                0\n",
       "airports_nearest          5356\n",
       "city_centers_nearest      5424\n",
       "parks_around3000          5423\n",
       "parks_nearest            15369\n",
       "ponds_around3000          5423\n",
       "ponds_nearest            14403\n",
       "days_exposition              0\n",
       "fillna_ceiling_height     5424\n",
       "dtype: int64"
      ]
     },
     "execution_count": 30,
     "metadata": {},
     "output_type": "execute_result"
    }
   ],
   "source": [
    " df.isna().sum() #выводим проверку заполнения проспуков всех столбцов "
   ]
  },
  {
   "cell_type": "markdown",
   "metadata": {},
   "source": [
    "Переходим к работе с дубликатами."
   ]
  },
  {
   "cell_type": "code",
   "execution_count": 31,
   "metadata": {},
   "outputs": [
    {
     "data": {
      "text/plain": [
       "23009"
      ]
     },
     "execution_count": 31,
     "metadata": {},
     "output_type": "execute_result"
    }
   ],
   "source": [
    "df['locality_name'].duplicated().sum() #посчитаем кол-во дубликатов"
   ]
  },
  {
   "cell_type": "code",
   "execution_count": 32,
   "metadata": {},
   "outputs": [
    {
     "data": {
      "text/plain": [
       "array(['санкт-петербург', 'шушары', 'янино-1', 'парголово', 'мурино',\n",
       "       'ломоносов', 'сертолово', 'петергоф', 'пушкин', 'кудрово',\n",
       "       'коммунар', 'колпино', 'бор', 'гатчина', 'федоровское', 'выборг',\n",
       "       'кронштадт', 'кировск', 'девяткино', 'металлострой', 'лебяжье',\n",
       "       'сиверский', 'молодцово', 'кузьмоловский', 'ропша', 'павловск',\n",
       "       'пикколово', 'всеволожск', 'волхов', 'кингисепп', 'приозерск',\n",
       "       'сестрорецк', 'куттузи', 'аннино', 'ефимовский', 'плодовое',\n",
       "       'заклинье', 'торковичи', 'первомайское', 'село', 'понтонный',\n",
       "       'сясьстрой', 'старая', 'лесколово', 'свет', 'сланцы', 'путилово',\n",
       "       'ивангород', 'шлиссельбург', 'никольское', 'зеленогорск', 'оржицы',\n",
       "       'кальтино', 'романовка', 'бугры', 'рощино', 'кириши', 'луга',\n",
       "       'волосово', 'отрадное', 'павлово', 'оредеж', 'копорье',\n",
       "       'молодежное', 'тихвин', 'победа', 'нурма', 'синявино', 'тосно',\n",
       "       'стрельна', 'бокситогорск', 'александровская', 'лопухинка',\n",
       "       'пикалево', 'терволово', 'советский', 'подпорожье', 'петровское',\n",
       "       'токсово', 'сельцо', 'вырица', 'кипень', 'келози', 'вартемяги',\n",
       "       'тельмана', 'севастьяново', 'ижора', 'агалатово', 'новогорелово',\n",
       "       'лесогорский', 'лаголово', 'цвелодубово', 'рахья', 'белогорка',\n",
       "       'заводской', 'новоселье', 'колпаны', 'горбунки', 'батово',\n",
       "       'заневка', 'иссад', 'приморск', 'мистолово', 'ладога', 'зимитицы',\n",
       "       'барышево', 'разметелево', 'свердлова', 'пеники', 'рябово',\n",
       "       'пудомяги', 'низино', 'бегуницы', 'поляны', 'мга', 'елизаветино',\n",
       "       'кузнечное', 'колтуши', 'запорожское', 'гостилицы', 'карлино',\n",
       "       'мичуринское', 'морозова', 'песочный', 'сосново', 'аро',\n",
       "       'ильичево', 'тайцы', 'верево', 'извара', 'вещево', 'паша',\n",
       "       'калитино', 'ульяновка', 'дубровка', 'мины', 'войсковицы',\n",
       "       'коркино', 'приладожский', 'щеглово', 'гаврилово', 'поле',\n",
       "       'рабитицы', 'никольский', 'кузьмолово', 'назия', 'репино',\n",
       "       'углово', 'малукса', 'меньково', 'саперный', 'семрино', 'глажево',\n",
       "       'кобринское', 'гарболово', 'юкки', 'приветнинское', 'мануйлово',\n",
       "       'пчева', 'цвылево', 'мельниково', 'пудость', 'усть-луга',\n",
       "       'светогорск', 'любань', 'селезнево', 'каменногорск', 'кривко',\n",
       "       'глебычево', 'парицы', 'жилпоселок', 'войскорово', 'стеклянный',\n",
       "       'важины', 'мыза-ивановка', 'русско-высоцкое', 'форносово',\n",
       "       'житково', 'виллози', 'лампово', 'шпаньково', 'лаврики', 'сумино',\n",
       "       'возрождение', 'старосиверская', 'кикерино', 'хинколово',\n",
       "       'пригородный', 'торфяное', 'будогощь', 'суходолье', 'долина',\n",
       "       'хапо-ое', 'горка', 'нос', 'яльгелево', 'рождествено',\n",
       "       'старополье', 'левашово', 'сяськелево', 'камышовка', 'поляна',\n",
       "       'хязельки', 'жилгородок', 'ялгино', 'учхоз', 'гончарово', 'почап',\n",
       "       'саперное', 'километр', 'каложицы', 'фалилеево', 'пельгора',\n",
       "       'торошковичи', 'белоостров', 'алексеевка', 'серебрянский',\n",
       "       'лукаши', 'тарасово', 'кингисеппский', 'ушаки', 'котлы', 'сижно',\n",
       "       'торосово', 'новолисино', 'громово', 'глинка', 'пустошь',\n",
       "       'коммунары', 'починок', 'вознесенье', 'разбегаево', 'гладкое',\n",
       "       'тесово-4', 'коробицыно', 'вруда', 'курковицы', 'кобралово',\n",
       "       'суоранда', 'кондратьево', 'счастье', 'реброво', 'тойворово',\n",
       "       'семиозерье', 'лесное', 'совхозный', 'ленинское', 'суйда',\n",
       "       'осельки', 'свирь', 'перово', 'высоцк', 'шум', 'котельский',\n",
       "       'лужайка', 'пустомержа', 'красносельское', 'кара', 'пижма',\n",
       "       'север', 'ромашки', 'каськово', 'куровицы', 'плоское', 'кирпичное',\n",
       "       'ям-тесово', 'раздолье', 'терпилицы', 'шугозеро', 'ваганово',\n",
       "       'пушное', 'садко', 'усть-ижора', 'выскатка', 'свирьстрой',\n",
       "       'кисельня', 'высокоключевой', 'ненимяки', 'снегиревка',\n",
       "       'рапполово', 'пустынка', 'сабск', 'русско', 'лупполово', 'рейзино',\n",
       "       'дружноселье', 'пчевжа', 'володарское', 'нижняя', 'тихковицы',\n",
       "       'грива', 'дзержинского'], dtype=object)"
      ]
     },
     "execution_count": 32,
     "metadata": {},
     "output_type": "execute_result"
    }
   ],
   "source": [
    "df['locality_name'] = (df['locality_name']\n",
    "                         .str.lower()\n",
    "                         .str.replace('ё', 'е', regex=True)\n",
    "                         .str.rsplit(\" \", 1).str[-1] #устраним дубликаты в названиях населённых пунктов на последнее значение \n",
    "                        )\n",
    "\n",
    "df['locality_name'].unique()"
   ]
  },
  {
   "cell_type": "markdown",
   "metadata": {},
   "source": [
    "В данном блоке мы описали причины отсутствия данных в столбцах таблицы и устранили/заполнили данные пропуски по-максимум.\n",
    "Исправили ошибки в типизации данных, привели в соответствие с нормальным и удобным форматом для дальнейшей работы.\n",
    "Устранили неявные дубликаты и проработали аномальные значения.\n",
    "Теперь данные располагают для корректного дальнейго анализа."
   ]
  },
  {
   "cell_type": "markdown",
   "metadata": {},
   "source": [
    "### Посчитайте и добавьте в таблицу новые столбцы"
   ]
  },
  {
   "cell_type": "markdown",
   "metadata": {},
   "source": [
    "Добавим столбец с ценой за однин квадратный метр в каждом объявлении"
   ]
  },
  {
   "cell_type": "code",
   "execution_count": 33,
   "metadata": {},
   "outputs": [],
   "source": [
    "df['price_meter'] = df['last_price'] / df['total_area'] #разделим цену на общую площадь помещения\n",
    "df['price_meter'] = df['price_meter'].round() #округлим значения"
   ]
  },
  {
   "cell_type": "markdown",
   "metadata": {},
   "source": [
    "Добавим колонки со следующими данными:  \n",
    "День недели публикации объявления (0 — понедельник, 1 — вторник и так далее)  \n",
    "Месяц публикации объявления  \n",
    "Год публикации объявления  "
   ]
  },
  {
   "cell_type": "code",
   "execution_count": 34,
   "metadata": {},
   "outputs": [],
   "source": [
    "#добавим столбцы c днем\n",
    "df['day_of_week_exposition'] = df['first_day_exposition'].dt.weekday #0 — понедельник, 1 — вторник и так далее\n",
    "df['month_exposition'] = df['first_day_exposition'].dt.month_name() #месяц публикации объявления\n",
    "df['year_exposition'] = df['first_day_exposition'].dt.year #год публикации объявления"
   ]
  },
  {
   "cell_type": "markdown",
   "metadata": {},
   "source": [
    "Добавим столбец с типом этажа квартиры (значения — «первый», «последний», «другой»)"
   ]
  },
  {
   "cell_type": "code",
   "execution_count": 35,
   "metadata": {},
   "outputs": [
    {
     "data": {
      "text/plain": [
       "другой       17161\n",
       "последний     3319\n",
       "первый        2891\n",
       "Name: new_floor, dtype: int64"
      ]
     },
     "execution_count": 35,
     "metadata": {},
     "output_type": "execute_result"
    }
   ],
   "source": [
    "def new_floor(row):\n",
    "    try:\n",
    "        if row['floor'] == 1:\n",
    "            return 'первый'\n",
    "        if row['floor'] == row['floors_total']:\n",
    "            return 'последний'\n",
    "        return 'другой'\n",
    "    except:\n",
    "        return 'нет информации'\n",
    "df['new_floor'] = df.apply(new_floor, axis = 1)  \n",
    "df['new_floor'].value_counts()"
   ]
  },
  {
   "cell_type": "markdown",
   "metadata": {},
   "source": [
    "Добавим столбец с расстоянием до центра города в километрах (переведем из м в км и округлим до целых значений)."
   ]
  },
  {
   "cell_type": "code",
   "execution_count": 36,
   "metadata": {
    "scrolled": true
   },
   "outputs": [
    {
     "data": {
      "text/html": [
       "<div>\n",
       "<style scoped>\n",
       "    .dataframe tbody tr th:only-of-type {\n",
       "        vertical-align: middle;\n",
       "    }\n",
       "\n",
       "    .dataframe tbody tr th {\n",
       "        vertical-align: top;\n",
       "    }\n",
       "\n",
       "    .dataframe thead th {\n",
       "        text-align: right;\n",
       "    }\n",
       "</style>\n",
       "<table border=\"1\" class=\"dataframe\">\n",
       "  <thead>\n",
       "    <tr style=\"text-align: right;\">\n",
       "      <th></th>\n",
       "      <th>total_images</th>\n",
       "      <th>last_price</th>\n",
       "      <th>total_area</th>\n",
       "      <th>first_day_exposition</th>\n",
       "      <th>rooms</th>\n",
       "      <th>ceiling_height</th>\n",
       "      <th>floors_total</th>\n",
       "      <th>living_area</th>\n",
       "      <th>floor</th>\n",
       "      <th>is_apartment</th>\n",
       "      <th>...</th>\n",
       "      <th>fillna_ceiling_height</th>\n",
       "      <th>price_meter</th>\n",
       "      <th>day_of_week_exposition</th>\n",
       "      <th>month_exposition</th>\n",
       "      <th>year_exposition</th>\n",
       "      <th>new_floor</th>\n",
       "      <th>city_center_km</th>\n",
       "      <th>nearest_airport_km</th>\n",
       "      <th>nearest_park_km</th>\n",
       "      <th>nearest_pond_km</th>\n",
       "    </tr>\n",
       "  </thead>\n",
       "  <tbody>\n",
       "    <tr>\n",
       "      <th>0</th>\n",
       "      <td>20</td>\n",
       "      <td>13000000</td>\n",
       "      <td>108.00</td>\n",
       "      <td>2019-03-07</td>\n",
       "      <td>3</td>\n",
       "      <td>2.700000</td>\n",
       "      <td>16</td>\n",
       "      <td>51.00</td>\n",
       "      <td>8</td>\n",
       "      <td>False</td>\n",
       "      <td>...</td>\n",
       "      <td>в пределах города</td>\n",
       "      <td>120370.0</td>\n",
       "      <td>3</td>\n",
       "      <td>March</td>\n",
       "      <td>2019</td>\n",
       "      <td>другой</td>\n",
       "      <td>16.028</td>\n",
       "      <td>18.863</td>\n",
       "      <td>0.482</td>\n",
       "      <td>0.755</td>\n",
       "    </tr>\n",
       "    <tr>\n",
       "      <th>1</th>\n",
       "      <td>7</td>\n",
       "      <td>3350000</td>\n",
       "      <td>40.40</td>\n",
       "      <td>2018-12-04</td>\n",
       "      <td>1</td>\n",
       "      <td>2.655883</td>\n",
       "      <td>11</td>\n",
       "      <td>18.60</td>\n",
       "      <td>1</td>\n",
       "      <td>False</td>\n",
       "      <td>...</td>\n",
       "      <td>область</td>\n",
       "      <td>82921.0</td>\n",
       "      <td>1</td>\n",
       "      <td>December</td>\n",
       "      <td>2018</td>\n",
       "      <td>первый</td>\n",
       "      <td>18.603</td>\n",
       "      <td>12.817</td>\n",
       "      <td>NaN</td>\n",
       "      <td>NaN</td>\n",
       "    </tr>\n",
       "    <tr>\n",
       "      <th>2</th>\n",
       "      <td>10</td>\n",
       "      <td>5196000</td>\n",
       "      <td>56.00</td>\n",
       "      <td>2015-08-20</td>\n",
       "      <td>2</td>\n",
       "      <td>2.704514</td>\n",
       "      <td>5</td>\n",
       "      <td>34.30</td>\n",
       "      <td>4</td>\n",
       "      <td>False</td>\n",
       "      <td>...</td>\n",
       "      <td>в пределах города</td>\n",
       "      <td>92786.0</td>\n",
       "      <td>3</td>\n",
       "      <td>August</td>\n",
       "      <td>2015</td>\n",
       "      <td>другой</td>\n",
       "      <td>13.933</td>\n",
       "      <td>21.741</td>\n",
       "      <td>0.090</td>\n",
       "      <td>0.574</td>\n",
       "    </tr>\n",
       "    <tr>\n",
       "      <th>3</th>\n",
       "      <td>0</td>\n",
       "      <td>64900000</td>\n",
       "      <td>159.00</td>\n",
       "      <td>2015-07-24</td>\n",
       "      <td>3</td>\n",
       "      <td>2.704514</td>\n",
       "      <td>14</td>\n",
       "      <td>140.00</td>\n",
       "      <td>9</td>\n",
       "      <td>False</td>\n",
       "      <td>...</td>\n",
       "      <td>в пределах города</td>\n",
       "      <td>408176.0</td>\n",
       "      <td>4</td>\n",
       "      <td>July</td>\n",
       "      <td>2015</td>\n",
       "      <td>другой</td>\n",
       "      <td>6.800</td>\n",
       "      <td>28.098</td>\n",
       "      <td>0.084</td>\n",
       "      <td>0.234</td>\n",
       "    </tr>\n",
       "    <tr>\n",
       "      <th>4</th>\n",
       "      <td>2</td>\n",
       "      <td>10000000</td>\n",
       "      <td>100.00</td>\n",
       "      <td>2018-06-19</td>\n",
       "      <td>2</td>\n",
       "      <td>3.030000</td>\n",
       "      <td>14</td>\n",
       "      <td>32.00</td>\n",
       "      <td>13</td>\n",
       "      <td>False</td>\n",
       "      <td>...</td>\n",
       "      <td>в пределах города</td>\n",
       "      <td>100000.0</td>\n",
       "      <td>1</td>\n",
       "      <td>June</td>\n",
       "      <td>2018</td>\n",
       "      <td>другой</td>\n",
       "      <td>8.098</td>\n",
       "      <td>31.856</td>\n",
       "      <td>0.112</td>\n",
       "      <td>0.048</td>\n",
       "    </tr>\n",
       "    <tr>\n",
       "      <th>5</th>\n",
       "      <td>10</td>\n",
       "      <td>2890000</td>\n",
       "      <td>30.40</td>\n",
       "      <td>2018-09-10</td>\n",
       "      <td>1</td>\n",
       "      <td>2.704514</td>\n",
       "      <td>12</td>\n",
       "      <td>14.40</td>\n",
       "      <td>5</td>\n",
       "      <td>False</td>\n",
       "      <td>...</td>\n",
       "      <td>None</td>\n",
       "      <td>95066.0</td>\n",
       "      <td>0</td>\n",
       "      <td>September</td>\n",
       "      <td>2018</td>\n",
       "      <td>другой</td>\n",
       "      <td>NaN</td>\n",
       "      <td>NaN</td>\n",
       "      <td>NaN</td>\n",
       "      <td>NaN</td>\n",
       "    </tr>\n",
       "    <tr>\n",
       "      <th>6</th>\n",
       "      <td>6</td>\n",
       "      <td>3700000</td>\n",
       "      <td>37.30</td>\n",
       "      <td>2017-11-02</td>\n",
       "      <td>1</td>\n",
       "      <td>2.655883</td>\n",
       "      <td>26</td>\n",
       "      <td>10.60</td>\n",
       "      <td>6</td>\n",
       "      <td>False</td>\n",
       "      <td>...</td>\n",
       "      <td>область</td>\n",
       "      <td>99196.0</td>\n",
       "      <td>3</td>\n",
       "      <td>November</td>\n",
       "      <td>2017</td>\n",
       "      <td>другой</td>\n",
       "      <td>19.143</td>\n",
       "      <td>52.996</td>\n",
       "      <td>NaN</td>\n",
       "      <td>NaN</td>\n",
       "    </tr>\n",
       "    <tr>\n",
       "      <th>7</th>\n",
       "      <td>5</td>\n",
       "      <td>7915000</td>\n",
       "      <td>71.60</td>\n",
       "      <td>2019-04-18</td>\n",
       "      <td>2</td>\n",
       "      <td>2.704514</td>\n",
       "      <td>24</td>\n",
       "      <td>33.80</td>\n",
       "      <td>22</td>\n",
       "      <td>False</td>\n",
       "      <td>...</td>\n",
       "      <td>в пределах города</td>\n",
       "      <td>110545.0</td>\n",
       "      <td>3</td>\n",
       "      <td>April</td>\n",
       "      <td>2019</td>\n",
       "      <td>другой</td>\n",
       "      <td>11.634</td>\n",
       "      <td>23.982</td>\n",
       "      <td>NaN</td>\n",
       "      <td>NaN</td>\n",
       "    </tr>\n",
       "    <tr>\n",
       "      <th>8</th>\n",
       "      <td>20</td>\n",
       "      <td>2900000</td>\n",
       "      <td>33.16</td>\n",
       "      <td>2018-05-23</td>\n",
       "      <td>1</td>\n",
       "      <td>2.704514</td>\n",
       "      <td>27</td>\n",
       "      <td>15.43</td>\n",
       "      <td>26</td>\n",
       "      <td>False</td>\n",
       "      <td>...</td>\n",
       "      <td>None</td>\n",
       "      <td>87455.0</td>\n",
       "      <td>2</td>\n",
       "      <td>May</td>\n",
       "      <td>2018</td>\n",
       "      <td>другой</td>\n",
       "      <td>NaN</td>\n",
       "      <td>NaN</td>\n",
       "      <td>NaN</td>\n",
       "      <td>NaN</td>\n",
       "    </tr>\n",
       "    <tr>\n",
       "      <th>9</th>\n",
       "      <td>18</td>\n",
       "      <td>5400000</td>\n",
       "      <td>61.00</td>\n",
       "      <td>2017-02-26</td>\n",
       "      <td>3</td>\n",
       "      <td>2.500000</td>\n",
       "      <td>9</td>\n",
       "      <td>43.60</td>\n",
       "      <td>7</td>\n",
       "      <td>False</td>\n",
       "      <td>...</td>\n",
       "      <td>в пределах города</td>\n",
       "      <td>88525.0</td>\n",
       "      <td>6</td>\n",
       "      <td>February</td>\n",
       "      <td>2017</td>\n",
       "      <td>другой</td>\n",
       "      <td>15.008</td>\n",
       "      <td>50.898</td>\n",
       "      <td>NaN</td>\n",
       "      <td>NaN</td>\n",
       "    </tr>\n",
       "  </tbody>\n",
       "</table>\n",
       "<p>10 rows × 32 columns</p>\n",
       "</div>"
      ],
      "text/plain": [
       "   total_images  last_price  total_area first_day_exposition  rooms  \\\n",
       "0            20    13000000      108.00           2019-03-07      3   \n",
       "1             7     3350000       40.40           2018-12-04      1   \n",
       "2            10     5196000       56.00           2015-08-20      2   \n",
       "3             0    64900000      159.00           2015-07-24      3   \n",
       "4             2    10000000      100.00           2018-06-19      2   \n",
       "5            10     2890000       30.40           2018-09-10      1   \n",
       "6             6     3700000       37.30           2017-11-02      1   \n",
       "7             5     7915000       71.60           2019-04-18      2   \n",
       "8            20     2900000       33.16           2018-05-23      1   \n",
       "9            18     5400000       61.00           2017-02-26      3   \n",
       "\n",
       "   ceiling_height  floors_total  living_area  floor  is_apartment  ...  \\\n",
       "0        2.700000            16        51.00      8         False  ...   \n",
       "1        2.655883            11        18.60      1         False  ...   \n",
       "2        2.704514             5        34.30      4         False  ...   \n",
       "3        2.704514            14       140.00      9         False  ...   \n",
       "4        3.030000            14        32.00     13         False  ...   \n",
       "5        2.704514            12        14.40      5         False  ...   \n",
       "6        2.655883            26        10.60      6         False  ...   \n",
       "7        2.704514            24        33.80     22         False  ...   \n",
       "8        2.704514            27        15.43     26         False  ...   \n",
       "9        2.500000             9        43.60      7         False  ...   \n",
       "\n",
       "   fillna_ceiling_height  price_meter  day_of_week_exposition  \\\n",
       "0      в пределах города     120370.0                       3   \n",
       "1                область      82921.0                       1   \n",
       "2      в пределах города      92786.0                       3   \n",
       "3      в пределах города     408176.0                       4   \n",
       "4      в пределах города     100000.0                       1   \n",
       "5                   None      95066.0                       0   \n",
       "6                область      99196.0                       3   \n",
       "7      в пределах города     110545.0                       3   \n",
       "8                   None      87455.0                       2   \n",
       "9      в пределах города      88525.0                       6   \n",
       "\n",
       "   month_exposition year_exposition  new_floor  city_center_km  \\\n",
       "0             March            2019     другой          16.028   \n",
       "1          December            2018     первый          18.603   \n",
       "2            August            2015     другой          13.933   \n",
       "3              July            2015     другой           6.800   \n",
       "4              June            2018     другой           8.098   \n",
       "5         September            2018     другой             NaN   \n",
       "6          November            2017     другой          19.143   \n",
       "7             April            2019     другой          11.634   \n",
       "8               May            2018     другой             NaN   \n",
       "9          February            2017     другой          15.008   \n",
       "\n",
       "   nearest_airport_km  nearest_park_km  nearest_pond_km  \n",
       "0              18.863            0.482            0.755  \n",
       "1              12.817              NaN              NaN  \n",
       "2              21.741            0.090            0.574  \n",
       "3              28.098            0.084            0.234  \n",
       "4              31.856            0.112            0.048  \n",
       "5                 NaN              NaN              NaN  \n",
       "6              52.996              NaN              NaN  \n",
       "7              23.982              NaN              NaN  \n",
       "8                 NaN              NaN              NaN  \n",
       "9              50.898              NaN              NaN  \n",
       "\n",
       "[10 rows x 32 columns]"
      ]
     },
     "execution_count": 36,
     "metadata": {},
     "output_type": "execute_result"
    }
   ],
   "source": [
    "df['city_center_km'] = df['city_centers_nearest'] / 1000\n",
    "df['nearest_airport_km'] = df['airports_nearest'] / 1000\n",
    "df['nearest_park_km'] = df['parks_nearest'] / 1000\n",
    "df['nearest_pond_km'] = df['ponds_nearest'] / 1000\n",
    "df.head(10)"
   ]
  },
  {
   "cell_type": "markdown",
   "metadata": {},
   "source": [
    "Теперь в нашей таблице добавились новые столбцы:  \n",
    "\n",
    "Цена одного квадратного метра 'price_meter'  \n",
    "Расстояние до центра города в километрах 'city_center_km'  \n",
    "Расстояние до аэропорта в километрах 'nearest_airport_km'  \n",
    "Расстояние до парка в километрах 'nearest_park_km'  \n",
    "Расстояние до водоёма в километрах 'nearest_pond_km'  \n",
    "Тип этажа квартиры 'new_floor'  \n",
    "День недели публикации объявления (0 — понедельник, 1 — вторник и так далее) 'day_of_week_exposition'  \n",
    "Месяц публикации объявления 'month_exposition'  \n",
    "Год публикации объявления 'year_exposition'  "
   ]
  },
  {
   "cell_type": "markdown",
   "metadata": {},
   "source": [
    "### Проведите исследовательский анализ данных"
   ]
  },
  {
   "cell_type": "markdown",
   "metadata": {},
   "source": [
    "Изучим следующие параметры объектов:  \n",
    "- общая площадь;  \n",
    "- жилая площадь;  \n",
    "- площадь кухни;  \n",
    "- цена объекта;  \n",
    "- количество комнат;  \n",
    "- высота потолков;  \n",
    "- этаж квартиры;  \n",
    "- тип этажа квартиры («первый», «последний», «другой»);  \n",
    "- общее количество этажей в доме;  \n",
    "- расстояние до центра города в метрах;  \n",
    "- расстояние до ближайшего аэропорта;  \n",
    "- расстояние до ближайшего парка;  \n",
    "- день и месяц публикации объявления.  \n",
    "\n",
    "Построим отдельные гистограммы для каждого из этих параметров.  "
   ]
  },
  {
   "cell_type": "code",
   "execution_count": 37,
   "metadata": {},
   "outputs": [
    {
     "data": {
      "text/html": [
       "<div>\n",
       "<style scoped>\n",
       "    .dataframe tbody tr th:only-of-type {\n",
       "        vertical-align: middle;\n",
       "    }\n",
       "\n",
       "    .dataframe tbody tr th {\n",
       "        vertical-align: top;\n",
       "    }\n",
       "\n",
       "    .dataframe thead th {\n",
       "        text-align: right;\n",
       "    }\n",
       "</style>\n",
       "<table border=\"1\" class=\"dataframe\">\n",
       "  <thead>\n",
       "    <tr style=\"text-align: right;\">\n",
       "      <th></th>\n",
       "      <th>total_images</th>\n",
       "      <th>last_price</th>\n",
       "      <th>total_area</th>\n",
       "      <th>rooms</th>\n",
       "      <th>ceiling_height</th>\n",
       "      <th>floors_total</th>\n",
       "      <th>living_area</th>\n",
       "      <th>floor</th>\n",
       "      <th>kitchen_area</th>\n",
       "      <th>balcony</th>\n",
       "      <th>...</th>\n",
       "      <th>ponds_around3000</th>\n",
       "      <th>ponds_nearest</th>\n",
       "      <th>days_exposition</th>\n",
       "      <th>price_meter</th>\n",
       "      <th>day_of_week_exposition</th>\n",
       "      <th>year_exposition</th>\n",
       "      <th>city_center_km</th>\n",
       "      <th>nearest_airport_km</th>\n",
       "      <th>nearest_park_km</th>\n",
       "      <th>nearest_pond_km</th>\n",
       "    </tr>\n",
       "  </thead>\n",
       "  <tbody>\n",
       "    <tr>\n",
       "      <th>count</th>\n",
       "      <td>23371.000000</td>\n",
       "      <td>2.337100e+04</td>\n",
       "      <td>23371.000000</td>\n",
       "      <td>23371.000000</td>\n",
       "      <td>23371.000000</td>\n",
       "      <td>23371.000000</td>\n",
       "      <td>23371.000000</td>\n",
       "      <td>23371.000000</td>\n",
       "      <td>23371.000000</td>\n",
       "      <td>23371.000000</td>\n",
       "      <td>...</td>\n",
       "      <td>17948.000000</td>\n",
       "      <td>8968.000000</td>\n",
       "      <td>23371.000000</td>\n",
       "      <td>2.337100e+04</td>\n",
       "      <td>23371.000000</td>\n",
       "      <td>23371.000000</td>\n",
       "      <td>17947.000000</td>\n",
       "      <td>18015.000000</td>\n",
       "      <td>8002.000000</td>\n",
       "      <td>8968.000000</td>\n",
       "    </tr>\n",
       "    <tr>\n",
       "      <th>mean</th>\n",
       "      <td>9.895340</td>\n",
       "      <td>6.566584e+06</td>\n",
       "      <td>60.580161</td>\n",
       "      <td>2.087844</td>\n",
       "      <td>2.736771</td>\n",
       "      <td>10.624235</td>\n",
       "      <td>35.256465</td>\n",
       "      <td>5.856061</td>\n",
       "      <td>10.454371</td>\n",
       "      <td>0.590090</td>\n",
       "      <td>...</td>\n",
       "      <td>0.769166</td>\n",
       "      <td>518.244759</td>\n",
       "      <td>156.868855</td>\n",
       "      <td>9.933031e+04</td>\n",
       "      <td>2.566129</td>\n",
       "      <td>2017.370031</td>\n",
       "      <td>14.197799</td>\n",
       "      <td>28.822836</td>\n",
       "      <td>0.490246</td>\n",
       "      <td>0.518245</td>\n",
       "    </tr>\n",
       "    <tr>\n",
       "      <th>std</th>\n",
       "      <td>5.682868</td>\n",
       "      <td>1.094248e+07</td>\n",
       "      <td>35.613640</td>\n",
       "      <td>1.066362</td>\n",
       "      <td>0.233323</td>\n",
       "      <td>6.567545</td>\n",
       "      <td>24.284339</td>\n",
       "      <td>4.851830</td>\n",
       "      <td>5.665974</td>\n",
       "      <td>0.960162</td>\n",
       "      <td>...</td>\n",
       "      <td>0.939071</td>\n",
       "      <td>278.036420</td>\n",
       "      <td>213.871607</td>\n",
       "      <td>5.052668e+04</td>\n",
       "      <td>1.789315</td>\n",
       "      <td>1.039403</td>\n",
       "      <td>8.631610</td>\n",
       "      <td>12.602405</td>\n",
       "      <td>0.341665</td>\n",
       "      <td>0.278036</td>\n",
       "    </tr>\n",
       "    <tr>\n",
       "      <th>min</th>\n",
       "      <td>0.000000</td>\n",
       "      <td>1.219000e+04</td>\n",
       "      <td>12.000000</td>\n",
       "      <td>1.000000</td>\n",
       "      <td>1.000000</td>\n",
       "      <td>1.000000</td>\n",
       "      <td>-26.000000</td>\n",
       "      <td>1.000000</td>\n",
       "      <td>1.300000</td>\n",
       "      <td>0.000000</td>\n",
       "      <td>...</td>\n",
       "      <td>0.000000</td>\n",
       "      <td>13.000000</td>\n",
       "      <td>0.000000</td>\n",
       "      <td>1.120000e+02</td>\n",
       "      <td>0.000000</td>\n",
       "      <td>2014.000000</td>\n",
       "      <td>0.181000</td>\n",
       "      <td>0.000000</td>\n",
       "      <td>0.001000</td>\n",
       "      <td>0.013000</td>\n",
       "    </tr>\n",
       "    <tr>\n",
       "      <th>25%</th>\n",
       "      <td>6.000000</td>\n",
       "      <td>3.450000e+06</td>\n",
       "      <td>40.200000</td>\n",
       "      <td>1.000000</td>\n",
       "      <td>2.655883</td>\n",
       "      <td>5.000000</td>\n",
       "      <td>19.000000</td>\n",
       "      <td>2.000000</td>\n",
       "      <td>7.300000</td>\n",
       "      <td>0.000000</td>\n",
       "      <td>...</td>\n",
       "      <td>0.000000</td>\n",
       "      <td>293.000000</td>\n",
       "      <td>22.000000</td>\n",
       "      <td>7.647100e+04</td>\n",
       "      <td>1.000000</td>\n",
       "      <td>2017.000000</td>\n",
       "      <td>9.236000</td>\n",
       "      <td>18.621000</td>\n",
       "      <td>0.288000</td>\n",
       "      <td>0.293000</td>\n",
       "    </tr>\n",
       "    <tr>\n",
       "      <th>50%</th>\n",
       "      <td>9.000000</td>\n",
       "      <td>4.650000e+06</td>\n",
       "      <td>52.000000</td>\n",
       "      <td>2.000000</td>\n",
       "      <td>2.704514</td>\n",
       "      <td>9.000000</td>\n",
       "      <td>30.200000</td>\n",
       "      <td>4.000000</td>\n",
       "      <td>9.000000</td>\n",
       "      <td>0.000000</td>\n",
       "      <td>...</td>\n",
       "      <td>0.000000</td>\n",
       "      <td>503.000000</td>\n",
       "      <td>74.000000</td>\n",
       "      <td>9.489100e+04</td>\n",
       "      <td>3.000000</td>\n",
       "      <td>2017.000000</td>\n",
       "      <td>13.092000</td>\n",
       "      <td>26.862000</td>\n",
       "      <td>0.454000</td>\n",
       "      <td>0.503000</td>\n",
       "    </tr>\n",
       "    <tr>\n",
       "      <th>75%</th>\n",
       "      <td>14.000000</td>\n",
       "      <td>6.800000e+06</td>\n",
       "      <td>70.000000</td>\n",
       "      <td>3.000000</td>\n",
       "      <td>2.704514</td>\n",
       "      <td>16.000000</td>\n",
       "      <td>43.000000</td>\n",
       "      <td>8.000000</td>\n",
       "      <td>11.500000</td>\n",
       "      <td>1.000000</td>\n",
       "      <td>...</td>\n",
       "      <td>1.000000</td>\n",
       "      <td>730.000000</td>\n",
       "      <td>199.000000</td>\n",
       "      <td>1.140540e+05</td>\n",
       "      <td>4.000000</td>\n",
       "      <td>2018.000000</td>\n",
       "      <td>16.285000</td>\n",
       "      <td>37.232000</td>\n",
       "      <td>0.612000</td>\n",
       "      <td>0.730000</td>\n",
       "    </tr>\n",
       "    <tr>\n",
       "      <th>max</th>\n",
       "      <td>50.000000</td>\n",
       "      <td>7.630000e+08</td>\n",
       "      <td>900.000000</td>\n",
       "      <td>19.000000</td>\n",
       "      <td>10.000000</td>\n",
       "      <td>60.000000</td>\n",
       "      <td>511.000000</td>\n",
       "      <td>33.000000</td>\n",
       "      <td>112.000000</td>\n",
       "      <td>5.000000</td>\n",
       "      <td>...</td>\n",
       "      <td>3.000000</td>\n",
       "      <td>1344.000000</td>\n",
       "      <td>1580.000000</td>\n",
       "      <td>1.907500e+06</td>\n",
       "      <td>6.000000</td>\n",
       "      <td>2019.000000</td>\n",
       "      <td>65.968000</td>\n",
       "      <td>84.869000</td>\n",
       "      <td>3.190000</td>\n",
       "      <td>1.344000</td>\n",
       "    </tr>\n",
       "  </tbody>\n",
       "</table>\n",
       "<p>8 rows × 24 columns</p>\n",
       "</div>"
      ],
      "text/plain": [
       "       total_images    last_price    total_area         rooms  ceiling_height  \\\n",
       "count  23371.000000  2.337100e+04  23371.000000  23371.000000    23371.000000   \n",
       "mean       9.895340  6.566584e+06     60.580161      2.087844        2.736771   \n",
       "std        5.682868  1.094248e+07     35.613640      1.066362        0.233323   \n",
       "min        0.000000  1.219000e+04     12.000000      1.000000        1.000000   \n",
       "25%        6.000000  3.450000e+06     40.200000      1.000000        2.655883   \n",
       "50%        9.000000  4.650000e+06     52.000000      2.000000        2.704514   \n",
       "75%       14.000000  6.800000e+06     70.000000      3.000000        2.704514   \n",
       "max       50.000000  7.630000e+08    900.000000     19.000000       10.000000   \n",
       "\n",
       "       floors_total   living_area         floor  kitchen_area       balcony  \\\n",
       "count  23371.000000  23371.000000  23371.000000  23371.000000  23371.000000   \n",
       "mean      10.624235     35.256465      5.856061     10.454371      0.590090   \n",
       "std        6.567545     24.284339      4.851830      5.665974      0.960162   \n",
       "min        1.000000    -26.000000      1.000000      1.300000      0.000000   \n",
       "25%        5.000000     19.000000      2.000000      7.300000      0.000000   \n",
       "50%        9.000000     30.200000      4.000000      9.000000      0.000000   \n",
       "75%       16.000000     43.000000      8.000000     11.500000      1.000000   \n",
       "max       60.000000    511.000000     33.000000    112.000000      5.000000   \n",
       "\n",
       "       ...  ponds_around3000  ponds_nearest  days_exposition   price_meter  \\\n",
       "count  ...      17948.000000    8968.000000     23371.000000  2.337100e+04   \n",
       "mean   ...          0.769166     518.244759       156.868855  9.933031e+04   \n",
       "std    ...          0.939071     278.036420       213.871607  5.052668e+04   \n",
       "min    ...          0.000000      13.000000         0.000000  1.120000e+02   \n",
       "25%    ...          0.000000     293.000000        22.000000  7.647100e+04   \n",
       "50%    ...          0.000000     503.000000        74.000000  9.489100e+04   \n",
       "75%    ...          1.000000     730.000000       199.000000  1.140540e+05   \n",
       "max    ...          3.000000    1344.000000      1580.000000  1.907500e+06   \n",
       "\n",
       "       day_of_week_exposition  year_exposition  city_center_km  \\\n",
       "count            23371.000000     23371.000000    17947.000000   \n",
       "mean                 2.566129      2017.370031       14.197799   \n",
       "std                  1.789315         1.039403        8.631610   \n",
       "min                  0.000000      2014.000000        0.181000   \n",
       "25%                  1.000000      2017.000000        9.236000   \n",
       "50%                  3.000000      2017.000000       13.092000   \n",
       "75%                  4.000000      2018.000000       16.285000   \n",
       "max                  6.000000      2019.000000       65.968000   \n",
       "\n",
       "       nearest_airport_km  nearest_park_km  nearest_pond_km  \n",
       "count        18015.000000      8002.000000      8968.000000  \n",
       "mean            28.822836         0.490246         0.518245  \n",
       "std             12.602405         0.341665         0.278036  \n",
       "min              0.000000         0.001000         0.013000  \n",
       "25%             18.621000         0.288000         0.293000  \n",
       "50%             26.862000         0.454000         0.503000  \n",
       "75%             37.232000         0.612000         0.730000  \n",
       "max             84.869000         3.190000         1.344000  \n",
       "\n",
       "[8 rows x 24 columns]"
      ]
     },
     "execution_count": 37,
     "metadata": {},
     "output_type": "execute_result"
    }
   ],
   "source": [
    "df.describe() #посмотрим распределение значений в каждом столбце"
   ]
  },
  {
   "cell_type": "code",
   "execution_count": 38,
   "metadata": {},
   "outputs": [
    {
     "data": {
      "text/plain": [
       "count    23371.000000\n",
       "mean         2.566129\n",
       "std          1.789315\n",
       "min          0.000000\n",
       "25%          1.000000\n",
       "50%          3.000000\n",
       "75%          4.000000\n",
       "max          6.000000\n",
       "Name: day_of_week_exposition, dtype: float64"
      ]
     },
     "execution_count": 38,
     "metadata": {},
     "output_type": "execute_result"
    },
    {
     "data": {
      "image/png": "[encoded data removed]",
      "text/plain": [
       "<Figure size 360x216 with 1 Axes>"
      ]
     },
     "metadata": {
      "needs_background": "light"
     },
     "output_type": "display_data"
    },
    {
     "data": {
      "image/png": "[encoded data removed]",
      "text/plain": [
       "<Figure size 360x216 with 1 Axes>"
      ]
     },
     "metadata": {
      "needs_background": "light"
     },
     "output_type": "display_data"
    },
    {
     "data": {
      "image/png": "[encoded data removed]",
      "text/plain": [
       "<Figure size 360x216 with 1 Axes>"
      ]
     },
     "metadata": {
      "needs_background": "light"
     },
     "output_type": "display_data"
    },
    {
     "data": {
      "image/png": "[encoded data removed]",
      "text/plain": [
       "<Figure size 360x216 with 1 Axes>"
      ]
     },
     "metadata": {
      "needs_background": "light"
     },
     "output_type": "display_data"
    },
    {
     "data": {
      "image/png": "[encoded data removed]",
      "text/plain": [
       "<Figure size 360x216 with 1 Axes>"
      ]
     },
     "metadata": {
      "needs_background": "light"
     },
     "output_type": "display_data"
    },
    {
     "data": {
      "image/png": "[encoded data removed]",
      "text/plain": [
       "<Figure size 360x216 with 1 Axes>"
      ]
     },
     "metadata": {
      "needs_background": "light"
     },
     "output_type": "display_data"
    },
    {
     "data": {
      "image/png": "[encoded data removed]",
      "text/plain": [
       "<Figure size 360x216 with 1 Axes>"
      ]
     },
     "metadata": {
      "needs_background": "light"
     },
     "output_type": "display_data"
    },
    {
     "data": {
      "image/png": "[encoded data removed]",
      "text/plain": [
       "<Figure size 360x216 with 1 Axes>"
      ]
     },
     "metadata": {
      "needs_background": "light"
     },
     "output_type": "display_data"
    },
    {
     "data": {
      "image/png": "[encoded data removed]",
      "text/plain": [
       "<Figure size 360x216 with 1 Axes>"
      ]
     },
     "metadata": {
      "needs_background": "light"
     },
     "output_type": "display_data"
    },
    {
     "data": {
      "image/png": "[encoded data removed]",
      "text/plain": [
       "<Figure size 360x216 with 1 Axes>"
      ]
     },
     "metadata": {
      "needs_background": "light"
     },
     "output_type": "display_data"
    },
    {
     "data": {
      "image/png": "[encoded data removed]",
      "text/plain": [
       "<Figure size 360x216 with 1 Axes>"
      ]
     },
     "metadata": {
      "needs_background": "light"
     },
     "output_type": "display_data"
    },
    {
     "data": {
      "image/png": "[encoded data removed]",
      "text/plain": [
       "<Figure size 360x216 with 1 Axes>"
      ]
     },
     "metadata": {
      "needs_background": "light"
     },
     "output_type": "display_data"
    }
   ],
   "source": [
    "#изучим общую площадь\n",
    "df.plot(y = 'total_area', kind = 'hist', bins = 100, grid=True, figsize = (5,3), range = (0,400), title = 'Общая площадь')\n",
    "df['total_area'].describe()\n",
    "#распределение данных нормальное, есть выбросы но они не сильно влияют на данные, \n",
    "#по гистограмме кроме распределения нечего больше указать, с помошью describe получили общее представление\n",
    "\n",
    "#изучим жилую площадь\n",
    "df.plot(y = 'living_area', kind = 'hist', bins = 100, grid=True, figsize = (5,3), range = (0,400), title = 'Жилая площадь')\n",
    "df['living_area'].describe()\n",
    "#распределение данных показывает 2 пика... не знаю, с чем это связано\n",
    "\n",
    "#изучим площадь кухни\n",
    "df.plot(y = 'kitchen_area', kind = 'hist', bins = 100, grid=True, figsize = (5,3), range = (0,80), title = 'Площадь кухни')\n",
    "df['kitchen_area'].describe()\n",
    "#распределение данных нормальное, есть выбросы но они не сильно влияют на данные\n",
    "\n",
    "#изучим цену\n",
    "df.plot(y = 'last_price', kind = 'hist', bins = 100, grid=True, range = (0,15000000), figsize = (5,3), title = 'Цена')\n",
    "df['last_price'].describe()\n",
    "#с данными все впорядке но значения выводятся в экспоненциальной записи чисел\n",
    "\n",
    "#изучим число комнат\n",
    "df.plot(y = 'rooms', kind = 'hist', bins = 30, grid=True, figsize = (5,3), title = 'Количество комнат')\n",
    "df['rooms'].describe()\n",
    "#с данными все впорядке. Имеются квартиры с кол-вом комнат 0 - скорее всего это студии.\n",
    "\n",
    "#изучим высоту потолков\n",
    "df.plot(y = 'ceiling_height', kind = 'hist', bins = 30, range = (2,5), grid=True, figsize = (5,3), title = 'Высота потолков')\n",
    "df['ceiling_height'].describe()\n",
    "#с данными все впорядке\n",
    "\n",
    "#изучим этаж квартиры\n",
    "df.plot(y = 'floor', kind = 'hist', bins = 30, range = (0,50), grid=True, figsize = (5,3), title = 'Этаж квартиры')\n",
    "df['floor'].describe()\n",
    "#с данными все впорядке\n",
    "\n",
    "#изучим кол-во этажей в доме\n",
    "df.plot(y = 'floors_total', kind = 'hist', bins = 30, range = (0,50), grid=True, figsize = (5,3), title = 'Количество этажей в доме')\n",
    "df['floors_total'].describe()\n",
    "#с данными все впорядке\n",
    "\n",
    "#изучим расстояние до центра города\n",
    "df.plot(y = 'city_centers_nearest', kind = 'hist', bins = 30, range = (0,70000), grid=True, figsize = (5,3), title = 'Расстояние до центра города')\n",
    "df['city_centers_nearest'].describe()\n",
    "#с данными все впорядке, основной пик приходится на 10-20 км. от центра города. Удобно в центре, ничего не скажешь :)\n",
    "\n",
    "#изучим расстояние до аэропорта\n",
    "df.plot(y = 'airports_nearest', kind = 'hist', bins = 30, range = (0,90000), grid=True, figsize = (5,3), title = 'Растояние до аэропорта')\n",
    "df['airports_nearest'].describe()\n",
    "#с данными все впорядке, рядом с аэропортом никто не живёт и это прекрасно, уши надо беречь\n",
    "\n",
    "#изучим расстояние до парка\n",
    "df.plot(y = 'parks_nearest', kind = 'hist', bins = 30, range = (0,3500), grid=True, figsize = (5,3), title = 'Расстояние до парка')\n",
    "df['parks_nearest'].describe()\n",
    "#с данными все впорядке, жить у парка куда приятнее, чем у аэропорта\n",
    "\n",
    "#изучим день публикации объявлений\n",
    "df.plot(y = 'day_of_week_exposition', kind = 'hist', bins = 30, range = (0,6), grid=True, figsize = (5,3), title = 'День публикации объявлений')\n",
    "df['day_of_week_exposition'].describe()\n",
    "#с данными все впорядке, в будни дни публикаций заметно больше, чем в выходные, скорее связано с рабочим графиком \n"
   ]
  },
  {
   "cell_type": "code",
   "execution_count": 39,
   "metadata": {
    "scrolled": true
   },
   "outputs": [
    {
     "data": {
      "text/plain": [
       "<AxesSubplot:>"
      ]
     },
     "execution_count": 39,
     "metadata": {},
     "output_type": "execute_result"
    },
    {
     "data": {
      "image/png": "[encoded data removed]",
      "text/plain": [
       "<Figure size 432x288 with 1 Axes>"
      ]
     },
     "metadata": {
      "needs_background": "light"
     },
     "output_type": "display_data"
    }
   ],
   "source": [
    "#изучим типы квартир в объявлениях\n",
    "df['new_floor'].hist()\n",
    "#логичное распределение, ничего особенного не видим"
   ]
  },
  {
   "cell_type": "code",
   "execution_count": 40,
   "metadata": {},
   "outputs": [
    {
     "data": {
      "text/plain": [
       "<AxesSubplot:>"
      ]
     },
     "execution_count": 40,
     "metadata": {},
     "output_type": "execute_result"
    },
    {
     "data": {
      "image/png": "[encoded data removed]",
      "text/plain": [
       "<Figure size 432x288 with 1 Axes>"
      ]
     },
     "metadata": {
      "needs_background": "light"
     },
     "output_type": "display_data"
    }
   ],
   "source": [
    "#изучим месяц публикации объявлений\n",
    "df['month_exposition'].hist(range = (0, 11))\n",
    "\n",
    "#Помогите с этим пунктом, пожалуйста. Я не понимаю, как сделать их от января к декабрю и чтобы читабельно было :)"
   ]
  },
  {
   "cell_type": "markdown",
   "metadata": {},
   "source": [
    "общая площадь: нормальное распределение, медианное значение 52 кв метра, максимальное - 900 кв метров.  \n",
    "жилая площадь: есть два пика, рекомендуется проверить исходные данные.  \n",
    "площадь кухни: нормальное распределение, медианно значение 9 кв метра, максимальное - 112 кв метров.  \n",
    "цена объекта: распределение цен нормальное, макс цена - 763 млн руб.  \n",
    "количество комнат: распределение выглядит нормальным. Примичательно, что у кого-то 0 комнат. Возможно, это студии. А у кого-то целых 19 комнат. Медианное - 2 комнаты.  \n",
    "этаж квартиры: нормальное распределение, медианное значение - 4 этаж.  \n",
    "тип этажа квартиры («первый», «последний», «другой»): статистика выглядит вполне очевидной, превый и последний этаж - почти одинаково.  \n",
    "общее количество этажей в доме: некоторые значения встречаются чаще.  \n",
    "расстояние до центра города в метрах: с данными все впорядке, основной пик приходится на 10-20 км. от центра города.  \n",
    "расстояние до ближайшего аэропорта: рядом с аэропортом почти никто не живет.  \n",
    "расстояние до ближайшего парка: распределение нормальное.  \n",
    "день и месяц публикации объявления: больше публикуют в будние, чем в выходные.  "
   ]
  },
  {
   "cell_type": "code",
   "execution_count": 41,
   "metadata": {},
   "outputs": [
    {
     "data": {
      "text/plain": [
       "count    23371.000000\n",
       "mean       156.868855\n",
       "std        213.871607\n",
       "min          0.000000\n",
       "25%         22.000000\n",
       "50%         74.000000\n",
       "75%        199.000000\n",
       "max       1580.000000\n",
       "Name: days_exposition, dtype: float64"
      ]
     },
     "execution_count": 41,
     "metadata": {},
     "output_type": "execute_result"
    }
   ],
   "source": [
    "#изучим как быстро продаются квартиры\n",
    "df['days_exposition'].describe()"
   ]
  },
  {
   "cell_type": "code",
   "execution_count": 42,
   "metadata": {
    "scrolled": true
   },
   "outputs": [
    {
     "data": {
      "text/plain": [
       "<AxesSubplot:ylabel='Frequency'>"
      ]
     },
     "execution_count": 42,
     "metadata": {},
     "output_type": "execute_result"
    },
    {
     "data": {
      "image/png": "[encoded data removed]",
      "text/plain": [
       "<Figure size 720x360 with 1 Axes>"
      ]
     },
     "metadata": {
      "needs_background": "light"
     },
     "output_type": "display_data"
    }
   ],
   "source": [
    "df.plot(y = 'days_exposition', ylim=(0, 220), kind = 'hist', bins =1580, grid=True, figsize = (10,5), range = (0, 1580))\n",
    "#Заметен странный пик на значении примерно 30, надо увеличивать\n"
   ]
  },
  {
   "cell_type": "code",
   "execution_count": 43,
   "metadata": {},
   "outputs": [
    {
     "data": {
      "text/plain": [
       "<AxesSubplot:ylabel='Frequency'>"
      ]
     },
     "execution_count": 43,
     "metadata": {},
     "output_type": "execute_result"
    },
    {
     "data": {
      "image/png": "[encoded data removed]",
      "text/plain": [
       "<Figure size 720x360 with 1 Axes>"
      ]
     },
     "metadata": {
      "needs_background": "light"
     },
     "output_type": "display_data"
    }
   ],
   "source": [
    "df.plot(y = 'days_exposition', ylim=(0, 1000),  kind = 'hist', bins =100, grid=True, figsize = (10,5), range = (0, 100))"
   ]
  },
  {
   "cell_type": "markdown",
   "metadata": {},
   "source": [
    "Замечены резкие скачки на 45, 60 и 90 дни (автоматически закрываются на эти дни при отсутствии активности с объявлением? непонятно)  \n",
    "Почему столько объявлений застревают на нуле? они не дописаны? в архиве? не продлили публикацию? не прошли модерацию? не ясно  \n",
    "Средняя скорость продажи квартиры - 156 дней, медиана - 74 дня.  \n",
    "Также выявлены аномально долгие продажи - 4,3 года... вероятно забывали отметить сделки закрытыми."
   ]
  },
  {
   "cell_type": "code",
   "execution_count": 44,
   "metadata": {
    "scrolled": true
   },
   "outputs": [
    {
     "data": {
      "text/plain": [
       "0.6530632549658347"
      ]
     },
     "execution_count": 44,
     "metadata": {},
     "output_type": "execute_result"
    },
    {
     "data": {
      "image/png": "[encoded data removed]",
      "text/plain": [
       "<Figure size 432x288 with 1 Axes>"
      ]
     },
     "metadata": {
      "needs_background": "light"
     },
     "output_type": "display_data"
    }
   ],
   "source": [
    "#Изучим зависимость цены от общей площади\n",
    "pivot_table_total_area = df.pivot_table(index = 'total_area', values = 'last_price', aggfunc = ['mean', 'count', 'median'])\n",
    "pivot_table_total_area.columns = ['mean', 'count', 'median']\n",
    "pivot_table_total_area.plot(y = 'median', style = '-o')\n",
    "pivot_table_total_area.sort_values('median', ascending = False)\n",
    "df['total_area'].corr(df['last_price'])"
   ]
  },
  {
   "cell_type": "markdown",
   "metadata": {},
   "source": [
    "Цена напрямую зависит от площади, чем площадь больше - тем цена выше."
   ]
  },
  {
   "cell_type": "code",
   "execution_count": 45,
   "metadata": {},
   "outputs": [
    {
     "data": {
      "text/plain": [
       "0.5764214814068855"
      ]
     },
     "execution_count": 45,
     "metadata": {},
     "output_type": "execute_result"
    },
    {
     "data": {
      "image/png": "[encoded data removed]",
      "text/plain": [
       "<Figure size 432x288 with 1 Axes>"
      ]
     },
     "metadata": {
      "needs_background": "light"
     },
     "output_type": "display_data"
    }
   ],
   "source": [
    "#Изучим зависимость цены от жилой площади\n",
    "pivot_table_living_area = df.pivot_table(index = 'living_area', values = 'last_price', aggfunc = ['mean', 'count', 'median'])\n",
    "pivot_table_living_area.columns = ['mean', 'count', 'median']\n",
    "pivot_table_living_area.plot(y = 'median', style = '-o')\n",
    "pivot_table_living_area.sort_values('median', ascending = False)\n",
    "df['living_area'].corr(df['last_price'])"
   ]
  },
  {
   "cell_type": "markdown",
   "metadata": {},
   "source": [
    "Цена напрямую зависит от площади, чем площадь больше - тем цена выше."
   ]
  },
  {
   "cell_type": "code",
   "execution_count": 46,
   "metadata": {},
   "outputs": [
    {
     "data": {
      "text/plain": [
       "0.45417008457942204"
      ]
     },
     "execution_count": 46,
     "metadata": {},
     "output_type": "execute_result"
    },
    {
     "data": {
      "image/png": "[encoded data removed]",
      "text/plain": [
       "<Figure size 432x288 with 1 Axes>"
      ]
     },
     "metadata": {
      "needs_background": "light"
     },
     "output_type": "display_data"
    }
   ],
   "source": [
    "#Изучим зависимость цены от площади кухни\n",
    "pivot_table_kitchen_area = df.pivot_table(index = 'kitchen_area', values = 'last_price', aggfunc = ['mean', 'count', 'median'])\n",
    "pivot_table_kitchen_area.columns = ['mean', 'count', 'median']\n",
    "pivot_table_kitchen_area.plot(y = 'median', style = '-o')\n",
    "pivot_table_kitchen_area.sort_values('median', ascending = False)\n",
    "df['kitchen_area'].corr(df['last_price'])"
   ]
  },
  {
   "cell_type": "markdown",
   "metadata": {},
   "source": [
    "Цена напрямую зависит от площади, чем площадь больше - тем цена выше."
   ]
  },
  {
   "cell_type": "code",
   "execution_count": 47,
   "metadata": {},
   "outputs": [
    {
     "data": {
      "image/png": "[encoded data removed]",
      "text/plain": [
       "<Figure size 432x288 with 1 Axes>"
      ]
     },
     "metadata": {
      "needs_background": "light"
     },
     "output_type": "display_data"
    },
    {
     "data": {
      "image/png": "[encoded data removed]",
      "text/plain": [
       "<Figure size 432x288 with 1 Axes>"
      ]
     },
     "metadata": {
      "needs_background": "light"
     },
     "output_type": "display_data"
    }
   ],
   "source": [
    "#Изучим зависимость цены от кол-ва комнат\n",
    "pivot_table_rooms = df.pivot_table(index = 'rooms', values = 'last_price', aggfunc = ['mean', 'count', 'median'])\n",
    "pivot_table_rooms.columns = ['mean', 'count', 'median']\n",
    "pivot_table_rooms.plot(y = 'median', style = '-o')\n",
    "pivot_table_rooms.sort_values('median', ascending = False)\n",
    "df['rooms'].corr(df['last_price'])\n",
    "pivot_table_rooms.query('rooms < 11').plot(y = 'median', grid=True, title = 'Количества комнат меньше 11 комнат')\n",
    "plt.show()"
   ]
  },
  {
   "cell_type": "markdown",
   "metadata": {},
   "source": [
    "Первый график немного завёл в тупик, но отрезав конец \"больше 11 компнат\" стало видно, что чем комнат в квартире больше, тем цена за квартиру выше."
   ]
  },
  {
   "cell_type": "code",
   "execution_count": 48,
   "metadata": {},
   "outputs": [
    {
     "data": {
      "image/png": "[encoded data removed]",
      "text/plain": [
       "<Figure size 432x288 with 1 Axes>"
      ]
     },
     "metadata": {
      "needs_background": "light"
     },
     "output_type": "display_data"
    }
   ],
   "source": [
    "#Изучим зависимость цены от этажа, на котором расположена квартира (первый, последний, другой);\n",
    "pivot_table_floor = df.pivot_table(index = 'new_floor', values = 'last_price', aggfunc = ['mean', 'count', 'median'])\n",
    "pivot_table_floor.columns = ['mean', 'count', 'median']\n",
    "pivot_table_floor.plot(y = 'median', grid=True, title = 'Зависимость цены от этажа')\n",
    "pivot_table_floor.sort_values('new_floor', ascending = False)\n",
    "plt.show()"
   ]
  },
  {
   "cell_type": "markdown",
   "metadata": {},
   "source": [
    "Всё бьётся, квартиры на первом и последнем этаже всегда дешевле."
   ]
  },
  {
   "cell_type": "code",
   "execution_count": 49,
   "metadata": {},
   "outputs": [
    {
     "data": {
      "text/plain": [
       "0.0015006624604595419"
      ]
     },
     "execution_count": 49,
     "metadata": {},
     "output_type": "execute_result"
    },
    {
     "data": {
      "image/png": "[encoded data removed]",
      "text/plain": [
       "<Figure size 432x288 with 1 Axes>"
      ]
     },
     "metadata": {
      "needs_background": "light"
     },
     "output_type": "display_data"
    }
   ],
   "source": [
    "#Изучим зависимость цены от дня недели размещения\n",
    "pivot_table_day_of_week_exposition = df.pivot_table(index = 'day_of_week_exposition', values = 'last_price', aggfunc = ['mean', 'count', 'median'])\n",
    "pivot_table_day_of_week_exposition.columns = ['mean', 'count', 'median']\n",
    "pivot_table_day_of_week_exposition.plot(y = 'median', style = '-o')\n",
    "pivot_table_day_of_week_exposition.sort_values('median', ascending = False)\n",
    "df['day_of_week_exposition'].corr(df['last_price'])"
   ]
  },
  {
   "cell_type": "markdown",
   "metadata": {},
   "source": [
    "В понедельник самая высокая цена, к выходным опускается."
   ]
  },
  {
   "cell_type": "code",
   "execution_count": 50,
   "metadata": {
    "scrolled": true
   },
   "outputs": [
    {
     "data": {
      "image/png": "[encoded data removed]",
      "text/plain": [
       "<Figure size 432x288 with 1 Axes>"
      ]
     },
     "metadata": {
      "needs_background": "light"
     },
     "output_type": "display_data"
    }
   ],
   "source": [
    "#Изучим зависимость цены от месяца размещения \n",
    "pivot_table_month_exposition = df.pivot_table(index = 'month_exposition', values = 'last_price', aggfunc = ['mean', 'count', 'median'])\n",
    "pivot_table_month_exposition.columns = ['mean', 'count', 'median']\n",
    "pivot_table_month_exposition.plot(y = 'median', grid=True, title = 'Зависимость цены от месяца')\n",
    "pivot_table_month_exposition.sort_values('month_exposition', ascending = False)\n",
    "plt.show()\n"
   ]
  },
  {
   "cell_type": "markdown",
   "metadata": {},
   "source": [
    "В июне мы не продаём ничего, не выгодно, как и в мае :)  \n",
    "Самая высокая стоимость метра в апреле и августе! \n",
    "На рынке недвижимости присутствует сезонность - в начале лета наименьшее предложение как по количеству, так и по стоимости недвижимости. Вероятно это связано с отпусками."
   ]
  },
  {
   "cell_type": "code",
   "execution_count": 51,
   "metadata": {},
   "outputs": [
    {
     "data": {
      "text/plain": [
       "-0.04286544918535547"
      ]
     },
     "execution_count": 51,
     "metadata": {},
     "output_type": "execute_result"
    },
    {
     "data": {
      "image/png": "[encoded data removed]",
      "text/plain": [
       "<Figure size 432x288 with 1 Axes>"
      ]
     },
     "metadata": {
      "needs_background": "light"
     },
     "output_type": "display_data"
    }
   ],
   "source": [
    "#Изучим зависимость цены от года размещения\n",
    "pivot_table_year_exposition = df.pivot_table(index = 'year_exposition', values = 'last_price', aggfunc = ['mean', 'count', 'median'])\n",
    "pivot_table_year_exposition.columns = ['mean', 'count', 'median']\n",
    "pivot_table_year_exposition.plot(y = 'median', style = '-o')\n",
    "pivot_table_year_exposition.sort_values('median', ascending = False)\n",
    "df['year_exposition'].corr(df['last_price'])"
   ]
  },
  {
   "cell_type": "markdown",
   "metadata": {},
   "source": [
    "2014 год является пиковым по цене за квартиры. С 2014 по 2016 видим спад цены. С 2016 по 2019 цена сильно не менялась, немного пошла в рост."
   ]
  },
  {
   "cell_type": "markdown",
   "metadata": {},
   "source": [
    "Посчитаем среднюю цену одного квадратного метра в 10 населённых пунктах с наибольшим числом объявлений.  \n",
    "Выделим населённые пункты с самой высокой и низкой стоимостью квадратного метра."
   ]
  },
  {
   "cell_type": "code",
   "execution_count": 52,
   "metadata": {},
   "outputs": [
    {
     "data": {
      "text/html": [
       "<div>\n",
       "<style scoped>\n",
       "    .dataframe tbody tr th:only-of-type {\n",
       "        vertical-align: middle;\n",
       "    }\n",
       "\n",
       "    .dataframe tbody tr th {\n",
       "        vertical-align: top;\n",
       "    }\n",
       "\n",
       "    .dataframe thead th {\n",
       "        text-align: right;\n",
       "    }\n",
       "</style>\n",
       "<table border=\"1\" class=\"dataframe\">\n",
       "  <thead>\n",
       "    <tr style=\"text-align: right;\">\n",
       "      <th></th>\n",
       "      <th>count</th>\n",
       "      <th>mean</th>\n",
       "    </tr>\n",
       "    <tr>\n",
       "      <th>locality_name</th>\n",
       "      <th></th>\n",
       "      <th></th>\n",
       "    </tr>\n",
       "  </thead>\n",
       "  <tbody>\n",
       "    <tr>\n",
       "      <th>санкт-петербург</th>\n",
       "      <td>15542</td>\n",
       "      <td>114807.895380</td>\n",
       "    </tr>\n",
       "    <tr>\n",
       "      <th>мурино</th>\n",
       "      <td>559</td>\n",
       "      <td>85469.352415</td>\n",
       "    </tr>\n",
       "    <tr>\n",
       "      <th>кудрово</th>\n",
       "      <td>449</td>\n",
       "      <td>95083.131403</td>\n",
       "    </tr>\n",
       "    <tr>\n",
       "      <th>шушары</th>\n",
       "      <td>435</td>\n",
       "      <td>78277.951724</td>\n",
       "    </tr>\n",
       "    <tr>\n",
       "      <th>всеволожск</th>\n",
       "      <td>392</td>\n",
       "      <td>68618.015306</td>\n",
       "    </tr>\n",
       "    <tr>\n",
       "      <th>пушкин</th>\n",
       "      <td>369</td>\n",
       "      <td>103125.818428</td>\n",
       "    </tr>\n",
       "    <tr>\n",
       "      <th>колпино</th>\n",
       "      <td>338</td>\n",
       "      <td>75424.571006</td>\n",
       "    </tr>\n",
       "    <tr>\n",
       "      <th>парголово</th>\n",
       "      <td>323</td>\n",
       "      <td>90289.755418</td>\n",
       "    </tr>\n",
       "    <tr>\n",
       "      <th>гатчина</th>\n",
       "      <td>307</td>\n",
       "      <td>68746.110749</td>\n",
       "    </tr>\n",
       "    <tr>\n",
       "      <th>выборг</th>\n",
       "      <td>237</td>\n",
       "      <td>58141.919831</td>\n",
       "    </tr>\n",
       "  </tbody>\n",
       "</table>\n",
       "</div>"
      ],
      "text/plain": [
       "                 count           mean\n",
       "locality_name                        \n",
       "санкт-петербург  15542  114807.895380\n",
       "мурино             559   85469.352415\n",
       "кудрово            449   95083.131403\n",
       "шушары             435   78277.951724\n",
       "всеволожск         392   68618.015306\n",
       "пушкин             369  103125.818428\n",
       "колпино            338   75424.571006\n",
       "парголово          323   90289.755418\n",
       "гатчина            307   68746.110749\n",
       "выборг             237   58141.919831"
      ]
     },
     "metadata": {},
     "output_type": "display_data"
    },
    {
     "data": {
      "text/html": [
       "<div>\n",
       "<style scoped>\n",
       "    .dataframe tbody tr th:only-of-type {\n",
       "        vertical-align: middle;\n",
       "    }\n",
       "\n",
       "    .dataframe tbody tr th {\n",
       "        vertical-align: top;\n",
       "    }\n",
       "\n",
       "    .dataframe thead th {\n",
       "        text-align: right;\n",
       "    }\n",
       "</style>\n",
       "<table border=\"1\" class=\"dataframe\">\n",
       "  <thead>\n",
       "    <tr style=\"text-align: right;\">\n",
       "      <th></th>\n",
       "      <th>count</th>\n",
       "      <th>mean</th>\n",
       "    </tr>\n",
       "    <tr>\n",
       "      <th>locality_name</th>\n",
       "      <th></th>\n",
       "      <th></th>\n",
       "    </tr>\n",
       "  </thead>\n",
       "  <tbody>\n",
       "    <tr>\n",
       "      <th>зеленогорск</th>\n",
       "      <td>24</td>\n",
       "      <td>115122.75</td>\n",
       "    </tr>\n",
       "  </tbody>\n",
       "</table>\n",
       "</div>"
      ],
      "text/plain": [
       "               count       mean\n",
       "locality_name                  \n",
       "зеленогорск       24  115122.75"
      ]
     },
     "metadata": {},
     "output_type": "display_data"
    },
    {
     "data": {
      "text/html": [
       "<div>\n",
       "<style scoped>\n",
       "    .dataframe tbody tr th:only-of-type {\n",
       "        vertical-align: middle;\n",
       "    }\n",
       "\n",
       "    .dataframe tbody tr th {\n",
       "        vertical-align: top;\n",
       "    }\n",
       "\n",
       "    .dataframe thead th {\n",
       "        text-align: right;\n",
       "    }\n",
       "</style>\n",
       "<table border=\"1\" class=\"dataframe\">\n",
       "  <thead>\n",
       "    <tr style=\"text-align: right;\">\n",
       "      <th></th>\n",
       "      <th>count</th>\n",
       "      <th>mean</th>\n",
       "    </tr>\n",
       "    <tr>\n",
       "      <th>locality_name</th>\n",
       "      <th></th>\n",
       "      <th></th>\n",
       "    </tr>\n",
       "  </thead>\n",
       "  <tbody>\n",
       "    <tr>\n",
       "      <th>старополье</th>\n",
       "      <td>3</td>\n",
       "      <td>11206.333333</td>\n",
       "    </tr>\n",
       "  </tbody>\n",
       "</table>\n",
       "</div>"
      ],
      "text/plain": [
       "               count          mean\n",
       "locality_name                     \n",
       "старополье         3  11206.333333"
      ]
     },
     "metadata": {},
     "output_type": "display_data"
    }
   ],
   "source": [
    "locality_pivot_table = df.pivot_table(index = 'locality_name', values = 'price_meter', aggfunc=['count', 'mean'])\n",
    "locality_pivot_table.columns = ['count', 'mean']\n",
    "locality_pivot_table_top = locality_pivot_table.sort_values('count', ascending = False).head(10)\n",
    "display (locality_pivot_table_top)\n",
    "#самая высокая стоимость\n",
    "display (locality_pivot_table[locality_pivot_table['mean']==locality_pivot_table['mean'].max()])\n",
    "#самая низкая стоимость\n",
    "display (locality_pivot_table[locality_pivot_table['mean']==locality_pivot_table['mean'].min()])"
   ]
  },
  {
   "cell_type": "markdown",
   "metadata": {},
   "source": [
    "Самая высокая стоимость квартир в Спб и Пушкине. Чем дальше от города, тем дешевле. В Выборге средняя цена примерно в 2 раза меньше, чем в Спб."
   ]
  },
  {
   "cell_type": "markdown",
   "metadata": {},
   "source": [
    "Ранее мы посчитали расстояние до центра в километрах. Теперь выделим квартиры в Спб с помощью столбца locality_name и вычислим среднюю цену каждого километра."
   ]
  },
  {
   "cell_type": "code",
   "execution_count": 53,
   "metadata": {},
   "outputs": [
    {
     "data": {
      "text/plain": [
       "-0.3136150417052234"
      ]
     },
     "execution_count": 53,
     "metadata": {},
     "output_type": "execute_result"
    },
    {
     "data": {
      "image/png": "[encoded data removed]",
      "text/plain": [
       "<Figure size 432x288 with 1 Axes>"
      ]
     },
     "metadata": {
      "needs_background": "light"
     },
     "output_type": "display_data"
    }
   ],
   "source": [
    "spb = df.query('locality_name == \"санкт-петербург\"')\n",
    "cost_spb_km = spb.pivot_table(index = 'city_center_km', values = 'price_meter', aggfunc = ['mean', 'count', 'median'])\n",
    "cost_spb_km.columns = ['mean', 'count', 'median']\n",
    "cost_spb_km.plot(y = 'mean', grid = True, title = 'Средняя цена километра от центра')\n",
    "\n",
    "cost_spb_km.sort_values('median', ascending = False)\n",
    "\n",
    "spb['city_center_km'].corr(spb['price_meter'])\n"
   ]
  },
  {
   "cell_type": "markdown",
   "metadata": {},
   "source": [
    "При удалении от центра цена падает."
   ]
  },
  {
   "cell_type": "markdown",
   "metadata": {},
   "source": [
    "### Общий вывод"
   ]
  },
  {
   "cell_type": "markdown",
   "metadata": {},
   "source": [
    "**Ознакомились с полученными данными:** обработали пропущенные значения там, настроили типизацию данных для удобной работы, изучили уникальные значения в столбце с названиями и устранили неявные дубликаты в названиях локаций, нашли и устранили редкие и выбивающиеся значения в высоте потолоков.\n",
    "\n",
    "**Посчитали необходимые значения:** посчитали и добавили в таблицу цену квадратного метра жилья, вывели из даты дни недели, месяцы и года размещения объявлений, добавили категории по этажам квартир, добавили значения расстояний в км.\n",
    "\n",
    "**Провели исследовательский анализ данных:** больше всего квартиры размещают в будние дни в феврале, марте, апреле и осенью (сентябрь, октябрь, ноябрь), в среднем квартиры продаются от 45 дней до 232. Стоимость квартиры больше всего зависит от общей площади (наибольший показатель корреляции). Еще зависит от количества комнат (больше - дороже), и от первого и последнего этажа (они дешевле). Наибольшая цена квадратного метра в Спб и городах вблизи, Выборг в 2 раза дешевле Спб. Резкое падение цены после 3 км от центра. Есть резкое поднятие цены где-то на 6 км. Дальше идет плавный спад цены. "
   ]
  },
  {
   "cell_type": "markdown",
   "metadata": {},
   "source": [
    "**Чек-лист готовности проекта**\n",
    "\n",
    "Поставьте 'x' в выполненных пунктах. Далее нажмите Shift+Enter."
   ]
  },
  {
   "cell_type": "markdown",
   "metadata": {},
   "source": [
    "- [x]  открыт файл\n",
    "- [x]  файлы изучены (выведены первые строки, метод `info()`, гистограммы и т.д.)\n",
    "- [x]  определены пропущенные значения\n",
    "- [x]  заполнены пропущенные значения там, где это возможно\n",
    "- [x]  есть пояснение, какие пропущенные значения обнаружены\n",
    "- [x]  изменены типы данных\n",
    "- [x]  есть пояснение, в каких столбцах изменены типы и почему\n",
    "- [x]  устранены неявные дубликаты в названиях населённых пунктов\n",
    "- [x]  устранены редкие и выбивающиеся значения (аномалии) во всех столбцах\n",
    "- [x]  посчитано и добавлено в таблицу: цена одного квадратного метра\n",
    "- [x]  посчитано и добавлено в таблицу: день публикации объявления (0 - понедельник, 1 - вторник и т.д.)\n",
    "- [x]  посчитано и добавлено в таблицу: месяц публикации объявления\n",
    "- [x]  посчитано и добавлено в таблицу: год публикации объявления\n",
    "- [x]  посчитано и добавлено в таблицу: тип этажа квартиры (значения — «первый», «последний», «другой»)\n",
    "- [x]  посчитано и добавлено в таблицу: расстояние в км до центра города\n",
    "- [x]  изучены и описаны следующие параметры:\n",
    "        - общая площадь;\n",
    "        - жилая площадь;\n",
    "        - площадь кухни;\n",
    "        - цена объекта;\n",
    "        - количество комнат;\n",
    "        - высота потолков;\n",
    "        - этаж квартиры;\n",
    "        - тип этажа квартиры («первый», «последний», «другой»);\n",
    "        - общее количество этажей в доме;\n",
    "        - расстояние до центра города в метрах;\n",
    "        - расстояние до ближайшего аэропорта;\n",
    "        - расстояние до ближайшего парка;\n",
    "        - день и месяц публикации объявления\n",
    "- [x]  построены гистограммы для каждого параметра\n",
    "- [x]  выполнено задание: \"Изучите, как быстро продавались квартиры (столбец days_exposition). Этот параметр показывает, сколько дней «висело» каждое объявление.\n",
    "    - Постройте гистограмму.\n",
    "    - Посчитайте среднее и медиану.\n",
    "    - В ячейке типа markdown опишите, сколько обычно занимает продажа. Какие продажи можно считать быстрыми, а какие — необычно долгими?\"\n",
    "- [x]  выполнено задание: \"Какие факторы больше всего влияют на общую (полную) стоимость объекта? Постройте графики, которые покажут зависимость цены от указанных ниже параметров. Для подготовки данных перед визуализацией вы можете использовать сводные таблицы.\"\n",
    "        - общей площади;\n",
    "        - жилой площади;\n",
    "        - площади кухни;\n",
    "        - количество комнат;\n",
    "        - типа этажа, на котором расположена квартира (первый, последний, другой);\n",
    "        - даты размещения (день недели, месяц, год);\n",
    "- [x]  выполнено задание: \"Посчитайте среднюю цену одного квадратного метра в 10 населённых пунктах с наибольшим числом объявлений. Выделите населённые пункты с самой высокой и низкой стоимостью квадратного метра. Эти данные можно найти по имени в столбце `locality_name`.\"\n",
    "- [x]  выполнено задание: \"Ранее вы посчитали расстояние до центра в километрах. Теперь выделите квартиры в Санкт-Петербурге с помощью столбца `locality_name` и вычислите среднюю цену каждого километра. Опишите, как стоимость объектов зависит от расстояния до центра города.\"\n",
    "- [x]  в каждом этапе есть промежуточные выводы\n",
    "- [x]  есть общий вывод"
   ]
  },
  {
   "cell_type": "code",
   "execution_count": null,
   "metadata": {},
   "outputs": [],
   "source": []
  }
 ],
 "metadata": {
  "ExecuteTimeLog": [
   {
    "duration": 734,
    "start_time": "2022-09-04T20:13:55.556Z"
   },
   {
    "duration": 95,
    "start_time": "2022-09-04T20:14:10.658Z"
   },
   {
    "duration": 42,
    "start_time": "2022-09-04T20:17:03.531Z"
   },
   {
    "duration": 91,
    "start_time": "2022-09-04T20:17:16.034Z"
   },
   {
    "duration": 93,
    "start_time": "2022-09-04T20:17:23.910Z"
   },
   {
    "duration": 104,
    "start_time": "2022-09-04T20:18:36.750Z"
   },
   {
    "duration": 35,
    "start_time": "2022-09-04T20:18:47.354Z"
   },
   {
    "duration": 88,
    "start_time": "2022-09-04T20:18:58.356Z"
   },
   {
    "duration": 86,
    "start_time": "2022-09-04T20:24:23.821Z"
   },
   {
    "duration": 54,
    "start_time": "2022-09-04T20:26:20.999Z"
   },
   {
    "duration": 125,
    "start_time": "2022-09-04T20:26:34.859Z"
   },
   {
    "duration": 99,
    "start_time": "2022-09-04T20:26:45.770Z"
   },
   {
    "duration": 2481,
    "start_time": "2022-09-04T20:27:44.805Z"
   },
   {
    "duration": 1869,
    "start_time": "2022-09-04T20:27:57.652Z"
   },
   {
    "duration": 1918,
    "start_time": "2022-09-04T20:28:41.031Z"
   },
   {
    "duration": 2743,
    "start_time": "2022-09-04T20:29:05.951Z"
   },
   {
    "duration": 57,
    "start_time": "2022-09-04T20:29:08.697Z"
   },
   {
    "duration": 0,
    "start_time": "2022-09-04T20:29:08.756Z"
   },
   {
    "duration": 0,
    "start_time": "2022-09-04T20:29:08.758Z"
   },
   {
    "duration": 1894,
    "start_time": "2022-09-04T20:29:53.930Z"
   },
   {
    "duration": 2013,
    "start_time": "2022-09-04T20:30:10.423Z"
   },
   {
    "duration": 107,
    "start_time": "2022-09-04T20:30:22.461Z"
   },
   {
    "duration": 103,
    "start_time": "2022-09-04T20:30:28.031Z"
   },
   {
    "duration": 101,
    "start_time": "2022-09-04T20:30:32.775Z"
   },
   {
    "duration": 1838,
    "start_time": "2022-09-04T20:30:54.034Z"
   },
   {
    "duration": 2003,
    "start_time": "2022-09-04T20:32:32.361Z"
   },
   {
    "duration": 3012,
    "start_time": "2022-09-05T15:06:43.006Z"
   },
   {
    "duration": 69,
    "start_time": "2022-09-10T13:04:27.959Z"
   },
   {
    "duration": 3570,
    "start_time": "2022-09-10T13:04:34.490Z"
   },
   {
    "duration": 27,
    "start_time": "2022-09-10T13:04:43.024Z"
   },
   {
    "duration": 9,
    "start_time": "2022-09-10T13:18:30.336Z"
   },
   {
    "duration": 9,
    "start_time": "2022-09-10T13:22:22.466Z"
   },
   {
    "duration": 14,
    "start_time": "2022-09-10T13:23:05.437Z"
   },
   {
    "duration": 25,
    "start_time": "2022-09-10T13:23:20.302Z"
   },
   {
    "duration": 1996,
    "start_time": "2022-09-10T13:23:39.246Z"
   },
   {
    "duration": 8,
    "start_time": "2022-09-10T13:23:48.973Z"
   },
   {
    "duration": 9,
    "start_time": "2022-09-10T13:23:55.095Z"
   },
   {
    "duration": 1960,
    "start_time": "2022-09-10T13:24:02.740Z"
   },
   {
    "duration": 11,
    "start_time": "2022-09-10T13:24:11.003Z"
   },
   {
    "duration": 11,
    "start_time": "2022-09-10T13:24:26.575Z"
   },
   {
    "duration": 31,
    "start_time": "2022-09-10T13:27:26.659Z"
   },
   {
    "duration": 17,
    "start_time": "2022-09-10T13:28:05.504Z"
   },
   {
    "duration": 17,
    "start_time": "2022-09-10T13:28:19.803Z"
   },
   {
    "duration": 19,
    "start_time": "2022-09-10T13:28:57.240Z"
   },
   {
    "duration": 13,
    "start_time": "2022-09-10T13:29:28.831Z"
   },
   {
    "duration": 9,
    "start_time": "2022-09-10T13:30:31.777Z"
   },
   {
    "duration": 7,
    "start_time": "2022-09-10T13:31:05.043Z"
   },
   {
    "duration": 80,
    "start_time": "2022-09-10T13:31:43.502Z"
   },
   {
    "duration": 12,
    "start_time": "2022-09-10T13:31:46.587Z"
   },
   {
    "duration": 5,
    "start_time": "2022-09-10T13:31:59.753Z"
   },
   {
    "duration": 55,
    "start_time": "2022-09-10T13:32:22.793Z"
   },
   {
    "duration": 17,
    "start_time": "2022-09-10T13:33:33.736Z"
   },
   {
    "duration": 11,
    "start_time": "2022-09-10T13:33:41.242Z"
   },
   {
    "duration": 101,
    "start_time": "2022-09-10T13:33:48.164Z"
   },
   {
    "duration": 17,
    "start_time": "2022-09-10T13:34:14.801Z"
   },
   {
    "duration": 10,
    "start_time": "2022-09-10T13:34:21.033Z"
   },
   {
    "duration": 7,
    "start_time": "2022-09-10T13:34:30.549Z"
   },
   {
    "duration": 1859,
    "start_time": "2022-09-10T13:35:09.034Z"
   },
   {
    "duration": 32,
    "start_time": "2022-09-10T13:35:22.806Z"
   },
   {
    "duration": 16,
    "start_time": "2022-09-10T13:45:42.827Z"
   },
   {
    "duration": 10,
    "start_time": "2022-09-10T13:46:13.329Z"
   },
   {
    "duration": 6,
    "start_time": "2022-09-10T13:46:27.539Z"
   },
   {
    "duration": 2054,
    "start_time": "2022-09-10T14:03:03.900Z"
   },
   {
    "duration": 9,
    "start_time": "2022-09-10T14:03:25.182Z"
   },
   {
    "duration": 9,
    "start_time": "2022-09-10T14:04:26.759Z"
   },
   {
    "duration": 10,
    "start_time": "2022-09-10T14:04:52.298Z"
   },
   {
    "duration": 5,
    "start_time": "2022-09-10T14:05:43.833Z"
   },
   {
    "duration": 6,
    "start_time": "2022-09-10T14:05:52.569Z"
   },
   {
    "duration": 5,
    "start_time": "2022-09-10T14:06:03.669Z"
   },
   {
    "duration": 6,
    "start_time": "2022-09-10T14:06:10.966Z"
   },
   {
    "duration": 7,
    "start_time": "2022-09-10T14:15:09.432Z"
   },
   {
    "duration": 7,
    "start_time": "2022-09-10T14:15:17.343Z"
   },
   {
    "duration": 5,
    "start_time": "2022-09-10T14:15:46.146Z"
   },
   {
    "duration": 6,
    "start_time": "2022-09-10T14:16:30.599Z"
   },
   {
    "duration": 15,
    "start_time": "2022-09-10T14:17:21.331Z"
   },
   {
    "duration": 13,
    "start_time": "2022-09-10T14:17:30.054Z"
   },
   {
    "duration": 4,
    "start_time": "2022-09-10T14:17:45.553Z"
   },
   {
    "duration": 6,
    "start_time": "2022-09-10T14:18:05.766Z"
   },
   {
    "duration": 163,
    "start_time": "2022-09-10T14:23:15.970Z"
   },
   {
    "duration": 931,
    "start_time": "2022-09-10T14:23:37.829Z"
   },
   {
    "duration": 14,
    "start_time": "2022-09-10T14:24:01.024Z"
   },
   {
    "duration": 48,
    "start_time": "2022-09-10T14:26:50.332Z"
   },
   {
    "duration": 8,
    "start_time": "2022-09-10T14:26:55.946Z"
   },
   {
    "duration": 1968,
    "start_time": "2022-09-10T14:27:02.038Z"
   },
   {
    "duration": 33,
    "start_time": "2022-09-10T14:27:06.516Z"
   },
   {
    "duration": 31,
    "start_time": "2022-09-10T14:27:12.105Z"
   },
   {
    "duration": 5,
    "start_time": "2022-09-10T14:27:24.042Z"
   },
   {
    "duration": 5,
    "start_time": "2022-09-10T14:27:37.540Z"
   },
   {
    "duration": 9,
    "start_time": "2022-09-10T14:28:17.330Z"
   },
   {
    "duration": 4,
    "start_time": "2022-09-10T14:29:44.402Z"
   },
   {
    "duration": 14,
    "start_time": "2022-09-10T14:29:55.933Z"
   },
   {
    "duration": 5,
    "start_time": "2022-09-10T14:31:16.837Z"
   },
   {
    "duration": 5,
    "start_time": "2022-09-10T14:33:38.050Z"
   },
   {
    "duration": 7,
    "start_time": "2022-09-10T14:34:01.441Z"
   },
   {
    "duration": 4,
    "start_time": "2022-09-10T14:34:17.442Z"
   },
   {
    "duration": 31,
    "start_time": "2022-09-10T14:34:26.609Z"
   },
   {
    "duration": 4,
    "start_time": "2022-09-10T14:34:32.156Z"
   },
   {
    "duration": 6,
    "start_time": "2022-09-10T14:35:05.949Z"
   },
   {
    "duration": 2186,
    "start_time": "2022-09-10T14:35:33.497Z"
   },
   {
    "duration": 1904,
    "start_time": "2022-09-10T14:35:51.270Z"
   },
   {
    "duration": 7,
    "start_time": "2022-09-10T14:38:12.498Z"
   },
   {
    "duration": 8,
    "start_time": "2022-09-10T14:38:35.492Z"
   },
   {
    "duration": 12,
    "start_time": "2022-09-10T14:38:48.223Z"
   },
   {
    "duration": 7,
    "start_time": "2022-09-10T14:38:55.586Z"
   },
   {
    "duration": 6,
    "start_time": "2022-09-10T14:39:08.495Z"
   },
   {
    "duration": 5,
    "start_time": "2022-09-10T14:39:16.771Z"
   },
   {
    "duration": 6,
    "start_time": "2022-09-10T14:39:21.238Z"
   },
   {
    "duration": 14,
    "start_time": "2022-09-10T14:39:25.105Z"
   },
   {
    "duration": 10,
    "start_time": "2022-09-10T14:39:32.234Z"
   },
   {
    "duration": 10,
    "start_time": "2022-09-10T14:39:39.461Z"
   },
   {
    "duration": 9,
    "start_time": "2022-09-10T14:39:49.430Z"
   },
   {
    "duration": 277,
    "start_time": "2022-09-10T14:39:54.596Z"
   },
   {
    "duration": 7,
    "start_time": "2022-09-10T14:40:07.191Z"
   },
   {
    "duration": 21,
    "start_time": "2022-09-10T14:40:13.708Z"
   },
   {
    "duration": 5,
    "start_time": "2022-09-10T14:40:26.192Z"
   },
   {
    "duration": 5,
    "start_time": "2022-09-10T14:40:34.261Z"
   },
   {
    "duration": 5,
    "start_time": "2022-09-10T14:40:35.864Z"
   },
   {
    "duration": 5,
    "start_time": "2022-09-10T14:40:51.850Z"
   },
   {
    "duration": 17,
    "start_time": "2022-09-10T14:40:56.520Z"
   },
   {
    "duration": 7,
    "start_time": "2022-09-10T14:41:45.380Z"
   },
   {
    "duration": 9,
    "start_time": "2022-09-10T14:42:00.204Z"
   },
   {
    "duration": 7,
    "start_time": "2022-09-10T14:42:39.005Z"
   },
   {
    "duration": 7,
    "start_time": "2022-09-10T14:42:48.636Z"
   },
   {
    "duration": 7,
    "start_time": "2022-09-10T14:42:54.595Z"
   },
   {
    "duration": 21,
    "start_time": "2022-09-10T14:43:30.680Z"
   },
   {
    "duration": 5,
    "start_time": "2022-09-10T14:44:35.032Z"
   },
   {
    "duration": 4,
    "start_time": "2022-09-10T14:44:54.628Z"
   },
   {
    "duration": 4,
    "start_time": "2022-09-10T14:44:57.395Z"
   },
   {
    "duration": 3,
    "start_time": "2022-09-10T14:45:00.240Z"
   },
   {
    "duration": 4,
    "start_time": "2022-09-10T14:45:02.273Z"
   },
   {
    "duration": 2649,
    "start_time": "2022-09-10T14:45:16.775Z"
   },
   {
    "duration": 9,
    "start_time": "2022-09-10T14:45:19.426Z"
   },
   {
    "duration": 5,
    "start_time": "2022-09-10T14:45:19.438Z"
   },
   {
    "duration": 9,
    "start_time": "2022-09-10T14:45:19.444Z"
   },
   {
    "duration": 4,
    "start_time": "2022-09-10T14:45:19.454Z"
   },
   {
    "duration": 4,
    "start_time": "2022-09-10T14:45:19.460Z"
   },
   {
    "duration": 4,
    "start_time": "2022-09-10T14:45:19.465Z"
   },
   {
    "duration": 7,
    "start_time": "2022-09-10T14:45:19.471Z"
   },
   {
    "duration": 8,
    "start_time": "2022-09-10T14:45:29.590Z"
   },
   {
    "duration": 3,
    "start_time": "2022-09-10T14:45:37.365Z"
   },
   {
    "duration": 4,
    "start_time": "2022-09-10T14:46:20.222Z"
   },
   {
    "duration": 3,
    "start_time": "2022-09-10T14:46:33.841Z"
   },
   {
    "duration": 2691,
    "start_time": "2022-09-10T14:46:40.081Z"
   },
   {
    "duration": 9,
    "start_time": "2022-09-10T14:46:42.774Z"
   },
   {
    "duration": 5,
    "start_time": "2022-09-10T14:46:42.785Z"
   },
   {
    "duration": 11,
    "start_time": "2022-09-10T14:46:42.792Z"
   },
   {
    "duration": 40,
    "start_time": "2022-09-10T14:46:42.804Z"
   },
   {
    "duration": 20,
    "start_time": "2022-09-10T14:46:42.846Z"
   },
   {
    "duration": 26,
    "start_time": "2022-09-10T14:46:42.868Z"
   },
   {
    "duration": 26,
    "start_time": "2022-09-10T14:46:42.896Z"
   },
   {
    "duration": 7,
    "start_time": "2022-09-10T14:46:47.624Z"
   },
   {
    "duration": 3,
    "start_time": "2022-09-10T14:46:49.925Z"
   },
   {
    "duration": 2540,
    "start_time": "2022-09-10T14:47:56.488Z"
   },
   {
    "duration": 9,
    "start_time": "2022-09-10T14:47:59.030Z"
   },
   {
    "duration": 7,
    "start_time": "2022-09-10T14:47:59.040Z"
   },
   {
    "duration": 7,
    "start_time": "2022-09-10T14:47:59.048Z"
   },
   {
    "duration": 7,
    "start_time": "2022-09-10T14:47:59.057Z"
   },
   {
    "duration": 7,
    "start_time": "2022-09-10T14:47:59.065Z"
   },
   {
    "duration": 4,
    "start_time": "2022-09-10T14:47:59.073Z"
   },
   {
    "duration": 4,
    "start_time": "2022-09-10T14:47:59.079Z"
   },
   {
    "duration": 78,
    "start_time": "2022-09-10T14:50:10.754Z"
   },
   {
    "duration": 5,
    "start_time": "2022-09-10T14:50:24.136Z"
   },
   {
    "duration": 27,
    "start_time": "2022-09-10T15:03:17.932Z"
   },
   {
    "duration": 22,
    "start_time": "2022-09-10T15:04:37.377Z"
   },
   {
    "duration": 2601,
    "start_time": "2022-09-10T15:07:17.721Z"
   },
   {
    "duration": 8,
    "start_time": "2022-09-10T15:07:20.324Z"
   },
   {
    "duration": 12,
    "start_time": "2022-09-10T15:07:20.334Z"
   },
   {
    "duration": 105,
    "start_time": "2022-09-10T15:07:20.348Z"
   },
   {
    "duration": 0,
    "start_time": "2022-09-10T15:07:20.454Z"
   },
   {
    "duration": 0,
    "start_time": "2022-09-10T15:07:20.455Z"
   },
   {
    "duration": 0,
    "start_time": "2022-09-10T15:07:20.456Z"
   },
   {
    "duration": 0,
    "start_time": "2022-09-10T15:07:20.458Z"
   },
   {
    "duration": 31,
    "start_time": "2022-09-10T15:08:40.499Z"
   },
   {
    "duration": 27,
    "start_time": "2022-09-10T15:08:53.861Z"
   },
   {
    "duration": 22,
    "start_time": "2022-09-10T15:09:48.236Z"
   },
   {
    "duration": 35,
    "start_time": "2022-09-10T15:13:57.996Z"
   },
   {
    "duration": 11,
    "start_time": "2022-09-10T15:14:34.770Z"
   },
   {
    "duration": 78,
    "start_time": "2022-09-10T15:14:38.445Z"
   },
   {
    "duration": 2733,
    "start_time": "2022-09-10T15:15:56.371Z"
   },
   {
    "duration": 21,
    "start_time": "2022-09-10T15:15:59.106Z"
   },
   {
    "duration": 29,
    "start_time": "2022-09-10T15:15:59.132Z"
   },
   {
    "duration": 10,
    "start_time": "2022-09-10T15:15:59.164Z"
   },
   {
    "duration": 6,
    "start_time": "2022-09-10T15:15:59.176Z"
   },
   {
    "duration": 6,
    "start_time": "2022-09-10T15:15:59.184Z"
   },
   {
    "duration": 5,
    "start_time": "2022-09-10T15:15:59.192Z"
   },
   {
    "duration": 7,
    "start_time": "2022-09-10T15:15:59.199Z"
   },
   {
    "duration": 8,
    "start_time": "2022-09-10T15:17:12.107Z"
   },
   {
    "duration": 30,
    "start_time": "2022-09-10T15:17:19.306Z"
   },
   {
    "duration": 9,
    "start_time": "2022-09-10T15:18:08.769Z"
   },
   {
    "duration": 8,
    "start_time": "2022-09-10T15:19:51.396Z"
   },
   {
    "duration": 10,
    "start_time": "2022-09-10T15:20:19.162Z"
   },
   {
    "duration": 50,
    "start_time": "2022-09-10T15:25:30.931Z"
   },
   {
    "duration": 61,
    "start_time": "2022-09-10T15:25:55.837Z"
   },
   {
    "duration": 88,
    "start_time": "2022-09-10T15:33:39.183Z"
   },
   {
    "duration": 4,
    "start_time": "2022-09-10T15:33:52.731Z"
   },
   {
    "duration": 4,
    "start_time": "2022-09-10T15:34:03.299Z"
   },
   {
    "duration": 4,
    "start_time": "2022-09-10T15:34:16.701Z"
   },
   {
    "duration": 1074,
    "start_time": "2022-09-10T15:34:58.369Z"
   },
   {
    "duration": 13,
    "start_time": "2022-09-10T15:35:15.142Z"
   },
   {
    "duration": 2773,
    "start_time": "2022-09-10T15:35:23.236Z"
   },
   {
    "duration": 24,
    "start_time": "2022-09-10T15:35:26.011Z"
   },
   {
    "duration": 14,
    "start_time": "2022-09-10T15:35:26.044Z"
   },
   {
    "duration": 13,
    "start_time": "2022-09-10T15:35:26.061Z"
   },
   {
    "duration": 7,
    "start_time": "2022-09-10T15:35:26.076Z"
   },
   {
    "duration": 12,
    "start_time": "2022-09-10T15:35:26.084Z"
   },
   {
    "duration": 75,
    "start_time": "2022-09-10T15:35:26.097Z"
   },
   {
    "duration": 10,
    "start_time": "2022-09-10T15:35:26.175Z"
   },
   {
    "duration": 6,
    "start_time": "2022-09-10T15:35:26.186Z"
   },
   {
    "duration": 24,
    "start_time": "2022-09-10T15:35:26.193Z"
   },
   {
    "duration": 15,
    "start_time": "2022-09-10T15:35:41.240Z"
   },
   {
    "duration": 5,
    "start_time": "2022-09-10T15:35:44.064Z"
   },
   {
    "duration": 4,
    "start_time": "2022-09-10T15:35:44.942Z"
   },
   {
    "duration": 4,
    "start_time": "2022-09-10T15:36:42.598Z"
   },
   {
    "duration": 2627,
    "start_time": "2022-09-10T15:36:52.069Z"
   },
   {
    "duration": 21,
    "start_time": "2022-09-10T15:36:54.699Z"
   },
   {
    "duration": 42,
    "start_time": "2022-09-10T15:36:54.723Z"
   },
   {
    "duration": 18,
    "start_time": "2022-09-10T15:36:54.766Z"
   },
   {
    "duration": 11,
    "start_time": "2022-09-10T15:36:54.786Z"
   },
   {
    "duration": 8,
    "start_time": "2022-09-10T15:36:54.798Z"
   },
   {
    "duration": 79,
    "start_time": "2022-09-10T15:36:54.807Z"
   },
   {
    "duration": 9,
    "start_time": "2022-09-10T15:36:54.888Z"
   },
   {
    "duration": 4,
    "start_time": "2022-09-10T15:36:54.899Z"
   },
   {
    "duration": 11,
    "start_time": "2022-09-10T15:36:54.904Z"
   },
   {
    "duration": 32,
    "start_time": "2022-09-10T15:36:54.916Z"
   },
   {
    "duration": 4,
    "start_time": "2022-09-10T15:38:26.041Z"
   },
   {
    "duration": 12,
    "start_time": "2022-09-10T15:38:44.603Z"
   },
   {
    "duration": 4,
    "start_time": "2022-09-10T15:38:50.863Z"
   },
   {
    "duration": 8,
    "start_time": "2022-09-10T15:40:42.586Z"
   },
   {
    "duration": 9,
    "start_time": "2022-09-10T15:42:07.536Z"
   },
   {
    "duration": 10,
    "start_time": "2022-09-10T15:42:49.162Z"
   },
   {
    "duration": 10,
    "start_time": "2022-09-10T17:18:49.758Z"
   },
   {
    "duration": 5,
    "start_time": "2022-09-10T17:19:19.566Z"
   },
   {
    "duration": 2617,
    "start_time": "2022-09-10T17:19:26.870Z"
   },
   {
    "duration": 8,
    "start_time": "2022-09-10T17:19:29.489Z"
   },
   {
    "duration": 9,
    "start_time": "2022-09-10T17:19:29.498Z"
   },
   {
    "duration": 19,
    "start_time": "2022-09-10T17:19:29.512Z"
   },
   {
    "duration": 18,
    "start_time": "2022-09-10T17:19:29.532Z"
   },
   {
    "duration": 9,
    "start_time": "2022-09-10T17:19:29.551Z"
   },
   {
    "duration": 40,
    "start_time": "2022-09-10T17:19:29.561Z"
   },
   {
    "duration": 21,
    "start_time": "2022-09-10T17:19:29.602Z"
   },
   {
    "duration": 14,
    "start_time": "2022-09-10T17:19:29.624Z"
   },
   {
    "duration": 16,
    "start_time": "2022-09-10T17:19:29.640Z"
   },
   {
    "duration": 4,
    "start_time": "2022-09-10T17:19:29.658Z"
   },
   {
    "duration": 7,
    "start_time": "2022-09-10T17:19:29.663Z"
   },
   {
    "duration": 10,
    "start_time": "2022-09-10T17:19:43.044Z"
   },
   {
    "duration": 9,
    "start_time": "2022-09-10T17:21:10.438Z"
   },
   {
    "duration": 82,
    "start_time": "2022-09-10T17:34:15.485Z"
   },
   {
    "duration": 86,
    "start_time": "2022-09-10T17:34:51.443Z"
   },
   {
    "duration": 93,
    "start_time": "2022-09-10T17:35:02.176Z"
   },
   {
    "duration": 73,
    "start_time": "2022-09-10T17:35:13.246Z"
   },
   {
    "duration": 97,
    "start_time": "2022-09-10T17:35:31.766Z"
   },
   {
    "duration": 81,
    "start_time": "2022-09-10T17:35:59.005Z"
   },
   {
    "duration": 70,
    "start_time": "2022-09-10T17:36:29.237Z"
   },
   {
    "duration": 18,
    "start_time": "2022-09-10T17:36:38.818Z"
   },
   {
    "duration": 2556,
    "start_time": "2022-09-10T17:56:19.024Z"
   },
   {
    "duration": 9,
    "start_time": "2022-09-10T17:56:21.582Z"
   },
   {
    "duration": 7,
    "start_time": "2022-09-10T17:56:21.592Z"
   },
   {
    "duration": 21,
    "start_time": "2022-09-10T17:56:21.600Z"
   },
   {
    "duration": 11,
    "start_time": "2022-09-10T17:56:21.624Z"
   },
   {
    "duration": 10,
    "start_time": "2022-09-10T17:56:21.637Z"
   },
   {
    "duration": 42,
    "start_time": "2022-09-10T17:56:21.649Z"
   },
   {
    "duration": 8,
    "start_time": "2022-09-10T17:56:21.693Z"
   },
   {
    "duration": 28,
    "start_time": "2022-09-10T17:56:21.702Z"
   },
   {
    "duration": 12,
    "start_time": "2022-09-10T17:56:21.732Z"
   },
   {
    "duration": 77,
    "start_time": "2022-09-10T17:56:21.746Z"
   },
   {
    "duration": 10,
    "start_time": "2022-09-10T17:56:21.828Z"
   },
   {
    "duration": 3,
    "start_time": "2022-09-10T17:56:21.839Z"
   },
   {
    "duration": 6,
    "start_time": "2022-09-10T17:56:21.844Z"
   },
   {
    "duration": 117,
    "start_time": "2022-09-10T18:03:00.072Z"
   },
   {
    "duration": 21,
    "start_time": "2022-09-10T18:03:05.841Z"
   },
   {
    "duration": 1972,
    "start_time": "2022-09-10T18:03:09.485Z"
   },
   {
    "duration": 24,
    "start_time": "2022-09-10T18:04:28.050Z"
   },
   {
    "duration": 13,
    "start_time": "2022-09-10T18:04:40.567Z"
   },
   {
    "duration": 1944,
    "start_time": "2022-09-10T18:04:43.500Z"
   },
   {
    "duration": 66,
    "start_time": "2022-09-10T18:06:41.628Z"
   },
   {
    "duration": 20,
    "start_time": "2022-09-10T18:08:39.141Z"
   },
   {
    "duration": 8,
    "start_time": "2022-09-10T18:14:30.221Z"
   },
   {
    "duration": 506,
    "start_time": "2022-09-10T18:14:46.046Z"
   },
   {
    "duration": 29,
    "start_time": "2022-09-10T18:14:46.554Z"
   },
   {
    "duration": 86,
    "start_time": "2022-09-10T18:14:46.584Z"
   },
   {
    "duration": 13,
    "start_time": "2022-09-10T18:14:46.672Z"
   },
   {
    "duration": 2137,
    "start_time": "2022-09-10T18:14:46.687Z"
   },
   {
    "duration": 10,
    "start_time": "2022-09-10T18:14:48.826Z"
   },
   {
    "duration": 15,
    "start_time": "2022-09-10T18:14:48.838Z"
   },
   {
    "duration": 14,
    "start_time": "2022-09-10T18:14:48.854Z"
   },
   {
    "duration": 8,
    "start_time": "2022-09-10T18:14:48.869Z"
   },
   {
    "duration": 9,
    "start_time": "2022-09-10T18:14:48.879Z"
   },
   {
    "duration": 55,
    "start_time": "2022-09-10T18:14:48.890Z"
   },
   {
    "duration": 10,
    "start_time": "2022-09-10T18:14:48.947Z"
   },
   {
    "duration": 8,
    "start_time": "2022-09-10T18:14:48.959Z"
   },
   {
    "duration": 9,
    "start_time": "2022-09-10T18:14:48.970Z"
   },
   {
    "duration": 102,
    "start_time": "2022-09-10T18:14:48.981Z"
   },
   {
    "duration": 7,
    "start_time": "2022-09-10T18:14:49.084Z"
   },
   {
    "duration": 2,
    "start_time": "2022-09-10T18:14:49.093Z"
   },
   {
    "duration": 12,
    "start_time": "2022-09-10T18:14:49.097Z"
   },
   {
    "duration": 5,
    "start_time": "2022-09-10T18:19:14.090Z"
   },
   {
    "duration": 10,
    "start_time": "2022-09-10T18:20:27.666Z"
   },
   {
    "duration": 38,
    "start_time": "2022-09-10T18:20:40.756Z"
   },
   {
    "duration": 9,
    "start_time": "2022-09-10T18:20:49.558Z"
   },
   {
    "duration": 9,
    "start_time": "2022-09-10T18:20:50.038Z"
   },
   {
    "duration": 11,
    "start_time": "2022-09-10T18:20:50.624Z"
   },
   {
    "duration": 77,
    "start_time": "2022-09-10T18:20:52.845Z"
   },
   {
    "duration": 5,
    "start_time": "2022-09-10T18:20:55.987Z"
   },
   {
    "duration": 867,
    "start_time": "2022-09-10T18:21:20.576Z"
   },
   {
    "duration": 80,
    "start_time": "2022-09-10T18:21:56.326Z"
   },
   {
    "duration": 115,
    "start_time": "2022-09-10T18:22:05.978Z"
   },
   {
    "duration": 26,
    "start_time": "2022-09-10T18:23:16.606Z"
   },
   {
    "duration": 4,
    "start_time": "2022-09-10T18:23:25.066Z"
   },
   {
    "duration": 9,
    "start_time": "2022-09-10T18:23:27.025Z"
   },
   {
    "duration": 12,
    "start_time": "2022-09-10T18:23:27.634Z"
   },
   {
    "duration": 12,
    "start_time": "2022-09-10T18:23:28.535Z"
   },
   {
    "duration": 93,
    "start_time": "2022-09-10T18:23:29.347Z"
   },
   {
    "duration": 5,
    "start_time": "2022-09-10T18:23:30.864Z"
   },
   {
    "duration": 583,
    "start_time": "2022-09-10T18:23:43.878Z"
   },
   {
    "duration": 33,
    "start_time": "2022-09-10T18:23:44.464Z"
   },
   {
    "duration": 96,
    "start_time": "2022-09-10T18:23:44.500Z"
   },
   {
    "duration": 19,
    "start_time": "2022-09-10T18:23:44.600Z"
   },
   {
    "duration": 2279,
    "start_time": "2022-09-10T18:23:44.621Z"
   },
   {
    "duration": 17,
    "start_time": "2022-09-10T18:23:46.902Z"
   },
   {
    "duration": 51,
    "start_time": "2022-09-10T18:23:46.920Z"
   },
   {
    "duration": 50,
    "start_time": "2022-09-10T18:23:46.973Z"
   },
   {
    "duration": 35,
    "start_time": "2022-09-10T18:23:47.025Z"
   },
   {
    "duration": 32,
    "start_time": "2022-09-10T18:23:47.063Z"
   },
   {
    "duration": 22,
    "start_time": "2022-09-10T18:23:47.097Z"
   },
   {
    "duration": 42,
    "start_time": "2022-09-10T18:23:47.124Z"
   },
   {
    "duration": 12,
    "start_time": "2022-09-10T18:23:47.168Z"
   },
   {
    "duration": 23,
    "start_time": "2022-09-10T18:23:47.182Z"
   },
   {
    "duration": 124,
    "start_time": "2022-09-10T18:23:47.207Z"
   },
   {
    "duration": 6,
    "start_time": "2022-09-10T18:23:47.332Z"
   },
   {
    "duration": 26,
    "start_time": "2022-09-10T18:23:47.339Z"
   },
   {
    "duration": 15,
    "start_time": "2022-09-10T18:23:47.367Z"
   },
   {
    "duration": 8,
    "start_time": "2022-09-10T18:23:47.384Z"
   },
   {
    "duration": 42,
    "start_time": "2022-09-10T18:23:47.394Z"
   },
   {
    "duration": 2,
    "start_time": "2022-09-10T18:26:30.684Z"
   },
   {
    "duration": 1667,
    "start_time": "2022-09-10T18:32:19.894Z"
   },
   {
    "duration": 13,
    "start_time": "2022-09-10T18:33:01.443Z"
   },
   {
    "duration": 23,
    "start_time": "2022-09-10T18:33:15.611Z"
   },
   {
    "duration": 26,
    "start_time": "2022-09-10T18:33:32.387Z"
   },
   {
    "duration": 33,
    "start_time": "2022-09-10T18:38:27.994Z"
   },
   {
    "duration": 51,
    "start_time": "2022-09-10T18:38:43.966Z"
   },
   {
    "duration": 28,
    "start_time": "2022-09-10T18:39:13.767Z"
   },
   {
    "duration": 51,
    "start_time": "2022-09-10T18:41:29.998Z"
   },
   {
    "duration": 30,
    "start_time": "2022-09-10T18:41:46.460Z"
   },
   {
    "duration": 8,
    "start_time": "2022-09-10T18:42:00.753Z"
   },
   {
    "duration": 5,
    "start_time": "2022-09-10T18:42:07.584Z"
   },
   {
    "duration": 22,
    "start_time": "2022-09-10T18:42:13.296Z"
   },
   {
    "duration": 17,
    "start_time": "2022-09-10T18:42:28.253Z"
   },
   {
    "duration": 19,
    "start_time": "2022-09-10T18:42:36.072Z"
   },
   {
    "duration": 10,
    "start_time": "2022-09-10T18:42:42.349Z"
   },
   {
    "duration": 11,
    "start_time": "2022-09-10T18:43:04.623Z"
   },
   {
    "duration": 489,
    "start_time": "2022-09-10T18:43:17.676Z"
   },
   {
    "duration": 21,
    "start_time": "2022-09-10T18:43:18.166Z"
   },
   {
    "duration": 77,
    "start_time": "2022-09-10T18:43:18.189Z"
   },
   {
    "duration": 13,
    "start_time": "2022-09-10T18:43:18.268Z"
   },
   {
    "duration": 2018,
    "start_time": "2022-09-10T18:43:18.282Z"
   },
   {
    "duration": 21,
    "start_time": "2022-09-10T18:43:20.302Z"
   },
   {
    "duration": 8,
    "start_time": "2022-09-10T18:43:20.324Z"
   },
   {
    "duration": 12,
    "start_time": "2022-09-10T18:43:20.334Z"
   },
   {
    "duration": 12,
    "start_time": "2022-09-10T18:43:20.348Z"
   },
   {
    "duration": 9,
    "start_time": "2022-09-10T18:43:20.363Z"
   },
   {
    "duration": 7,
    "start_time": "2022-09-10T18:43:20.373Z"
   },
   {
    "duration": 12,
    "start_time": "2022-09-10T18:43:20.382Z"
   },
   {
    "duration": 20,
    "start_time": "2022-09-10T18:43:20.409Z"
   },
   {
    "duration": 13,
    "start_time": "2022-09-10T18:43:20.431Z"
   },
   {
    "duration": 77,
    "start_time": "2022-09-10T18:43:20.446Z"
   },
   {
    "duration": 5,
    "start_time": "2022-09-10T18:43:20.525Z"
   },
   {
    "duration": 8,
    "start_time": "2022-09-10T18:43:20.531Z"
   },
   {
    "duration": 27,
    "start_time": "2022-09-10T18:43:20.540Z"
   },
   {
    "duration": 22,
    "start_time": "2022-09-10T18:43:20.568Z"
   },
   {
    "duration": 29,
    "start_time": "2022-09-10T18:43:20.592Z"
   },
   {
    "duration": 3,
    "start_time": "2022-09-10T18:43:20.623Z"
   },
   {
    "duration": 9,
    "start_time": "2022-09-10T18:43:20.627Z"
   },
   {
    "duration": 7,
    "start_time": "2022-09-10T18:43:37.849Z"
   },
   {
    "duration": 7,
    "start_time": "2022-09-10T18:43:45.141Z"
   },
   {
    "duration": 7,
    "start_time": "2022-09-10T18:56:42.758Z"
   },
   {
    "duration": 43,
    "start_time": "2022-09-10T18:56:52.952Z"
   },
   {
    "duration": 9,
    "start_time": "2022-09-10T18:57:13.886Z"
   },
   {
    "duration": 22,
    "start_time": "2022-09-10T18:57:23.158Z"
   },
   {
    "duration": 58,
    "start_time": "2022-09-10T18:57:34.091Z"
   },
   {
    "duration": 26,
    "start_time": "2022-09-10T18:57:44.751Z"
   },
   {
    "duration": 33,
    "start_time": "2022-09-10T18:58:05.096Z"
   },
   {
    "duration": 27,
    "start_time": "2022-09-10T18:58:09.482Z"
   },
   {
    "duration": 111,
    "start_time": "2022-09-10T19:02:24.472Z"
   },
   {
    "duration": 4,
    "start_time": "2022-09-10T19:02:39.548Z"
   },
   {
    "duration": 18,
    "start_time": "2022-09-10T19:02:43.661Z"
   },
   {
    "duration": 3,
    "start_time": "2022-09-10T19:02:44.750Z"
   },
   {
    "duration": 34,
    "start_time": "2022-09-10T19:02:47.401Z"
   },
   {
    "duration": 6,
    "start_time": "2022-09-10T19:08:13.533Z"
   },
   {
    "duration": 17,
    "start_time": "2022-09-10T19:08:14.168Z"
   },
   {
    "duration": 3,
    "start_time": "2022-09-10T19:08:14.838Z"
   },
   {
    "duration": 27,
    "start_time": "2022-09-10T19:08:19.451Z"
   },
   {
    "duration": 386,
    "start_time": "2022-09-10T19:09:07.457Z"
   },
   {
    "duration": 37,
    "start_time": "2022-09-10T19:09:15.092Z"
   },
   {
    "duration": 357,
    "start_time": "2022-09-10T19:09:52.277Z"
   },
   {
    "duration": 26,
    "start_time": "2022-09-10T19:09:59.579Z"
   },
   {
    "duration": 6,
    "start_time": "2022-09-10T19:10:41.593Z"
   },
   {
    "duration": 5,
    "start_time": "2022-09-10T19:10:43.671Z"
   },
   {
    "duration": 20,
    "start_time": "2022-09-10T19:10:44.912Z"
   },
   {
    "duration": 428,
    "start_time": "2022-09-10T19:10:45.595Z"
   },
   {
    "duration": 32,
    "start_time": "2022-09-10T19:10:47.801Z"
   },
   {
    "duration": 10,
    "start_time": "2022-09-10T19:13:19.409Z"
   },
   {
    "duration": 4,
    "start_time": "2022-09-10T19:13:20.802Z"
   },
   {
    "duration": 12,
    "start_time": "2022-09-10T19:13:20.995Z"
   },
   {
    "duration": 378,
    "start_time": "2022-09-10T19:13:21.439Z"
   },
   {
    "duration": 27,
    "start_time": "2022-09-10T19:13:24.837Z"
   },
   {
    "duration": 466,
    "start_time": "2022-09-10T19:17:13.174Z"
   },
   {
    "duration": 31,
    "start_time": "2022-09-10T19:17:13.643Z"
   },
   {
    "duration": 89,
    "start_time": "2022-09-10T19:17:13.676Z"
   },
   {
    "duration": 14,
    "start_time": "2022-09-10T19:17:13.767Z"
   },
   {
    "duration": 2174,
    "start_time": "2022-09-10T19:17:13.782Z"
   },
   {
    "duration": 10,
    "start_time": "2022-09-10T19:17:15.958Z"
   },
   {
    "duration": 7,
    "start_time": "2022-09-10T19:17:15.970Z"
   },
   {
    "duration": 14,
    "start_time": "2022-09-10T19:17:15.979Z"
   },
   {
    "duration": 6,
    "start_time": "2022-09-10T19:17:15.995Z"
   },
   {
    "duration": 21,
    "start_time": "2022-09-10T19:17:16.004Z"
   },
   {
    "duration": 7,
    "start_time": "2022-09-10T19:17:16.026Z"
   },
   {
    "duration": 9,
    "start_time": "2022-09-10T19:17:16.035Z"
   },
   {
    "duration": 9,
    "start_time": "2022-09-10T19:17:16.046Z"
   },
   {
    "duration": 11,
    "start_time": "2022-09-10T19:17:16.056Z"
   },
   {
    "duration": 105,
    "start_time": "2022-09-10T19:17:16.069Z"
   },
   {
    "duration": 5,
    "start_time": "2022-09-10T19:17:16.177Z"
   },
   {
    "duration": 5,
    "start_time": "2022-09-10T19:17:16.184Z"
   },
   {
    "duration": 51,
    "start_time": "2022-09-10T19:17:16.190Z"
   },
   {
    "duration": 6,
    "start_time": "2022-09-10T19:17:16.243Z"
   },
   {
    "duration": 16,
    "start_time": "2022-09-10T19:17:16.251Z"
   },
   {
    "duration": 8,
    "start_time": "2022-09-10T19:17:16.269Z"
   },
   {
    "duration": 12,
    "start_time": "2022-09-10T19:17:16.279Z"
   },
   {
    "duration": 7,
    "start_time": "2022-09-10T19:17:16.293Z"
   },
   {
    "duration": 38,
    "start_time": "2022-09-10T19:17:16.302Z"
   },
   {
    "duration": 15,
    "start_time": "2022-09-10T19:17:16.342Z"
   },
   {
    "duration": 421,
    "start_time": "2022-09-10T19:17:16.358Z"
   },
   {
    "duration": 44,
    "start_time": "2022-09-10T19:17:16.781Z"
   },
   {
    "duration": 4,
    "start_time": "2022-09-10T19:17:16.827Z"
   },
   {
    "duration": 365,
    "start_time": "2022-09-10T19:46:31.088Z"
   },
   {
    "duration": 430,
    "start_time": "2022-09-10T19:46:53.553Z"
   },
   {
    "duration": 12,
    "start_time": "2022-09-10T19:49:24.558Z"
   },
   {
    "duration": 83,
    "start_time": "2022-09-10T19:54:48.480Z"
   },
   {
    "duration": 57,
    "start_time": "2022-09-10T19:55:50.628Z"
   },
   {
    "duration": 3,
    "start_time": "2022-09-10T19:56:06.595Z"
   },
   {
    "duration": 6,
    "start_time": "2022-09-10T19:56:20.753Z"
   },
   {
    "duration": 22,
    "start_time": "2022-09-10T19:56:33.707Z"
   },
   {
    "duration": 4,
    "start_time": "2022-09-10T19:56:35.875Z"
   },
   {
    "duration": 15,
    "start_time": "2022-09-10T19:56:49.980Z"
   },
   {
    "duration": 24,
    "start_time": "2022-09-10T19:56:56.203Z"
   },
   {
    "duration": 10,
    "start_time": "2022-09-10T19:58:01.973Z"
   },
   {
    "duration": 60,
    "start_time": "2022-09-10T20:04:23.764Z"
   },
   {
    "duration": 78,
    "start_time": "2022-09-10T20:04:43.890Z"
   },
   {
    "duration": 11,
    "start_time": "2022-09-10T20:04:51.420Z"
   },
   {
    "duration": 11,
    "start_time": "2022-09-10T20:05:07.525Z"
   },
   {
    "duration": 9,
    "start_time": "2022-09-10T20:05:31.260Z"
   },
   {
    "duration": 9,
    "start_time": "2022-09-10T20:07:33.655Z"
   },
   {
    "duration": 12,
    "start_time": "2022-09-10T20:09:07.203Z"
   },
   {
    "duration": 10,
    "start_time": "2022-09-10T20:09:14.672Z"
   },
   {
    "duration": 11,
    "start_time": "2022-09-10T20:09:24.507Z"
   },
   {
    "duration": 9,
    "start_time": "2022-09-10T20:09:55.977Z"
   },
   {
    "duration": 9,
    "start_time": "2022-09-10T20:10:27.154Z"
   },
   {
    "duration": 509,
    "start_time": "2022-09-10T20:10:35.048Z"
   },
   {
    "duration": 21,
    "start_time": "2022-09-10T20:10:35.559Z"
   },
   {
    "duration": 84,
    "start_time": "2022-09-10T20:10:35.582Z"
   },
   {
    "duration": 14,
    "start_time": "2022-09-10T20:10:35.667Z"
   },
   {
    "duration": 2113,
    "start_time": "2022-09-10T20:10:35.683Z"
   },
   {
    "duration": 25,
    "start_time": "2022-09-10T20:10:37.798Z"
   },
   {
    "duration": 16,
    "start_time": "2022-09-10T20:10:37.824Z"
   },
   {
    "duration": 20,
    "start_time": "2022-09-10T20:10:37.841Z"
   },
   {
    "duration": 15,
    "start_time": "2022-09-10T20:10:37.863Z"
   },
   {
    "duration": 22,
    "start_time": "2022-09-10T20:10:37.880Z"
   },
   {
    "duration": 24,
    "start_time": "2022-09-10T20:10:37.903Z"
   },
   {
    "duration": 11,
    "start_time": "2022-09-10T20:10:37.928Z"
   },
   {
    "duration": 9,
    "start_time": "2022-09-10T20:10:37.941Z"
   },
   {
    "duration": 11,
    "start_time": "2022-09-10T20:10:37.952Z"
   },
   {
    "duration": 77,
    "start_time": "2022-09-10T20:10:37.964Z"
   },
   {
    "duration": 5,
    "start_time": "2022-09-10T20:10:38.042Z"
   },
   {
    "duration": 4,
    "start_time": "2022-09-10T20:10:38.048Z"
   },
   {
    "duration": 392,
    "start_time": "2022-09-10T20:10:38.053Z"
   },
   {
    "duration": 10,
    "start_time": "2022-09-10T20:10:38.447Z"
   },
   {
    "duration": 91,
    "start_time": "2022-09-10T20:10:38.458Z"
   },
   {
    "duration": 0,
    "start_time": "2022-09-10T20:10:38.551Z"
   },
   {
    "duration": 0,
    "start_time": "2022-09-10T20:10:38.553Z"
   },
   {
    "duration": 0,
    "start_time": "2022-09-10T20:10:38.554Z"
   },
   {
    "duration": 0,
    "start_time": "2022-09-10T20:10:38.555Z"
   },
   {
    "duration": 0,
    "start_time": "2022-09-10T20:10:38.557Z"
   },
   {
    "duration": 0,
    "start_time": "2022-09-10T20:10:38.558Z"
   },
   {
    "duration": 0,
    "start_time": "2022-09-10T20:10:38.559Z"
   },
   {
    "duration": 0,
    "start_time": "2022-09-10T20:10:38.560Z"
   },
   {
    "duration": 0,
    "start_time": "2022-09-10T20:10:38.562Z"
   },
   {
    "duration": 1,
    "start_time": "2022-09-10T20:10:38.563Z"
   },
   {
    "duration": 0,
    "start_time": "2022-09-10T20:10:38.565Z"
   },
   {
    "duration": 0,
    "start_time": "2022-09-10T20:10:38.566Z"
   },
   {
    "duration": 0,
    "start_time": "2022-09-10T20:10:38.568Z"
   },
   {
    "duration": 0,
    "start_time": "2022-09-10T20:10:38.569Z"
   },
   {
    "duration": 0,
    "start_time": "2022-09-10T20:10:38.570Z"
   },
   {
    "duration": 22,
    "start_time": "2022-09-10T20:11:06.406Z"
   },
   {
    "duration": 11,
    "start_time": "2022-09-10T20:11:13.024Z"
   },
   {
    "duration": 12,
    "start_time": "2022-09-10T20:13:02.022Z"
   },
   {
    "duration": 15,
    "start_time": "2022-09-10T20:13:26.025Z"
   },
   {
    "duration": 11,
    "start_time": "2022-09-10T20:13:58.594Z"
   },
   {
    "duration": 11,
    "start_time": "2022-09-10T20:15:00.871Z"
   },
   {
    "duration": 37,
    "start_time": "2022-09-10T20:15:39.956Z"
   },
   {
    "duration": 6,
    "start_time": "2022-09-10T20:15:44.525Z"
   },
   {
    "duration": 11,
    "start_time": "2022-09-10T20:16:16.538Z"
   },
   {
    "duration": 13,
    "start_time": "2022-09-10T20:16:50.337Z"
   },
   {
    "duration": 383,
    "start_time": "2022-09-10T20:17:01.240Z"
   },
   {
    "duration": 13,
    "start_time": "2022-09-10T20:17:04.532Z"
   },
   {
    "duration": 23,
    "start_time": "2022-09-10T20:17:06.700Z"
   },
   {
    "duration": 35,
    "start_time": "2022-09-10T20:17:08.541Z"
   },
   {
    "duration": 13,
    "start_time": "2022-09-10T20:17:10.863Z"
   },
   {
    "duration": 37,
    "start_time": "2022-09-10T20:17:41.844Z"
   },
   {
    "duration": 21,
    "start_time": "2022-09-10T20:17:43.999Z"
   },
   {
    "duration": 12,
    "start_time": "2022-09-10T20:18:00.024Z"
   },
   {
    "duration": 11,
    "start_time": "2022-09-10T20:19:38.954Z"
   },
   {
    "duration": 2,
    "start_time": "2022-09-10T20:20:10.789Z"
   },
   {
    "duration": 10,
    "start_time": "2022-09-10T20:20:46.937Z"
   },
   {
    "duration": 38,
    "start_time": "2022-09-10T20:21:08.205Z"
   },
   {
    "duration": 6,
    "start_time": "2022-09-10T20:21:09.759Z"
   },
   {
    "duration": 11,
    "start_time": "2022-09-10T20:23:52.885Z"
   },
   {
    "duration": 6,
    "start_time": "2022-09-10T20:27:26.886Z"
   },
   {
    "duration": 5,
    "start_time": "2022-09-10T20:27:38.323Z"
   },
   {
    "duration": 4,
    "start_time": "2022-09-10T20:35:06.699Z"
   },
   {
    "duration": 10,
    "start_time": "2022-09-10T20:35:34.331Z"
   },
   {
    "duration": 16,
    "start_time": "2022-09-10T20:35:39.303Z"
   },
   {
    "duration": 7,
    "start_time": "2022-09-10T20:35:58.321Z"
   },
   {
    "duration": 8,
    "start_time": "2022-09-10T20:36:12.925Z"
   },
   {
    "duration": 11,
    "start_time": "2022-09-10T20:36:27.200Z"
   },
   {
    "duration": 4,
    "start_time": "2022-09-10T20:36:30.867Z"
   },
   {
    "duration": 6,
    "start_time": "2022-09-10T20:36:35.701Z"
   },
   {
    "duration": 9,
    "start_time": "2022-09-10T20:38:05.326Z"
   },
   {
    "duration": 254,
    "start_time": "2022-09-10T20:40:20.969Z"
   },
   {
    "duration": 308,
    "start_time": "2022-09-10T20:40:30.769Z"
   },
   {
    "duration": 2,
    "start_time": "2022-09-10T20:40:43.936Z"
   },
   {
    "duration": 6,
    "start_time": "2022-09-10T20:41:27.244Z"
   },
   {
    "duration": 5,
    "start_time": "2022-09-10T20:41:41.102Z"
   },
   {
    "duration": 6,
    "start_time": "2022-09-10T20:42:09.197Z"
   },
   {
    "duration": 3,
    "start_time": "2022-09-10T20:47:52.298Z"
   },
   {
    "duration": 486,
    "start_time": "2022-09-10T20:48:28.548Z"
   },
   {
    "duration": 22,
    "start_time": "2022-09-10T20:48:29.036Z"
   },
   {
    "duration": 77,
    "start_time": "2022-09-10T20:48:29.060Z"
   },
   {
    "duration": 12,
    "start_time": "2022-09-10T20:48:29.140Z"
   },
   {
    "duration": 1995,
    "start_time": "2022-09-10T20:48:29.153Z"
   },
   {
    "duration": 10,
    "start_time": "2022-09-10T20:48:31.149Z"
   },
   {
    "duration": 42,
    "start_time": "2022-09-10T20:48:31.160Z"
   },
   {
    "duration": 38,
    "start_time": "2022-09-10T20:48:31.204Z"
   },
   {
    "duration": 17,
    "start_time": "2022-09-10T20:48:31.244Z"
   },
   {
    "duration": 26,
    "start_time": "2022-09-10T20:48:31.265Z"
   },
   {
    "duration": 30,
    "start_time": "2022-09-10T20:48:31.293Z"
   },
   {
    "duration": 23,
    "start_time": "2022-09-10T20:48:31.325Z"
   },
   {
    "duration": 8,
    "start_time": "2022-09-10T20:48:31.349Z"
   },
   {
    "duration": 14,
    "start_time": "2022-09-10T20:48:31.359Z"
   },
   {
    "duration": 79,
    "start_time": "2022-09-10T20:48:31.374Z"
   },
   {
    "duration": 5,
    "start_time": "2022-09-10T20:48:31.455Z"
   },
   {
    "duration": 9,
    "start_time": "2022-09-10T20:48:31.461Z"
   },
   {
    "duration": 16,
    "start_time": "2022-09-10T20:48:31.472Z"
   },
   {
    "duration": 377,
    "start_time": "2022-09-10T20:48:31.489Z"
   },
   {
    "duration": 11,
    "start_time": "2022-09-10T20:48:31.868Z"
   },
   {
    "duration": 8,
    "start_time": "2022-09-10T20:48:31.880Z"
   },
   {
    "duration": 57,
    "start_time": "2022-09-10T20:48:31.890Z"
   },
   {
    "duration": 9,
    "start_time": "2022-09-10T20:48:31.949Z"
   },
   {
    "duration": 8,
    "start_time": "2022-09-10T20:48:31.959Z"
   },
   {
    "duration": 19,
    "start_time": "2022-09-10T20:48:31.968Z"
   },
   {
    "duration": 35,
    "start_time": "2022-09-10T20:48:31.988Z"
   },
   {
    "duration": 7,
    "start_time": "2022-09-10T20:48:32.025Z"
   },
   {
    "duration": 11,
    "start_time": "2022-09-10T20:48:32.035Z"
   },
   {
    "duration": 4,
    "start_time": "2022-09-10T20:48:32.048Z"
   },
   {
    "duration": 5,
    "start_time": "2022-09-10T20:48:32.054Z"
   },
   {
    "duration": 6,
    "start_time": "2022-09-10T20:48:32.060Z"
   },
   {
    "duration": 6,
    "start_time": "2022-09-10T20:48:32.068Z"
   },
   {
    "duration": 12,
    "start_time": "2022-09-10T20:48:32.076Z"
   },
   {
    "duration": 361,
    "start_time": "2022-09-10T20:48:32.089Z"
   },
   {
    "duration": 28,
    "start_time": "2022-09-10T20:48:32.451Z"
   },
   {
    "duration": 2,
    "start_time": "2022-09-10T20:48:32.480Z"
   },
   {
    "duration": 6,
    "start_time": "2022-09-10T20:48:32.483Z"
   },
   {
    "duration": 30,
    "start_time": "2022-09-10T20:48:32.490Z"
   },
   {
    "duration": 19,
    "start_time": "2022-09-10T20:48:32.522Z"
   },
   {
    "duration": 28,
    "start_time": "2022-09-10T20:51:32.348Z"
   },
   {
    "duration": 5,
    "start_time": "2022-09-10T20:51:38.085Z"
   },
   {
    "duration": 5,
    "start_time": "2022-09-10T20:59:12.721Z"
   },
   {
    "duration": 1011,
    "start_time": "2022-09-10T21:02:44.673Z"
   },
   {
    "duration": 10,
    "start_time": "2022-09-10T21:03:01.779Z"
   },
   {
    "duration": 25,
    "start_time": "2022-09-10T21:03:39.145Z"
   },
   {
    "duration": 13,
    "start_time": "2022-09-10T21:03:45.241Z"
   },
   {
    "duration": 10,
    "start_time": "2022-09-10T21:03:52.024Z"
   },
   {
    "duration": 119,
    "start_time": "2022-09-10T21:04:06.894Z"
   },
   {
    "duration": 11,
    "start_time": "2022-09-10T21:04:07.752Z"
   },
   {
    "duration": 1016,
    "start_time": "2022-09-10T21:04:11.054Z"
   },
   {
    "duration": 10,
    "start_time": "2022-09-10T21:04:12.247Z"
   },
   {
    "duration": 517,
    "start_time": "2022-09-10T21:04:29.178Z"
   },
   {
    "duration": 23,
    "start_time": "2022-09-10T21:04:29.696Z"
   },
   {
    "duration": 63,
    "start_time": "2022-09-10T21:04:29.720Z"
   },
   {
    "duration": 25,
    "start_time": "2022-09-10T21:04:29.785Z"
   },
   {
    "duration": 1912,
    "start_time": "2022-09-10T21:04:29.812Z"
   },
   {
    "duration": 9,
    "start_time": "2022-09-10T21:04:31.726Z"
   },
   {
    "duration": 7,
    "start_time": "2022-09-10T21:04:31.737Z"
   },
   {
    "duration": 11,
    "start_time": "2022-09-10T21:04:31.745Z"
   },
   {
    "duration": 16,
    "start_time": "2022-09-10T21:04:31.758Z"
   },
   {
    "duration": 9,
    "start_time": "2022-09-10T21:04:31.777Z"
   },
   {
    "duration": 8,
    "start_time": "2022-09-10T21:04:31.787Z"
   },
   {
    "duration": 15,
    "start_time": "2022-09-10T21:04:31.797Z"
   },
   {
    "duration": 9,
    "start_time": "2022-09-10T21:04:31.814Z"
   },
   {
    "duration": 9,
    "start_time": "2022-09-10T21:04:31.825Z"
   },
   {
    "duration": 87,
    "start_time": "2022-09-10T21:04:31.836Z"
   },
   {
    "duration": 8,
    "start_time": "2022-09-10T21:04:31.924Z"
   },
   {
    "duration": 1035,
    "start_time": "2022-09-10T21:04:31.933Z"
   },
   {
    "duration": 8,
    "start_time": "2022-09-10T21:04:32.969Z"
   },
   {
    "duration": 8,
    "start_time": "2022-09-10T21:04:32.978Z"
   },
   {
    "duration": 5,
    "start_time": "2022-09-10T21:04:32.987Z"
   },
   {
    "duration": 19,
    "start_time": "2022-09-10T21:04:32.993Z"
   },
   {
    "duration": 338,
    "start_time": "2022-09-10T21:04:33.014Z"
   },
   {
    "duration": 10,
    "start_time": "2022-09-10T21:04:33.353Z"
   },
   {
    "duration": 9,
    "start_time": "2022-09-10T21:04:33.364Z"
   },
   {
    "duration": 53,
    "start_time": "2022-09-10T21:04:33.375Z"
   },
   {
    "duration": 10,
    "start_time": "2022-09-10T21:04:33.430Z"
   },
   {
    "duration": 12,
    "start_time": "2022-09-10T21:04:33.442Z"
   },
   {
    "duration": 7,
    "start_time": "2022-09-10T21:04:33.457Z"
   },
   {
    "duration": 23,
    "start_time": "2022-09-10T21:04:33.465Z"
   },
   {
    "duration": 20,
    "start_time": "2022-09-10T21:04:33.490Z"
   },
   {
    "duration": 10,
    "start_time": "2022-09-10T21:04:33.512Z"
   },
   {
    "duration": 8,
    "start_time": "2022-09-10T21:04:33.523Z"
   },
   {
    "duration": 8,
    "start_time": "2022-09-10T21:04:33.532Z"
   },
   {
    "duration": 7,
    "start_time": "2022-09-10T21:04:33.541Z"
   },
   {
    "duration": 12,
    "start_time": "2022-09-10T21:04:33.549Z"
   },
   {
    "duration": 379,
    "start_time": "2022-09-10T21:04:33.563Z"
   },
   {
    "duration": 26,
    "start_time": "2022-09-10T21:04:33.943Z"
   },
   {
    "duration": 2,
    "start_time": "2022-09-10T21:04:33.971Z"
   },
   {
    "duration": 10,
    "start_time": "2022-09-10T21:04:33.974Z"
   },
   {
    "duration": 12,
    "start_time": "2022-09-10T21:04:33.986Z"
   },
   {
    "duration": 10,
    "start_time": "2022-09-10T21:04:33.999Z"
   },
   {
    "duration": 961,
    "start_time": "2022-09-10T21:04:47.916Z"
   },
   {
    "duration": 10,
    "start_time": "2022-09-10T21:07:19.966Z"
   },
   {
    "duration": 501,
    "start_time": "2022-09-10T21:07:37.130Z"
   },
   {
    "duration": 25,
    "start_time": "2022-09-10T21:07:37.633Z"
   },
   {
    "duration": 75,
    "start_time": "2022-09-10T21:07:37.660Z"
   },
   {
    "duration": 13,
    "start_time": "2022-09-10T21:07:37.737Z"
   },
   {
    "duration": 1920,
    "start_time": "2022-09-10T21:07:37.752Z"
   },
   {
    "duration": 9,
    "start_time": "2022-09-10T21:07:39.673Z"
   },
   {
    "duration": 11,
    "start_time": "2022-09-10T21:07:39.683Z"
   },
   {
    "duration": 9,
    "start_time": "2022-09-10T21:07:39.696Z"
   },
   {
    "duration": 6,
    "start_time": "2022-09-10T21:07:39.706Z"
   },
   {
    "duration": 6,
    "start_time": "2022-09-10T21:07:39.715Z"
   },
   {
    "duration": 5,
    "start_time": "2022-09-10T21:07:39.722Z"
   },
   {
    "duration": 8,
    "start_time": "2022-09-10T21:07:39.729Z"
   },
   {
    "duration": 7,
    "start_time": "2022-09-10T21:07:39.739Z"
   },
   {
    "duration": 9,
    "start_time": "2022-09-10T21:07:39.748Z"
   },
   {
    "duration": 95,
    "start_time": "2022-09-10T21:07:39.758Z"
   },
   {
    "duration": 7,
    "start_time": "2022-09-10T21:07:39.854Z"
   },
   {
    "duration": 1074,
    "start_time": "2022-09-10T21:07:39.862Z"
   },
   {
    "duration": 7,
    "start_time": "2022-09-10T21:07:40.937Z"
   },
   {
    "duration": 4,
    "start_time": "2022-09-10T21:07:40.946Z"
   },
   {
    "duration": 6,
    "start_time": "2022-09-10T21:07:40.951Z"
   },
   {
    "duration": 8,
    "start_time": "2022-09-10T21:07:40.959Z"
   },
   {
    "duration": 350,
    "start_time": "2022-09-10T21:07:40.969Z"
   },
   {
    "duration": 11,
    "start_time": "2022-09-10T21:07:41.320Z"
   },
   {
    "duration": 10,
    "start_time": "2022-09-10T21:07:41.332Z"
   },
   {
    "duration": 34,
    "start_time": "2022-09-10T21:07:41.343Z"
   },
   {
    "duration": 9,
    "start_time": "2022-09-10T21:07:41.378Z"
   },
   {
    "duration": 23,
    "start_time": "2022-09-10T21:07:41.389Z"
   },
   {
    "duration": 26,
    "start_time": "2022-09-10T21:07:41.416Z"
   },
   {
    "duration": 7,
    "start_time": "2022-09-10T21:07:41.444Z"
   },
   {
    "duration": 23,
    "start_time": "2022-09-10T21:07:41.452Z"
   },
   {
    "duration": 5,
    "start_time": "2022-09-10T21:07:41.477Z"
   },
   {
    "duration": 10,
    "start_time": "2022-09-10T21:07:41.484Z"
   },
   {
    "duration": 7,
    "start_time": "2022-09-10T21:07:41.495Z"
   },
   {
    "duration": 5,
    "start_time": "2022-09-10T21:07:41.510Z"
   },
   {
    "duration": 7,
    "start_time": "2022-09-10T21:07:41.517Z"
   },
   {
    "duration": 14,
    "start_time": "2022-09-10T21:07:41.525Z"
   },
   {
    "duration": 324,
    "start_time": "2022-09-10T21:07:41.541Z"
   },
   {
    "duration": 26,
    "start_time": "2022-09-10T21:07:41.866Z"
   },
   {
    "duration": 2,
    "start_time": "2022-09-10T21:07:41.893Z"
   },
   {
    "duration": 12,
    "start_time": "2022-09-10T21:07:41.897Z"
   },
   {
    "duration": 5,
    "start_time": "2022-09-10T21:07:41.910Z"
   },
   {
    "duration": 7,
    "start_time": "2022-09-10T21:07:41.916Z"
   },
   {
    "duration": 1751,
    "start_time": "2022-09-12T13:29:36.216Z"
   },
   {
    "duration": 212,
    "start_time": "2022-09-12T13:29:49.183Z"
   },
   {
    "duration": 27,
    "start_time": "2022-09-12T13:29:59.964Z"
   },
   {
    "duration": 515,
    "start_time": "2022-09-12T13:35:24.595Z"
   },
   {
    "duration": 25,
    "start_time": "2022-09-12T13:35:25.343Z"
   },
   {
    "duration": 75,
    "start_time": "2022-09-12T13:35:26.873Z"
   },
   {
    "duration": 15,
    "start_time": "2022-09-12T13:35:30.771Z"
   },
   {
    "duration": 2046,
    "start_time": "2022-09-12T13:35:32.194Z"
   },
   {
    "duration": 11,
    "start_time": "2022-09-12T13:43:45.977Z"
   },
   {
    "duration": 10,
    "start_time": "2022-09-12T13:43:54.139Z"
   },
   {
    "duration": 1467,
    "start_time": "2022-09-12T13:44:04.233Z"
   },
   {
    "duration": 26,
    "start_time": "2022-09-12T13:44:05.702Z"
   },
   {
    "duration": 93,
    "start_time": "2022-09-12T13:44:05.729Z"
   },
   {
    "duration": 15,
    "start_time": "2022-09-12T13:44:05.824Z"
   },
   {
    "duration": 2140,
    "start_time": "2022-09-12T13:44:05.840Z"
   },
   {
    "duration": 12,
    "start_time": "2022-09-12T13:44:07.983Z"
   },
   {
    "duration": 13,
    "start_time": "2022-09-12T13:44:07.997Z"
   },
   {
    "duration": 11,
    "start_time": "2022-09-12T13:44:08.012Z"
   },
   {
    "duration": 15,
    "start_time": "2022-09-12T13:44:08.024Z"
   },
   {
    "duration": 13,
    "start_time": "2022-09-12T13:44:08.042Z"
   },
   {
    "duration": 9,
    "start_time": "2022-09-12T13:44:08.057Z"
   },
   {
    "duration": 31,
    "start_time": "2022-09-12T13:44:08.068Z"
   },
   {
    "duration": 19,
    "start_time": "2022-09-12T13:44:08.101Z"
   },
   {
    "duration": 16,
    "start_time": "2022-09-12T13:44:08.122Z"
   },
   {
    "duration": 11,
    "start_time": "2022-09-12T13:44:08.139Z"
   },
   {
    "duration": 90,
    "start_time": "2022-09-12T13:44:08.152Z"
   },
   {
    "duration": 7,
    "start_time": "2022-09-12T13:44:08.243Z"
   },
   {
    "duration": 1180,
    "start_time": "2022-09-12T13:44:08.252Z"
   },
   {
    "duration": 7,
    "start_time": "2022-09-12T13:44:09.433Z"
   },
   {
    "duration": 15,
    "start_time": "2022-09-12T13:44:09.442Z"
   },
   {
    "duration": 12,
    "start_time": "2022-09-12T13:44:09.459Z"
   },
   {
    "duration": 28,
    "start_time": "2022-09-12T13:44:09.473Z"
   },
   {
    "duration": 353,
    "start_time": "2022-09-12T13:44:09.503Z"
   },
   {
    "duration": 14,
    "start_time": "2022-09-12T13:44:09.858Z"
   },
   {
    "duration": 27,
    "start_time": "2022-09-12T13:44:09.874Z"
   },
   {
    "duration": 51,
    "start_time": "2022-09-12T13:44:09.902Z"
   },
   {
    "duration": 12,
    "start_time": "2022-09-12T13:44:09.955Z"
   },
   {
    "duration": 9,
    "start_time": "2022-09-12T13:44:09.970Z"
   },
   {
    "duration": 22,
    "start_time": "2022-09-12T13:44:09.981Z"
   },
   {
    "duration": 28,
    "start_time": "2022-09-12T13:44:10.005Z"
   },
   {
    "duration": 26,
    "start_time": "2022-09-12T13:44:10.035Z"
   },
   {
    "duration": 13,
    "start_time": "2022-09-12T13:44:10.063Z"
   },
   {
    "duration": 21,
    "start_time": "2022-09-12T13:44:10.077Z"
   },
   {
    "duration": 18,
    "start_time": "2022-09-12T13:44:10.100Z"
   },
   {
    "duration": 19,
    "start_time": "2022-09-12T13:44:10.120Z"
   },
   {
    "duration": 9,
    "start_time": "2022-09-12T13:44:10.141Z"
   },
   {
    "duration": 43,
    "start_time": "2022-09-12T13:44:10.152Z"
   },
   {
    "duration": 335,
    "start_time": "2022-09-12T13:44:10.197Z"
   },
   {
    "duration": 33,
    "start_time": "2022-09-12T13:44:10.534Z"
   },
   {
    "duration": 3,
    "start_time": "2022-09-12T13:44:10.569Z"
   },
   {
    "duration": 27,
    "start_time": "2022-09-12T13:44:10.573Z"
   },
   {
    "duration": 23,
    "start_time": "2022-09-12T13:44:10.602Z"
   },
   {
    "duration": 8,
    "start_time": "2022-09-12T13:44:10.627Z"
   },
   {
    "duration": 100,
    "start_time": "2022-09-12T13:53:38.364Z"
   },
   {
    "duration": 16,
    "start_time": "2022-09-12T13:54:27.669Z"
   },
   {
    "duration": 1467,
    "start_time": "2022-09-12T13:54:40.635Z"
   },
   {
    "duration": 1784,
    "start_time": "2022-09-12T13:55:50.397Z"
   },
   {
    "duration": 24,
    "start_time": "2022-09-12T13:55:52.183Z"
   },
   {
    "duration": 86,
    "start_time": "2022-09-12T13:55:52.209Z"
   },
   {
    "duration": 15,
    "start_time": "2022-09-12T13:55:52.296Z"
   },
   {
    "duration": 2020,
    "start_time": "2022-09-12T13:55:52.313Z"
   },
   {
    "duration": 10,
    "start_time": "2022-09-12T13:55:54.335Z"
   },
   {
    "duration": 14,
    "start_time": "2022-09-12T13:55:54.346Z"
   },
   {
    "duration": 10,
    "start_time": "2022-09-12T13:55:54.362Z"
   },
   {
    "duration": 17,
    "start_time": "2022-09-12T13:55:54.374Z"
   },
   {
    "duration": 18,
    "start_time": "2022-09-12T13:55:54.393Z"
   },
   {
    "duration": 16,
    "start_time": "2022-09-12T13:55:54.413Z"
   },
   {
    "duration": 7,
    "start_time": "2022-09-12T13:55:54.430Z"
   },
   {
    "duration": 11,
    "start_time": "2022-09-12T13:55:54.438Z"
   },
   {
    "duration": 9,
    "start_time": "2022-09-12T13:55:54.453Z"
   },
   {
    "duration": 11,
    "start_time": "2022-09-12T13:55:54.463Z"
   },
   {
    "duration": 91,
    "start_time": "2022-09-12T13:55:54.475Z"
   },
   {
    "duration": 8,
    "start_time": "2022-09-12T13:55:54.568Z"
   },
   {
    "duration": 1227,
    "start_time": "2022-09-12T13:55:54.578Z"
   },
   {
    "duration": 9,
    "start_time": "2022-09-12T13:55:55.807Z"
   },
   {
    "duration": 28,
    "start_time": "2022-09-12T13:55:55.818Z"
   },
   {
    "duration": 22,
    "start_time": "2022-09-12T13:55:55.847Z"
   },
   {
    "duration": 26,
    "start_time": "2022-09-12T13:55:55.871Z"
   },
   {
    "duration": 383,
    "start_time": "2022-09-12T13:55:55.899Z"
   },
   {
    "duration": 23,
    "start_time": "2022-09-12T13:55:56.284Z"
   },
   {
    "duration": 11,
    "start_time": "2022-09-12T13:55:56.309Z"
   },
   {
    "duration": 40,
    "start_time": "2022-09-12T13:55:56.322Z"
   },
   {
    "duration": 32,
    "start_time": "2022-09-12T13:55:56.364Z"
   },
   {
    "duration": 5,
    "start_time": "2022-09-12T13:55:56.397Z"
   },
   {
    "duration": 1532,
    "start_time": "2022-09-12T13:55:56.403Z"
   },
   {
    "duration": 10,
    "start_time": "2022-09-12T13:55:57.936Z"
   },
   {
    "duration": 9,
    "start_time": "2022-09-12T13:55:57.947Z"
   },
   {
    "duration": 53,
    "start_time": "2022-09-12T13:55:57.957Z"
   },
   {
    "duration": 9,
    "start_time": "2022-09-12T13:55:58.012Z"
   },
   {
    "duration": 22,
    "start_time": "2022-09-12T13:55:58.023Z"
   },
   {
    "duration": 8,
    "start_time": "2022-09-12T13:55:58.046Z"
   },
   {
    "duration": 8,
    "start_time": "2022-09-12T13:55:58.056Z"
   },
   {
    "duration": 29,
    "start_time": "2022-09-12T13:55:58.066Z"
   },
   {
    "duration": 17,
    "start_time": "2022-09-12T13:55:58.097Z"
   },
   {
    "duration": 356,
    "start_time": "2022-09-12T13:55:58.116Z"
   },
   {
    "duration": 40,
    "start_time": "2022-09-12T13:55:58.474Z"
   },
   {
    "duration": 3,
    "start_time": "2022-09-12T13:55:58.517Z"
   },
   {
    "duration": 13,
    "start_time": "2022-09-12T13:55:58.521Z"
   },
   {
    "duration": 7,
    "start_time": "2022-09-12T13:55:58.536Z"
   },
   {
    "duration": 12,
    "start_time": "2022-09-12T13:55:58.545Z"
   },
   {
    "duration": 1236,
    "start_time": "2022-09-12T13:57:25.823Z"
   },
   {
    "duration": 13,
    "start_time": "2022-09-12T13:57:35.537Z"
   },
   {
    "duration": 1173,
    "start_time": "2022-09-12T13:57:55.352Z"
   },
   {
    "duration": 15,
    "start_time": "2022-09-12T13:57:56.528Z"
   },
   {
    "duration": 27,
    "start_time": "2022-09-12T14:00:02.065Z"
   },
   {
    "duration": 6,
    "start_time": "2022-09-12T14:00:05.305Z"
   },
   {
    "duration": 10,
    "start_time": "2022-09-12T14:00:07.526Z"
   },
   {
    "duration": 9,
    "start_time": "2022-09-12T14:00:43.672Z"
   },
   {
    "duration": 25,
    "start_time": "2022-09-12T14:01:21.520Z"
   },
   {
    "duration": 9,
    "start_time": "2022-09-12T14:01:26.309Z"
   },
   {
    "duration": 21,
    "start_time": "2022-09-12T14:10:40.609Z"
   },
   {
    "duration": 8,
    "start_time": "2022-09-12T14:10:41.320Z"
   },
   {
    "duration": 32,
    "start_time": "2022-09-12T14:10:42.130Z"
   },
   {
    "duration": 6,
    "start_time": "2022-09-12T14:11:12.991Z"
   },
   {
    "duration": 1630,
    "start_time": "2022-09-12T14:11:21.575Z"
   },
   {
    "duration": 26,
    "start_time": "2022-09-12T14:11:23.207Z"
   },
   {
    "duration": 84,
    "start_time": "2022-09-12T14:11:23.234Z"
   },
   {
    "duration": 14,
    "start_time": "2022-09-12T14:11:23.320Z"
   },
   {
    "duration": 1937,
    "start_time": "2022-09-12T14:11:23.335Z"
   },
   {
    "duration": 10,
    "start_time": "2022-09-12T14:11:25.274Z"
   },
   {
    "duration": 11,
    "start_time": "2022-09-12T14:11:25.285Z"
   },
   {
    "duration": 7,
    "start_time": "2022-09-12T14:11:25.297Z"
   },
   {
    "duration": 13,
    "start_time": "2022-09-12T14:11:25.305Z"
   },
   {
    "duration": 6,
    "start_time": "2022-09-12T14:11:25.320Z"
   },
   {
    "duration": 6,
    "start_time": "2022-09-12T14:11:25.327Z"
   },
   {
    "duration": 6,
    "start_time": "2022-09-12T14:11:25.334Z"
   },
   {
    "duration": 10,
    "start_time": "2022-09-12T14:11:25.341Z"
   },
   {
    "duration": 44,
    "start_time": "2022-09-12T14:11:25.353Z"
   },
   {
    "duration": 9,
    "start_time": "2022-09-12T14:11:25.399Z"
   },
   {
    "duration": 87,
    "start_time": "2022-09-12T14:11:25.410Z"
   },
   {
    "duration": 7,
    "start_time": "2022-09-12T14:11:25.499Z"
   },
   {
    "duration": 1225,
    "start_time": "2022-09-12T14:11:25.507Z"
   },
   {
    "duration": 11,
    "start_time": "2022-09-12T14:11:26.734Z"
   },
   {
    "duration": 11,
    "start_time": "2022-09-12T14:11:26.747Z"
   },
   {
    "duration": 15,
    "start_time": "2022-09-12T14:11:26.760Z"
   },
   {
    "duration": 22,
    "start_time": "2022-09-12T14:11:26.777Z"
   },
   {
    "duration": 371,
    "start_time": "2022-09-12T14:11:26.800Z"
   },
   {
    "duration": 13,
    "start_time": "2022-09-12T14:11:27.172Z"
   },
   {
    "duration": 11,
    "start_time": "2022-09-12T14:11:27.194Z"
   },
   {
    "duration": 42,
    "start_time": "2022-09-12T14:11:27.206Z"
   },
   {
    "duration": 11,
    "start_time": "2022-09-12T14:11:27.250Z"
   },
   {
    "duration": 32,
    "start_time": "2022-09-12T14:11:27.264Z"
   },
   {
    "duration": 1358,
    "start_time": "2022-09-12T14:11:27.298Z"
   },
   {
    "duration": 9,
    "start_time": "2022-09-12T14:11:28.657Z"
   },
   {
    "duration": 37,
    "start_time": "2022-09-12T14:11:28.668Z"
   },
   {
    "duration": 6,
    "start_time": "2022-09-12T14:11:28.707Z"
   },
   {
    "duration": 33,
    "start_time": "2022-09-12T14:11:28.715Z"
   },
   {
    "duration": 5,
    "start_time": "2022-09-12T14:11:28.750Z"
   },
   {
    "duration": 8,
    "start_time": "2022-09-12T14:11:28.757Z"
   },
   {
    "duration": 28,
    "start_time": "2022-09-12T14:11:28.767Z"
   },
   {
    "duration": 15,
    "start_time": "2022-09-12T14:11:28.797Z"
   },
   {
    "duration": 353,
    "start_time": "2022-09-12T14:11:28.813Z"
   },
   {
    "duration": 34,
    "start_time": "2022-09-12T14:11:29.167Z"
   },
   {
    "duration": 3,
    "start_time": "2022-09-12T14:11:29.202Z"
   },
   {
    "duration": 5,
    "start_time": "2022-09-12T14:11:29.207Z"
   },
   {
    "duration": 22,
    "start_time": "2022-09-12T14:11:29.214Z"
   },
   {
    "duration": 23,
    "start_time": "2022-09-12T14:11:29.237Z"
   },
   {
    "duration": 139,
    "start_time": "2022-09-12T14:14:04.303Z"
   },
   {
    "duration": 6,
    "start_time": "2022-09-12T14:14:09.025Z"
   },
   {
    "duration": 3,
    "start_time": "2022-09-12T14:15:21.050Z"
   },
   {
    "duration": 6,
    "start_time": "2022-09-12T14:15:22.127Z"
   },
   {
    "duration": 98,
    "start_time": "2022-09-12T14:15:26.230Z"
   },
   {
    "duration": 52,
    "start_time": "2022-09-12T14:15:36.207Z"
   },
   {
    "duration": 7,
    "start_time": "2022-09-12T14:15:44.307Z"
   },
   {
    "duration": 1703,
    "start_time": "2022-09-12T14:16:12.074Z"
   },
   {
    "duration": 27,
    "start_time": "2022-09-12T14:16:13.780Z"
   },
   {
    "duration": 88,
    "start_time": "2022-09-12T14:16:13.808Z"
   },
   {
    "duration": 15,
    "start_time": "2022-09-12T14:16:13.898Z"
   },
   {
    "duration": 1982,
    "start_time": "2022-09-12T14:16:13.914Z"
   },
   {
    "duration": 10,
    "start_time": "2022-09-12T14:16:15.898Z"
   },
   {
    "duration": 9,
    "start_time": "2022-09-12T14:16:15.910Z"
   },
   {
    "duration": 6,
    "start_time": "2022-09-12T14:16:15.921Z"
   },
   {
    "duration": 9,
    "start_time": "2022-09-12T14:16:15.929Z"
   },
   {
    "duration": 5,
    "start_time": "2022-09-12T14:16:15.941Z"
   },
   {
    "duration": 7,
    "start_time": "2022-09-12T14:16:15.947Z"
   },
   {
    "duration": 40,
    "start_time": "2022-09-12T14:16:15.955Z"
   },
   {
    "duration": 11,
    "start_time": "2022-09-12T14:16:15.997Z"
   },
   {
    "duration": 9,
    "start_time": "2022-09-12T14:16:16.010Z"
   },
   {
    "duration": 12,
    "start_time": "2022-09-12T14:16:16.021Z"
   },
   {
    "duration": 106,
    "start_time": "2022-09-12T14:16:16.035Z"
   },
   {
    "duration": 8,
    "start_time": "2022-09-12T14:16:16.142Z"
   },
   {
    "duration": 1343,
    "start_time": "2022-09-12T14:16:16.152Z"
   },
   {
    "duration": 9,
    "start_time": "2022-09-12T14:16:17.497Z"
   },
   {
    "duration": 8,
    "start_time": "2022-09-12T14:16:17.507Z"
   },
   {
    "duration": 7,
    "start_time": "2022-09-12T14:16:17.517Z"
   },
   {
    "duration": 8,
    "start_time": "2022-09-12T14:16:17.526Z"
   },
   {
    "duration": 428,
    "start_time": "2022-09-12T14:16:17.536Z"
   },
   {
    "duration": 13,
    "start_time": "2022-09-12T14:16:17.965Z"
   },
   {
    "duration": 21,
    "start_time": "2022-09-12T14:16:17.980Z"
   },
   {
    "duration": 48,
    "start_time": "2022-09-12T14:16:18.002Z"
   },
   {
    "duration": 11,
    "start_time": "2022-09-12T14:16:18.052Z"
   },
   {
    "duration": 29,
    "start_time": "2022-09-12T14:16:18.067Z"
   },
   {
    "duration": 1479,
    "start_time": "2022-09-12T14:16:18.098Z"
   },
   {
    "duration": 24,
    "start_time": "2022-09-12T14:16:19.579Z"
   },
   {
    "duration": 5,
    "start_time": "2022-09-12T14:16:19.605Z"
   },
   {
    "duration": 15,
    "start_time": "2022-09-12T14:16:19.612Z"
   },
   {
    "duration": 56,
    "start_time": "2022-09-12T14:16:19.628Z"
   },
   {
    "duration": 15,
    "start_time": "2022-09-12T14:16:19.685Z"
   },
   {
    "duration": 7,
    "start_time": "2022-09-12T14:16:19.702Z"
   },
   {
    "duration": 14,
    "start_time": "2022-09-12T14:16:19.710Z"
   },
   {
    "duration": 18,
    "start_time": "2022-09-12T14:16:19.725Z"
   },
   {
    "duration": 367,
    "start_time": "2022-09-12T14:16:19.745Z"
   },
   {
    "duration": 38,
    "start_time": "2022-09-12T14:16:20.113Z"
   },
   {
    "duration": 4,
    "start_time": "2022-09-12T14:16:20.153Z"
   },
   {
    "duration": 12,
    "start_time": "2022-09-12T14:16:20.159Z"
   },
   {
    "duration": 20,
    "start_time": "2022-09-12T14:16:20.173Z"
   },
   {
    "duration": 9,
    "start_time": "2022-09-12T14:16:20.195Z"
   },
   {
    "duration": 102,
    "start_time": "2022-09-12T14:32:22.007Z"
   },
   {
    "duration": 8,
    "start_time": "2022-09-12T14:32:27.570Z"
   },
   {
    "duration": 8,
    "start_time": "2022-09-12T14:32:50.006Z"
   },
   {
    "duration": 468,
    "start_time": "2022-09-12T14:32:58.915Z"
   },
   {
    "duration": 13,
    "start_time": "2022-09-12T14:33:43.315Z"
   },
   {
    "duration": 10,
    "start_time": "2022-09-12T14:33:57.168Z"
   },
   {
    "duration": 41,
    "start_time": "2022-09-12T14:33:59.360Z"
   },
   {
    "duration": 12,
    "start_time": "2022-09-12T14:34:01.377Z"
   },
   {
    "duration": 5,
    "start_time": "2022-09-12T14:34:05.568Z"
   },
   {
    "duration": 1199,
    "start_time": "2022-09-12T14:35:01.569Z"
   },
   {
    "duration": 11,
    "start_time": "2022-09-12T14:35:05.789Z"
   },
   {
    "duration": 1089,
    "start_time": "2022-09-12T14:35:12.448Z"
   },
   {
    "duration": 10,
    "start_time": "2022-09-12T14:35:13.539Z"
   },
   {
    "duration": 19,
    "start_time": "2022-09-12T14:45:52.273Z"
   },
   {
    "duration": 1256,
    "start_time": "2022-09-12T14:46:42.580Z"
   },
   {
    "duration": 1631,
    "start_time": "2022-09-12T14:52:35.164Z"
   },
   {
    "duration": 31,
    "start_time": "2022-09-12T14:52:36.797Z"
   },
   {
    "duration": 106,
    "start_time": "2022-09-12T14:52:36.830Z"
   },
   {
    "duration": 16,
    "start_time": "2022-09-12T14:52:36.938Z"
   },
   {
    "duration": 2545,
    "start_time": "2022-09-12T14:52:36.956Z"
   },
   {
    "duration": 15,
    "start_time": "2022-09-12T14:52:39.504Z"
   },
   {
    "duration": 24,
    "start_time": "2022-09-12T14:52:39.521Z"
   },
   {
    "duration": 8,
    "start_time": "2022-09-12T14:52:39.548Z"
   },
   {
    "duration": 36,
    "start_time": "2022-09-12T14:52:39.559Z"
   },
   {
    "duration": 9,
    "start_time": "2022-09-12T14:52:39.599Z"
   },
   {
    "duration": 21,
    "start_time": "2022-09-12T14:52:39.610Z"
   },
   {
    "duration": 8,
    "start_time": "2022-09-12T14:52:39.634Z"
   },
   {
    "duration": 13,
    "start_time": "2022-09-12T14:52:39.644Z"
   },
   {
    "duration": 36,
    "start_time": "2022-09-12T14:52:39.659Z"
   },
   {
    "duration": 16,
    "start_time": "2022-09-12T14:52:39.698Z"
   },
   {
    "duration": 107,
    "start_time": "2022-09-12T14:52:39.717Z"
   },
   {
    "duration": 13,
    "start_time": "2022-09-12T14:52:39.826Z"
   },
   {
    "duration": 1304,
    "start_time": "2022-09-12T14:52:39.841Z"
   },
   {
    "duration": 11,
    "start_time": "2022-09-12T14:52:41.147Z"
   },
   {
    "duration": 14,
    "start_time": "2022-09-12T14:52:41.159Z"
   },
   {
    "duration": 12,
    "start_time": "2022-09-12T14:52:41.175Z"
   },
   {
    "duration": 14,
    "start_time": "2022-09-12T14:52:41.195Z"
   },
   {
    "duration": 396,
    "start_time": "2022-09-12T14:52:41.210Z"
   },
   {
    "duration": 17,
    "start_time": "2022-09-12T14:52:41.608Z"
   },
   {
    "duration": 23,
    "start_time": "2022-09-12T14:52:41.627Z"
   },
   {
    "duration": 61,
    "start_time": "2022-09-12T14:52:41.652Z"
   },
   {
    "duration": 14,
    "start_time": "2022-09-12T14:52:41.715Z"
   },
   {
    "duration": 15,
    "start_time": "2022-09-12T14:52:41.734Z"
   },
   {
    "duration": 1491,
    "start_time": "2022-09-12T14:52:41.752Z"
   },
   {
    "duration": 10,
    "start_time": "2022-09-12T14:52:43.245Z"
   },
   {
    "duration": 2,
    "start_time": "2022-09-12T14:52:43.257Z"
   },
   {
    "duration": 36,
    "start_time": "2022-09-12T14:52:43.261Z"
   },
   {
    "duration": 1454,
    "start_time": "2022-09-12T14:52:43.299Z"
   },
   {
    "duration": 78,
    "start_time": "2022-09-12T14:52:44.755Z"
   },
   {
    "duration": 8,
    "start_time": "2022-09-12T14:52:44.835Z"
   },
   {
    "duration": 20,
    "start_time": "2022-09-12T14:52:44.846Z"
   },
   {
    "duration": 17,
    "start_time": "2022-09-12T14:52:44.868Z"
   },
   {
    "duration": 16,
    "start_time": "2022-09-12T14:52:44.887Z"
   },
   {
    "duration": 383,
    "start_time": "2022-09-12T14:52:44.906Z"
   },
   {
    "duration": 35,
    "start_time": "2022-09-12T14:52:45.295Z"
   },
   {
    "duration": 3,
    "start_time": "2022-09-12T14:52:45.331Z"
   },
   {
    "duration": 8,
    "start_time": "2022-09-12T14:52:45.336Z"
   },
   {
    "duration": 6,
    "start_time": "2022-09-12T14:52:45.346Z"
   },
   {
    "duration": 8,
    "start_time": "2022-09-12T14:52:45.353Z"
   },
   {
    "duration": 1409,
    "start_time": "2022-09-12T14:55:54.471Z"
   },
   {
    "duration": 29,
    "start_time": "2022-09-12T14:55:55.881Z"
   },
   {
    "duration": 92,
    "start_time": "2022-09-12T14:55:55.911Z"
   },
   {
    "duration": 17,
    "start_time": "2022-09-12T14:55:56.005Z"
   },
   {
    "duration": 2132,
    "start_time": "2022-09-12T14:55:56.024Z"
   },
   {
    "duration": 10,
    "start_time": "2022-09-12T14:55:58.159Z"
   },
   {
    "duration": 8,
    "start_time": "2022-09-12T14:55:58.171Z"
   },
   {
    "duration": 15,
    "start_time": "2022-09-12T14:55:58.181Z"
   },
   {
    "duration": 11,
    "start_time": "2022-09-12T14:55:58.198Z"
   },
   {
    "duration": 7,
    "start_time": "2022-09-12T14:55:58.212Z"
   },
   {
    "duration": 13,
    "start_time": "2022-09-12T14:55:58.221Z"
   },
   {
    "duration": 7,
    "start_time": "2022-09-12T14:55:58.236Z"
   },
   {
    "duration": 14,
    "start_time": "2022-09-12T14:55:58.244Z"
   },
   {
    "duration": 39,
    "start_time": "2022-09-12T14:55:58.260Z"
   },
   {
    "duration": 12,
    "start_time": "2022-09-12T14:55:58.301Z"
   },
   {
    "duration": 103,
    "start_time": "2022-09-12T14:55:58.315Z"
   },
   {
    "duration": 9,
    "start_time": "2022-09-12T14:55:58.420Z"
   },
   {
    "duration": 1240,
    "start_time": "2022-09-12T14:55:58.431Z"
   },
   {
    "duration": 8,
    "start_time": "2022-09-12T14:55:59.673Z"
   },
   {
    "duration": 14,
    "start_time": "2022-09-12T14:55:59.682Z"
   },
   {
    "duration": 2,
    "start_time": "2022-09-12T14:55:59.697Z"
   },
   {
    "duration": 11,
    "start_time": "2022-09-12T14:55:59.700Z"
   },
   {
    "duration": 379,
    "start_time": "2022-09-12T14:55:59.712Z"
   },
   {
    "duration": 13,
    "start_time": "2022-09-12T14:56:00.095Z"
   },
   {
    "duration": 11,
    "start_time": "2022-09-12T14:56:00.110Z"
   },
   {
    "duration": 53,
    "start_time": "2022-09-12T14:56:00.123Z"
   },
   {
    "duration": 29,
    "start_time": "2022-09-12T14:56:00.178Z"
   },
   {
    "duration": 34,
    "start_time": "2022-09-12T14:56:00.210Z"
   },
   {
    "duration": 1459,
    "start_time": "2022-09-12T14:56:00.246Z"
   },
   {
    "duration": 9,
    "start_time": "2022-09-12T14:56:01.707Z"
   },
   {
    "duration": 7,
    "start_time": "2022-09-12T14:56:01.717Z"
   },
   {
    "duration": 10,
    "start_time": "2022-09-12T14:56:01.726Z"
   },
   {
    "duration": 1459,
    "start_time": "2022-09-12T14:56:01.738Z"
   },
   {
    "duration": 55,
    "start_time": "2022-09-12T14:56:03.199Z"
   },
   {
    "duration": 7,
    "start_time": "2022-09-12T14:56:03.256Z"
   },
   {
    "duration": 32,
    "start_time": "2022-09-12T14:56:03.265Z"
   },
   {
    "duration": 8,
    "start_time": "2022-09-12T14:56:03.299Z"
   },
   {
    "duration": 23,
    "start_time": "2022-09-12T14:56:03.309Z"
   },
   {
    "duration": 342,
    "start_time": "2022-09-12T14:56:03.333Z"
   },
   {
    "duration": 41,
    "start_time": "2022-09-12T14:56:03.677Z"
   },
   {
    "duration": 2,
    "start_time": "2022-09-12T14:56:03.720Z"
   },
   {
    "duration": 9,
    "start_time": "2022-09-12T14:56:03.724Z"
   },
   {
    "duration": 4,
    "start_time": "2022-09-12T14:56:03.734Z"
   },
   {
    "duration": 6,
    "start_time": "2022-09-12T14:56:03.740Z"
   },
   {
    "duration": 6,
    "start_time": "2022-09-12T14:57:54.018Z"
   },
   {
    "duration": 6,
    "start_time": "2022-09-12T14:59:52.686Z"
   },
   {
    "duration": 5,
    "start_time": "2022-09-12T15:00:05.047Z"
   },
   {
    "duration": 6,
    "start_time": "2022-09-12T15:00:15.922Z"
   },
   {
    "duration": 1489,
    "start_time": "2022-09-12T15:00:25.893Z"
   },
   {
    "duration": 34,
    "start_time": "2022-09-12T15:00:27.384Z"
   },
   {
    "duration": 97,
    "start_time": "2022-09-12T15:00:27.419Z"
   },
   {
    "duration": 15,
    "start_time": "2022-09-12T15:00:27.518Z"
   },
   {
    "duration": 2201,
    "start_time": "2022-09-12T15:00:27.535Z"
   },
   {
    "duration": 9,
    "start_time": "2022-09-12T15:00:29.738Z"
   },
   {
    "duration": 11,
    "start_time": "2022-09-12T15:00:29.749Z"
   },
   {
    "duration": 7,
    "start_time": "2022-09-12T15:00:29.761Z"
   },
   {
    "duration": 10,
    "start_time": "2022-09-12T15:00:29.769Z"
   },
   {
    "duration": 13,
    "start_time": "2022-09-12T15:00:29.782Z"
   },
   {
    "duration": 7,
    "start_time": "2022-09-12T15:00:29.796Z"
   },
   {
    "duration": 7,
    "start_time": "2022-09-12T15:00:29.804Z"
   },
   {
    "duration": 16,
    "start_time": "2022-09-12T15:00:29.813Z"
   },
   {
    "duration": 8,
    "start_time": "2022-09-12T15:00:29.831Z"
   },
   {
    "duration": 12,
    "start_time": "2022-09-12T15:00:29.841Z"
   },
   {
    "duration": 107,
    "start_time": "2022-09-12T15:00:29.855Z"
   },
   {
    "duration": 7,
    "start_time": "2022-09-12T15:00:29.964Z"
   },
   {
    "duration": 1258,
    "start_time": "2022-09-12T15:00:29.973Z"
   },
   {
    "duration": 7,
    "start_time": "2022-09-12T15:00:31.233Z"
   },
   {
    "duration": 7,
    "start_time": "2022-09-12T15:00:31.242Z"
   },
   {
    "duration": 8,
    "start_time": "2022-09-12T15:00:31.250Z"
   },
   {
    "duration": 15,
    "start_time": "2022-09-12T15:00:31.259Z"
   },
   {
    "duration": 402,
    "start_time": "2022-09-12T15:00:31.275Z"
   },
   {
    "duration": 17,
    "start_time": "2022-09-12T15:00:31.679Z"
   },
   {
    "duration": 21,
    "start_time": "2022-09-12T15:00:31.698Z"
   },
   {
    "duration": 44,
    "start_time": "2022-09-12T15:00:31.721Z"
   },
   {
    "duration": 12,
    "start_time": "2022-09-12T15:00:31.767Z"
   },
   {
    "duration": 6,
    "start_time": "2022-09-12T15:00:31.796Z"
   },
   {
    "duration": 1438,
    "start_time": "2022-09-12T15:00:31.804Z"
   },
   {
    "duration": 10,
    "start_time": "2022-09-12T15:00:33.243Z"
   },
   {
    "duration": 10,
    "start_time": "2022-09-12T15:00:33.255Z"
   },
   {
    "duration": 9,
    "start_time": "2022-09-12T15:00:33.267Z"
   },
   {
    "duration": 18,
    "start_time": "2022-09-12T15:00:33.278Z"
   },
   {
    "duration": 51,
    "start_time": "2022-09-12T15:00:33.298Z"
   },
   {
    "duration": 6,
    "start_time": "2022-09-12T15:00:33.351Z"
   },
   {
    "duration": 8,
    "start_time": "2022-09-12T15:00:33.358Z"
   },
   {
    "duration": 28,
    "start_time": "2022-09-12T15:00:33.367Z"
   },
   {
    "duration": 19,
    "start_time": "2022-09-12T15:00:33.397Z"
   },
   {
    "duration": 332,
    "start_time": "2022-09-12T15:00:33.418Z"
   },
   {
    "duration": 44,
    "start_time": "2022-09-12T15:00:33.752Z"
   },
   {
    "duration": 3,
    "start_time": "2022-09-12T15:00:33.798Z"
   },
   {
    "duration": 7,
    "start_time": "2022-09-12T15:00:33.802Z"
   },
   {
    "duration": 10,
    "start_time": "2022-09-12T15:00:33.810Z"
   },
   {
    "duration": 10,
    "start_time": "2022-09-12T15:00:33.822Z"
   },
   {
    "duration": 110,
    "start_time": "2022-09-12T15:01:30.709Z"
   },
   {
    "duration": 27,
    "start_time": "2022-09-12T15:01:52.892Z"
   },
   {
    "duration": 5,
    "start_time": "2022-09-12T15:02:06.069Z"
   },
   {
    "duration": 6,
    "start_time": "2022-09-12T15:02:37.567Z"
   },
   {
    "duration": 1644,
    "start_time": "2022-09-12T15:05:15.002Z"
   },
   {
    "duration": 47,
    "start_time": "2022-09-12T15:05:16.649Z"
   },
   {
    "duration": 78,
    "start_time": "2022-09-12T15:05:16.699Z"
   },
   {
    "duration": 27,
    "start_time": "2022-09-12T15:05:16.779Z"
   },
   {
    "duration": 2152,
    "start_time": "2022-09-12T15:05:16.808Z"
   },
   {
    "duration": 10,
    "start_time": "2022-09-12T15:05:18.962Z"
   },
   {
    "duration": 10,
    "start_time": "2022-09-12T15:05:18.974Z"
   },
   {
    "duration": 6,
    "start_time": "2022-09-12T15:05:18.986Z"
   },
   {
    "duration": 10,
    "start_time": "2022-09-12T15:05:18.994Z"
   },
   {
    "duration": 6,
    "start_time": "2022-09-12T15:05:19.006Z"
   },
   {
    "duration": 7,
    "start_time": "2022-09-12T15:05:19.014Z"
   },
   {
    "duration": 6,
    "start_time": "2022-09-12T15:05:19.023Z"
   },
   {
    "duration": 12,
    "start_time": "2022-09-12T15:05:19.030Z"
   },
   {
    "duration": 11,
    "start_time": "2022-09-12T15:05:19.044Z"
   },
   {
    "duration": 13,
    "start_time": "2022-09-12T15:05:19.094Z"
   },
   {
    "duration": 98,
    "start_time": "2022-09-12T15:05:19.109Z"
   },
   {
    "duration": 9,
    "start_time": "2022-09-12T15:05:19.209Z"
   },
   {
    "duration": 1216,
    "start_time": "2022-09-12T15:05:19.220Z"
   },
   {
    "duration": 8,
    "start_time": "2022-09-12T15:05:20.438Z"
   },
   {
    "duration": 5,
    "start_time": "2022-09-12T15:05:20.447Z"
   },
   {
    "duration": 5,
    "start_time": "2022-09-12T15:05:20.453Z"
   },
   {
    "duration": 9,
    "start_time": "2022-09-12T15:05:20.460Z"
   },
   {
    "duration": 376,
    "start_time": "2022-09-12T15:05:20.471Z"
   },
   {
    "duration": 11,
    "start_time": "2022-09-12T15:05:20.848Z"
   },
   {
    "duration": 24,
    "start_time": "2022-09-12T15:05:20.861Z"
   },
   {
    "duration": 44,
    "start_time": "2022-09-12T15:05:20.886Z"
   },
   {
    "duration": 11,
    "start_time": "2022-09-12T15:05:20.932Z"
   },
   {
    "duration": 11,
    "start_time": "2022-09-12T15:05:20.946Z"
   },
   {
    "duration": 1396,
    "start_time": "2022-09-12T15:05:20.959Z"
   },
   {
    "duration": 8,
    "start_time": "2022-09-12T15:05:22.357Z"
   },
   {
    "duration": 2,
    "start_time": "2022-09-12T15:05:22.367Z"
   },
   {
    "duration": 7,
    "start_time": "2022-09-12T15:05:22.371Z"
   },
   {
    "duration": 48,
    "start_time": "2022-09-12T15:05:22.394Z"
   },
   {
    "duration": 7,
    "start_time": "2022-09-12T15:05:22.443Z"
   },
   {
    "duration": 8,
    "start_time": "2022-09-12T15:05:22.451Z"
   },
   {
    "duration": 7,
    "start_time": "2022-09-12T15:05:22.461Z"
   },
   {
    "duration": 37,
    "start_time": "2022-09-12T15:05:22.471Z"
   },
   {
    "duration": 339,
    "start_time": "2022-09-12T15:05:22.510Z"
   },
   {
    "duration": 48,
    "start_time": "2022-09-12T15:05:22.851Z"
   },
   {
    "duration": 3,
    "start_time": "2022-09-12T15:05:22.901Z"
   },
   {
    "duration": 21,
    "start_time": "2022-09-12T15:05:22.906Z"
   },
   {
    "duration": 7,
    "start_time": "2022-09-12T15:05:22.928Z"
   },
   {
    "duration": 5,
    "start_time": "2022-09-12T15:05:22.937Z"
   },
   {
    "duration": 1066,
    "start_time": "2022-09-12T15:06:22.014Z"
   },
   {
    "duration": 1040,
    "start_time": "2022-09-12T15:06:40.544Z"
   },
   {
    "duration": 6,
    "start_time": "2022-09-12T15:07:53.285Z"
   },
   {
    "duration": 166,
    "start_time": "2022-09-12T15:07:54.857Z"
   },
   {
    "duration": 51,
    "start_time": "2022-09-12T15:08:19.076Z"
   },
   {
    "duration": 45,
    "start_time": "2022-09-12T15:08:25.407Z"
   },
   {
    "duration": 135,
    "start_time": "2022-09-12T15:08:35.643Z"
   },
   {
    "duration": 111,
    "start_time": "2022-09-12T15:08:44.571Z"
   },
   {
    "duration": 7,
    "start_time": "2022-09-12T15:08:55.362Z"
   },
   {
    "duration": 33,
    "start_time": "2022-09-12T15:13:07.459Z"
   },
   {
    "duration": 6,
    "start_time": "2022-09-12T15:13:17.555Z"
   },
   {
    "duration": 46,
    "start_time": "2022-09-12T15:13:18.192Z"
   },
   {
    "duration": 31,
    "start_time": "2022-09-12T15:13:21.432Z"
   },
   {
    "duration": 1540,
    "start_time": "2022-09-12T15:13:29.907Z"
   },
   {
    "duration": 24,
    "start_time": "2022-09-12T15:13:31.449Z"
   },
   {
    "duration": 87,
    "start_time": "2022-09-12T15:13:31.475Z"
   },
   {
    "duration": 14,
    "start_time": "2022-09-12T15:13:31.564Z"
   },
   {
    "duration": 2081,
    "start_time": "2022-09-12T15:13:31.579Z"
   },
   {
    "duration": 10,
    "start_time": "2022-09-12T15:13:33.663Z"
   },
   {
    "duration": 10,
    "start_time": "2022-09-12T15:13:33.675Z"
   },
   {
    "duration": 11,
    "start_time": "2022-09-12T15:13:33.686Z"
   },
   {
    "duration": 14,
    "start_time": "2022-09-12T15:13:33.699Z"
   },
   {
    "duration": 6,
    "start_time": "2022-09-12T15:13:33.716Z"
   },
   {
    "duration": 7,
    "start_time": "2022-09-12T15:13:33.724Z"
   },
   {
    "duration": 8,
    "start_time": "2022-09-12T15:13:33.732Z"
   },
   {
    "duration": 12,
    "start_time": "2022-09-12T15:13:33.741Z"
   },
   {
    "duration": 41,
    "start_time": "2022-09-12T15:13:33.755Z"
   },
   {
    "duration": 11,
    "start_time": "2022-09-12T15:13:33.798Z"
   },
   {
    "duration": 96,
    "start_time": "2022-09-12T15:13:33.811Z"
   },
   {
    "duration": 9,
    "start_time": "2022-09-12T15:13:33.908Z"
   },
   {
    "duration": 1256,
    "start_time": "2022-09-12T15:13:33.919Z"
   },
   {
    "duration": 9,
    "start_time": "2022-09-12T15:13:35.176Z"
   },
   {
    "duration": 6,
    "start_time": "2022-09-12T15:13:35.195Z"
   },
   {
    "duration": 14,
    "start_time": "2022-09-12T15:13:35.202Z"
   },
   {
    "duration": 10,
    "start_time": "2022-09-12T15:13:35.218Z"
   },
   {
    "duration": 385,
    "start_time": "2022-09-12T15:13:35.230Z"
   },
   {
    "duration": 16,
    "start_time": "2022-09-12T15:13:35.617Z"
   },
   {
    "duration": 12,
    "start_time": "2022-09-12T15:13:35.635Z"
   },
   {
    "duration": 76,
    "start_time": "2022-09-12T15:13:35.649Z"
   },
   {
    "duration": 11,
    "start_time": "2022-09-12T15:13:35.727Z"
   },
   {
    "duration": 17,
    "start_time": "2022-09-12T15:13:35.741Z"
   },
   {
    "duration": 1502,
    "start_time": "2022-09-12T15:13:35.759Z"
   },
   {
    "duration": 9,
    "start_time": "2022-09-12T15:13:37.262Z"
   },
   {
    "duration": 25,
    "start_time": "2022-09-12T15:13:37.272Z"
   },
   {
    "duration": 50,
    "start_time": "2022-09-12T15:13:37.298Z"
   },
   {
    "duration": 22,
    "start_time": "2022-09-12T15:13:37.350Z"
   },
   {
    "duration": 5,
    "start_time": "2022-09-12T15:13:37.374Z"
   },
   {
    "duration": 7,
    "start_time": "2022-09-12T15:13:37.394Z"
   },
   {
    "duration": 21,
    "start_time": "2022-09-12T15:13:37.402Z"
   },
   {
    "duration": 353,
    "start_time": "2022-09-12T15:13:37.425Z"
   },
   {
    "duration": 44,
    "start_time": "2022-09-12T15:13:37.780Z"
   },
   {
    "duration": 3,
    "start_time": "2022-09-12T15:13:37.826Z"
   },
   {
    "duration": 22,
    "start_time": "2022-09-12T15:13:37.830Z"
   },
   {
    "duration": 15,
    "start_time": "2022-09-12T15:13:37.854Z"
   },
   {
    "duration": 12,
    "start_time": "2022-09-12T15:13:37.871Z"
   },
   {
    "duration": 78,
    "start_time": "2022-09-12T16:03:06.480Z"
   },
   {
    "duration": 4,
    "start_time": "2022-09-12T16:04:15.585Z"
   },
   {
    "duration": 5,
    "start_time": "2022-09-12T16:05:56.787Z"
   },
   {
    "duration": 18,
    "start_time": "2022-09-12T16:05:57.793Z"
   },
   {
    "duration": 450,
    "start_time": "2022-09-12T16:06:33.630Z"
   },
   {
    "duration": 31,
    "start_time": "2022-09-12T16:07:12.975Z"
   },
   {
    "duration": 1586,
    "start_time": "2022-09-12T16:10:21.247Z"
   },
   {
    "duration": 43,
    "start_time": "2022-09-12T16:10:22.836Z"
   },
   {
    "duration": 96,
    "start_time": "2022-09-12T16:10:22.881Z"
   },
   {
    "duration": 25,
    "start_time": "2022-09-12T16:10:22.980Z"
   },
   {
    "duration": 2217,
    "start_time": "2022-09-12T16:10:23.007Z"
   },
   {
    "duration": 11,
    "start_time": "2022-09-12T16:10:25.226Z"
   },
   {
    "duration": 15,
    "start_time": "2022-09-12T16:10:25.239Z"
   },
   {
    "duration": 9,
    "start_time": "2022-09-12T16:10:25.256Z"
   },
   {
    "duration": 17,
    "start_time": "2022-09-12T16:10:25.268Z"
   },
   {
    "duration": 7,
    "start_time": "2022-09-12T16:10:25.298Z"
   },
   {
    "duration": 17,
    "start_time": "2022-09-12T16:10:25.307Z"
   },
   {
    "duration": 9,
    "start_time": "2022-09-12T16:10:25.326Z"
   },
   {
    "duration": 27,
    "start_time": "2022-09-12T16:10:25.337Z"
   },
   {
    "duration": 30,
    "start_time": "2022-09-12T16:10:25.366Z"
   },
   {
    "duration": 16,
    "start_time": "2022-09-12T16:10:25.399Z"
   },
   {
    "duration": 95,
    "start_time": "2022-09-12T16:10:25.417Z"
   },
   {
    "duration": 8,
    "start_time": "2022-09-12T16:10:25.514Z"
   },
   {
    "duration": 1291,
    "start_time": "2022-09-12T16:10:25.524Z"
   },
   {
    "duration": 14,
    "start_time": "2022-09-12T16:10:26.817Z"
   },
   {
    "duration": 7,
    "start_time": "2022-09-12T16:10:26.833Z"
   },
   {
    "duration": 5,
    "start_time": "2022-09-12T16:10:26.843Z"
   },
   {
    "duration": 15,
    "start_time": "2022-09-12T16:10:26.850Z"
   },
   {
    "duration": 436,
    "start_time": "2022-09-12T16:10:26.894Z"
   },
   {
    "duration": 13,
    "start_time": "2022-09-12T16:10:27.332Z"
   },
   {
    "duration": 13,
    "start_time": "2022-09-12T16:10:27.346Z"
   },
   {
    "duration": 63,
    "start_time": "2022-09-12T16:10:27.361Z"
   },
   {
    "duration": 11,
    "start_time": "2022-09-12T16:10:27.426Z"
   },
   {
    "duration": 11,
    "start_time": "2022-09-12T16:10:27.441Z"
   },
   {
    "duration": 1532,
    "start_time": "2022-09-12T16:10:27.453Z"
   },
   {
    "duration": 13,
    "start_time": "2022-09-12T16:10:28.986Z"
   },
   {
    "duration": 5,
    "start_time": "2022-09-12T16:10:29.001Z"
   },
   {
    "duration": 60,
    "start_time": "2022-09-12T16:10:29.008Z"
   },
   {
    "duration": 5,
    "start_time": "2022-09-12T16:10:29.070Z"
   },
   {
    "duration": 28,
    "start_time": "2022-09-12T16:10:29.077Z"
   },
   {
    "duration": 482,
    "start_time": "2022-09-12T16:10:29.107Z"
   },
   {
    "duration": 33,
    "start_time": "2022-09-12T16:10:29.591Z"
   },
   {
    "duration": 2,
    "start_time": "2022-09-12T16:10:29.626Z"
   },
   {
    "duration": 8,
    "start_time": "2022-09-12T16:10:29.630Z"
   },
   {
    "duration": 6,
    "start_time": "2022-09-12T16:10:29.639Z"
   },
   {
    "duration": 6,
    "start_time": "2022-09-12T16:10:29.647Z"
   },
   {
    "duration": 224,
    "start_time": "2022-09-12T16:59:12.579Z"
   },
   {
    "duration": 582,
    "start_time": "2022-09-12T16:59:30.213Z"
   },
   {
    "duration": 359,
    "start_time": "2022-09-12T16:59:35.431Z"
   },
   {
    "duration": 141,
    "start_time": "2022-09-12T16:59:44.493Z"
   },
   {
    "duration": 118,
    "start_time": "2022-09-12T16:59:48.983Z"
   },
   {
    "duration": 222,
    "start_time": "2022-09-12T16:59:54.632Z"
   },
   {
    "duration": 1429,
    "start_time": "2022-09-12T17:01:54.671Z"
   },
   {
    "duration": 14574,
    "start_time": "2022-09-12T17:02:28.248Z"
   },
   {
    "duration": 2027,
    "start_time": "2022-09-12T17:02:49.179Z"
   },
   {
    "duration": 128,
    "start_time": "2022-09-12T17:04:33.977Z"
   },
   {
    "duration": 190,
    "start_time": "2022-09-12T17:06:36.581Z"
   },
   {
    "duration": 119,
    "start_time": "2022-09-12T17:06:50.613Z"
   },
   {
    "duration": 196,
    "start_time": "2022-09-12T17:06:56.592Z"
   },
   {
    "duration": 146,
    "start_time": "2022-09-12T17:07:06.143Z"
   },
   {
    "duration": 139,
    "start_time": "2022-09-12T17:07:19.369Z"
   },
   {
    "duration": 139,
    "start_time": "2022-09-12T17:07:25.504Z"
   },
   {
    "duration": 144,
    "start_time": "2022-09-12T17:07:29.168Z"
   },
   {
    "duration": 155,
    "start_time": "2022-09-12T17:07:32.826Z"
   },
   {
    "duration": 122,
    "start_time": "2022-09-12T17:07:36.216Z"
   },
   {
    "duration": 143,
    "start_time": "2022-09-12T17:07:39.572Z"
   },
   {
    "duration": 147,
    "start_time": "2022-09-12T17:07:45.251Z"
   },
   {
    "duration": 172,
    "start_time": "2022-09-12T17:10:26.852Z"
   },
   {
    "duration": 173,
    "start_time": "2022-09-12T17:10:59.590Z"
   },
   {
    "duration": 3040,
    "start_time": "2022-09-12T17:11:40.489Z"
   },
   {
    "duration": 3569,
    "start_time": "2022-09-12T17:11:47.626Z"
   },
   {
    "duration": 2705,
    "start_time": "2022-09-12T17:12:26.655Z"
   },
   {
    "duration": 1402,
    "start_time": "2022-09-12T17:12:45.114Z"
   },
   {
    "duration": 622,
    "start_time": "2022-09-12T17:13:10.009Z"
   },
   {
    "duration": 648,
    "start_time": "2022-09-12T17:13:17.083Z"
   },
   {
    "duration": 706,
    "start_time": "2022-09-12T17:13:24.918Z"
   },
   {
    "duration": 154,
    "start_time": "2022-09-12T17:14:09.317Z"
   },
   {
    "duration": 133,
    "start_time": "2022-09-12T17:17:31.284Z"
   },
   {
    "duration": 155,
    "start_time": "2022-09-12T17:17:45.507Z"
   },
   {
    "duration": 128,
    "start_time": "2022-09-12T17:17:51.719Z"
   },
   {
    "duration": 136,
    "start_time": "2022-09-12T17:17:56.712Z"
   },
   {
    "duration": 161,
    "start_time": "2022-09-12T17:18:03.503Z"
   },
   {
    "duration": 142,
    "start_time": "2022-09-12T17:18:09.517Z"
   },
   {
    "duration": 137,
    "start_time": "2022-09-12T17:26:34.400Z"
   },
   {
    "duration": 157,
    "start_time": "2022-09-12T17:26:50.296Z"
   },
   {
    "duration": 145,
    "start_time": "2022-09-12T17:26:58.024Z"
   },
   {
    "duration": 130,
    "start_time": "2022-09-12T17:27:07.046Z"
   },
   {
    "duration": 138,
    "start_time": "2022-09-12T17:27:11.726Z"
   },
   {
    "duration": 138,
    "start_time": "2022-09-12T17:27:17.835Z"
   },
   {
    "duration": 139,
    "start_time": "2022-09-12T17:27:34.190Z"
   },
   {
    "duration": 152,
    "start_time": "2022-09-12T17:27:42.988Z"
   },
   {
    "duration": 136,
    "start_time": "2022-09-12T17:27:49.686Z"
   },
   {
    "duration": 134,
    "start_time": "2022-09-12T17:27:55.953Z"
   },
   {
    "duration": 155,
    "start_time": "2022-09-12T17:28:02.031Z"
   },
   {
    "duration": 155,
    "start_time": "2022-09-12T17:28:08.728Z"
   },
   {
    "duration": 138,
    "start_time": "2022-09-12T17:28:14.484Z"
   },
   {
    "duration": 135,
    "start_time": "2022-09-12T17:28:21.566Z"
   },
   {
    "duration": 145,
    "start_time": "2022-09-12T17:28:27.518Z"
   },
   {
    "duration": 143,
    "start_time": "2022-09-12T17:28:35.564Z"
   },
   {
    "duration": 121,
    "start_time": "2022-09-12T17:28:39.262Z"
   },
   {
    "duration": 127,
    "start_time": "2022-09-12T17:28:45.133Z"
   },
   {
    "duration": 125,
    "start_time": "2022-09-12T17:28:51.675Z"
   },
   {
    "duration": 125,
    "start_time": "2022-09-12T17:29:01.138Z"
   },
   {
    "duration": 152,
    "start_time": "2022-09-12T17:29:27.644Z"
   },
   {
    "duration": 172,
    "start_time": "2022-09-12T17:29:32.504Z"
   },
   {
    "duration": 115,
    "start_time": "2022-09-12T17:29:38.151Z"
   },
   {
    "duration": 1236,
    "start_time": "2022-09-12T17:29:47.731Z"
   },
   {
    "duration": 1240,
    "start_time": "2022-09-12T17:30:06.399Z"
   },
   {
    "duration": 191,
    "start_time": "2022-09-12T17:30:26.565Z"
   },
   {
    "duration": 195,
    "start_time": "2022-09-12T17:30:31.207Z"
   },
   {
    "duration": 105,
    "start_time": "2022-09-12T17:49:50.890Z"
   },
   {
    "duration": 168,
    "start_time": "2022-09-12T18:02:44.941Z"
   },
   {
    "duration": 140,
    "start_time": "2022-09-12T18:02:47.169Z"
   },
   {
    "duration": 148,
    "start_time": "2022-09-12T18:02:47.730Z"
   },
   {
    "duration": 154,
    "start_time": "2022-09-12T18:02:48.370Z"
   },
   {
    "duration": 149,
    "start_time": "2022-09-12T18:02:49.019Z"
   },
   {
    "duration": 179,
    "start_time": "2022-09-12T18:03:06.419Z"
   },
   {
    "duration": 131,
    "start_time": "2022-09-12T18:03:09.386Z"
   },
   {
    "duration": 214,
    "start_time": "2022-09-12T18:03:11.570Z"
   },
   {
    "duration": 159,
    "start_time": "2022-09-12T18:03:14.210Z"
   },
   {
    "duration": 189,
    "start_time": "2022-09-12T18:03:16.563Z"
   },
   {
    "duration": 129,
    "start_time": "2022-09-12T18:03:18.459Z"
   },
   {
    "duration": 176,
    "start_time": "2022-09-12T18:03:20.788Z"
   },
   {
    "duration": 199,
    "start_time": "2022-09-12T18:03:22.935Z"
   },
   {
    "duration": 11,
    "start_time": "2022-09-12T18:05:02.127Z"
   },
   {
    "duration": 13,
    "start_time": "2022-09-12T18:05:06.606Z"
   },
   {
    "duration": 194,
    "start_time": "2022-09-12T18:05:19.180Z"
   },
   {
    "duration": 11,
    "start_time": "2022-09-12T18:05:19.936Z"
   },
   {
    "duration": 1347,
    "start_time": "2022-09-12T18:05:46.330Z"
   },
   {
    "duration": 7,
    "start_time": "2022-09-12T18:06:35.172Z"
   },
   {
    "duration": 5,
    "start_time": "2022-09-12T18:06:37.222Z"
   },
   {
    "duration": 4,
    "start_time": "2022-09-12T18:06:38.901Z"
   },
   {
    "duration": 5,
    "start_time": "2022-09-12T18:06:39.581Z"
   },
   {
    "duration": 485,
    "start_time": "2022-09-12T18:06:40.713Z"
   },
   {
    "duration": 5,
    "start_time": "2022-09-12T18:30:55.291Z"
   },
   {
    "duration": 135,
    "start_time": "2022-09-12T18:31:04.606Z"
   },
   {
    "duration": 123,
    "start_time": "2022-09-12T18:31:12.981Z"
   },
   {
    "duration": 160,
    "start_time": "2022-09-12T18:31:26.688Z"
   },
   {
    "duration": 120,
    "start_time": "2022-09-12T18:32:41.937Z"
   },
   {
    "duration": 129,
    "start_time": "2022-09-12T18:34:35.657Z"
   },
   {
    "duration": 145,
    "start_time": "2022-09-12T18:34:44.016Z"
   },
   {
    "duration": 144,
    "start_time": "2022-09-12T18:36:20.580Z"
   },
   {
    "duration": 110,
    "start_time": "2022-09-12T18:40:33.567Z"
   },
   {
    "duration": 130,
    "start_time": "2022-09-12T18:41:45.431Z"
   },
   {
    "duration": 114,
    "start_time": "2022-09-12T18:42:02.119Z"
   },
   {
    "duration": 186,
    "start_time": "2022-09-12T18:45:02.241Z"
   },
   {
    "duration": 21,
    "start_time": "2022-09-12T18:46:10.002Z"
   },
   {
    "duration": 97,
    "start_time": "2022-09-12T18:48:34.476Z"
   },
   {
    "duration": 4,
    "start_time": "2022-09-12T18:48:47.026Z"
   },
   {
    "duration": 97,
    "start_time": "2022-09-12T18:48:53.335Z"
   },
   {
    "duration": 102,
    "start_time": "2022-09-12T18:49:32.069Z"
   },
   {
    "duration": 100,
    "start_time": "2022-09-12T18:49:39.060Z"
   },
   {
    "duration": 208,
    "start_time": "2022-09-12T18:50:31.670Z"
   },
   {
    "duration": 194,
    "start_time": "2022-09-12T18:50:58.184Z"
   },
   {
    "duration": 212,
    "start_time": "2022-09-12T18:51:08.025Z"
   },
   {
    "duration": 206,
    "start_time": "2022-09-12T18:51:20.816Z"
   },
   {
    "duration": 175,
    "start_time": "2022-09-12T18:51:29.212Z"
   },
   {
    "duration": 183,
    "start_time": "2022-09-12T18:51:35.407Z"
   },
   {
    "duration": 103,
    "start_time": "2022-09-12T18:52:30.437Z"
   },
   {
    "duration": 5,
    "start_time": "2022-09-12T18:52:48.132Z"
   },
   {
    "duration": 103,
    "start_time": "2022-09-12T18:53:22.011Z"
   },
   {
    "duration": 104,
    "start_time": "2022-09-12T18:53:36.940Z"
   },
   {
    "duration": 1599,
    "start_time": "2022-09-12T18:54:05.375Z"
   },
   {
    "duration": 47,
    "start_time": "2022-09-12T18:54:06.977Z"
   },
   {
    "duration": 106,
    "start_time": "2022-09-12T18:54:07.026Z"
   },
   {
    "duration": 19,
    "start_time": "2022-09-12T18:54:07.134Z"
   },
   {
    "duration": 2214,
    "start_time": "2022-09-12T18:54:07.155Z"
   },
   {
    "duration": 11,
    "start_time": "2022-09-12T18:54:09.370Z"
   },
   {
    "duration": 10,
    "start_time": "2022-09-12T18:54:09.383Z"
   },
   {
    "duration": 8,
    "start_time": "2022-09-12T18:54:09.395Z"
   },
   {
    "duration": 28,
    "start_time": "2022-09-12T18:54:09.405Z"
   },
   {
    "duration": 7,
    "start_time": "2022-09-12T18:54:09.437Z"
   },
   {
    "duration": 10,
    "start_time": "2022-09-12T18:54:09.446Z"
   },
   {
    "duration": 13,
    "start_time": "2022-09-12T18:54:09.458Z"
   },
   {
    "duration": 25,
    "start_time": "2022-09-12T18:54:09.475Z"
   },
   {
    "duration": 9,
    "start_time": "2022-09-12T18:54:09.502Z"
   },
   {
    "duration": 14,
    "start_time": "2022-09-12T18:54:09.513Z"
   },
   {
    "duration": 102,
    "start_time": "2022-09-12T18:54:09.529Z"
   },
   {
    "duration": 8,
    "start_time": "2022-09-12T18:54:09.633Z"
   },
   {
    "duration": 1232,
    "start_time": "2022-09-12T18:54:09.642Z"
   },
   {
    "duration": 19,
    "start_time": "2022-09-12T18:54:10.876Z"
   },
   {
    "duration": 5,
    "start_time": "2022-09-12T18:54:10.896Z"
   },
   {
    "duration": 11,
    "start_time": "2022-09-12T18:54:10.903Z"
   },
   {
    "duration": 11,
    "start_time": "2022-09-12T18:54:10.916Z"
   },
   {
    "duration": 357,
    "start_time": "2022-09-12T18:54:10.929Z"
   },
   {
    "duration": 17,
    "start_time": "2022-09-12T18:54:11.288Z"
   },
   {
    "duration": 15,
    "start_time": "2022-09-12T18:54:11.307Z"
   },
   {
    "duration": 40,
    "start_time": "2022-09-12T18:54:11.323Z"
   },
   {
    "duration": 31,
    "start_time": "2022-09-12T18:54:11.365Z"
   },
   {
    "duration": 6,
    "start_time": "2022-09-12T18:54:11.400Z"
   },
   {
    "duration": 1555,
    "start_time": "2022-09-12T18:54:11.407Z"
   },
   {
    "duration": 14,
    "start_time": "2022-09-12T18:54:12.964Z"
   },
   {
    "duration": 16,
    "start_time": "2022-09-12T18:54:12.981Z"
   },
   {
    "duration": 50,
    "start_time": "2022-09-12T18:54:13.000Z"
   },
   {
    "duration": 6,
    "start_time": "2022-09-12T18:54:13.052Z"
   },
   {
    "duration": 53,
    "start_time": "2022-09-12T18:54:13.061Z"
   },
   {
    "duration": 362,
    "start_time": "2022-09-12T18:54:13.116Z"
   },
   {
    "duration": 38,
    "start_time": "2022-09-12T18:54:13.480Z"
   },
   {
    "duration": 113,
    "start_time": "2022-09-12T18:54:13.520Z"
   },
   {
    "duration": 216,
    "start_time": "2022-09-12T18:54:13.635Z"
   },
   {
    "duration": 207,
    "start_time": "2022-09-12T18:54:13.853Z"
   },
   {
    "duration": 118,
    "start_time": "2022-09-12T18:54:14.062Z"
   },
   {
    "duration": 219,
    "start_time": "2022-09-12T18:54:14.182Z"
   },
   {
    "duration": 124,
    "start_time": "2022-09-12T18:54:14.403Z"
   },
   {
    "duration": 163,
    "start_time": "2022-09-12T18:54:14.528Z"
   },
   {
    "duration": 178,
    "start_time": "2022-09-12T18:54:14.696Z"
   },
   {
    "duration": 160,
    "start_time": "2022-09-12T18:54:14.876Z"
   },
   {
    "duration": 149,
    "start_time": "2022-09-12T18:54:15.038Z"
   },
   {
    "duration": 134,
    "start_time": "2022-09-12T18:54:15.195Z"
   },
   {
    "duration": 141,
    "start_time": "2022-09-12T18:54:15.331Z"
   },
   {
    "duration": 248,
    "start_time": "2022-09-12T18:54:15.474Z"
   },
   {
    "duration": 144,
    "start_time": "2022-09-12T18:54:15.724Z"
   },
   {
    "duration": 127,
    "start_time": "2022-09-12T18:54:15.870Z"
   },
   {
    "duration": 156,
    "start_time": "2022-09-12T18:54:15.999Z"
   },
   {
    "duration": 260,
    "start_time": "2022-09-12T18:54:16.157Z"
   },
   {
    "duration": 3,
    "start_time": "2022-09-12T18:54:16.419Z"
   },
   {
    "duration": 8,
    "start_time": "2022-09-12T18:54:16.423Z"
   },
   {
    "duration": 5,
    "start_time": "2022-09-12T18:54:16.433Z"
   },
   {
    "duration": 198,
    "start_time": "2022-09-12T18:55:59.535Z"
   },
   {
    "duration": 194,
    "start_time": "2022-09-12T18:56:10.571Z"
   },
   {
    "duration": 234,
    "start_time": "2022-09-12T18:56:16.759Z"
   },
   {
    "duration": 238,
    "start_time": "2022-09-12T18:56:32.789Z"
   },
   {
    "duration": 216,
    "start_time": "2022-09-12T18:56:38.195Z"
   },
   {
    "duration": 117,
    "start_time": "2022-09-12T19:00:17.982Z"
   },
   {
    "duration": 1067,
    "start_time": "2022-09-12T19:55:48.633Z"
   },
   {
    "duration": 901,
    "start_time": "2022-09-12T19:56:51.926Z"
   },
   {
    "duration": 1091,
    "start_time": "2022-09-12T19:57:32.459Z"
   },
   {
    "duration": 991,
    "start_time": "2022-09-12T19:57:40.716Z"
   },
   {
    "duration": 1428,
    "start_time": "2022-09-12T20:08:39.542Z"
   },
   {
    "duration": 1278,
    "start_time": "2022-09-12T20:09:20.165Z"
   },
   {
    "duration": 1538,
    "start_time": "2022-09-12T20:09:35.425Z"
   },
   {
    "duration": 1680,
    "start_time": "2022-09-12T20:12:08.254Z"
   },
   {
    "duration": 1683,
    "start_time": "2022-09-12T20:12:30.725Z"
   },
   {
    "duration": 1546,
    "start_time": "2022-09-12T20:12:38.028Z"
   },
   {
    "duration": 1806,
    "start_time": "2022-09-12T20:12:40.776Z"
   },
   {
    "duration": 28,
    "start_time": "2022-09-12T20:15:57.852Z"
   },
   {
    "duration": 1163,
    "start_time": "2022-09-12T20:16:37.363Z"
   },
   {
    "duration": 1748,
    "start_time": "2022-09-12T20:17:05.755Z"
   },
   {
    "duration": 1602,
    "start_time": "2022-09-12T20:17:42.546Z"
   },
   {
    "duration": 1809,
    "start_time": "2022-09-12T20:17:58.394Z"
   },
   {
    "duration": 1956,
    "start_time": "2022-09-12T20:18:15.244Z"
   },
   {
    "duration": 1710,
    "start_time": "2022-09-12T20:18:30.287Z"
   },
   {
    "duration": 1576,
    "start_time": "2022-09-12T20:18:52.497Z"
   },
   {
    "duration": 2177,
    "start_time": "2022-09-12T20:21:48.570Z"
   },
   {
    "duration": 1840,
    "start_time": "2022-09-12T20:24:05.721Z"
   },
   {
    "duration": 2153,
    "start_time": "2022-09-12T20:25:09.689Z"
   },
   {
    "duration": 2148,
    "start_time": "2022-09-12T20:25:40.089Z"
   },
   {
    "duration": 2667,
    "start_time": "2022-09-12T20:29:48.866Z"
   },
   {
    "duration": 2899,
    "start_time": "2022-09-12T20:30:18.402Z"
   },
   {
    "duration": 3000,
    "start_time": "2022-09-12T20:32:05.275Z"
   },
   {
    "duration": 2913,
    "start_time": "2022-09-12T20:34:16.489Z"
   },
   {
    "duration": 3049,
    "start_time": "2022-09-12T20:37:09.408Z"
   },
   {
    "duration": 3032,
    "start_time": "2022-09-12T20:37:26.995Z"
   },
   {
    "duration": 2879,
    "start_time": "2022-09-12T20:37:51.101Z"
   },
   {
    "duration": 2895,
    "start_time": "2022-09-12T20:39:20.955Z"
   },
   {
    "duration": 269,
    "start_time": "2022-09-12T20:40:32.195Z"
   },
   {
    "duration": 170,
    "start_time": "2022-09-12T20:41:46.207Z"
   },
   {
    "duration": 185,
    "start_time": "2022-09-12T20:42:17.797Z"
   },
   {
    "duration": 154,
    "start_time": "2022-09-12T20:42:22.347Z"
   },
   {
    "duration": 173,
    "start_time": "2022-09-12T20:42:27.324Z"
   },
   {
    "duration": 184,
    "start_time": "2022-09-12T20:43:36.384Z"
   },
   {
    "duration": 177,
    "start_time": "2022-09-12T20:43:51.406Z"
   },
   {
    "duration": 172,
    "start_time": "2022-09-12T20:44:13.711Z"
   },
   {
    "duration": 9,
    "start_time": "2022-09-12T20:44:49.291Z"
   },
   {
    "duration": 9,
    "start_time": "2022-09-12T20:45:04.123Z"
   },
   {
    "duration": 188,
    "start_time": "2022-09-12T20:45:23.026Z"
   },
   {
    "duration": 145,
    "start_time": "2022-09-12T20:45:33.837Z"
   },
   {
    "duration": 168,
    "start_time": "2022-09-12T20:45:40.499Z"
   },
   {
    "duration": 183,
    "start_time": "2022-09-12T20:45:44.776Z"
   },
   {
    "duration": 284,
    "start_time": "2022-09-12T20:51:25.638Z"
   },
   {
    "duration": 13,
    "start_time": "2022-09-12T20:53:52.026Z"
   },
   {
    "duration": 110,
    "start_time": "2022-09-12T20:55:39.531Z"
   },
   {
    "duration": 11,
    "start_time": "2022-09-12T20:55:42.910Z"
   },
   {
    "duration": 161,
    "start_time": "2022-09-12T20:55:46.805Z"
   },
   {
    "duration": 169,
    "start_time": "2022-09-12T20:55:53.697Z"
   },
   {
    "duration": 158,
    "start_time": "2022-09-12T20:56:06.968Z"
   },
   {
    "duration": 170,
    "start_time": "2022-09-12T20:56:11.736Z"
   },
   {
    "duration": 2825,
    "start_time": "2022-09-12T21:02:12.943Z"
   },
   {
    "duration": 2883,
    "start_time": "2022-09-12T21:02:31.025Z"
   },
   {
    "duration": 11,
    "start_time": "2022-09-12T21:03:59.066Z"
   },
   {
    "duration": 305,
    "start_time": "2022-09-12T21:04:04.178Z"
   },
   {
    "duration": 285,
    "start_time": "2022-09-12T21:06:52.206Z"
   },
   {
    "duration": 92,
    "start_time": "2022-09-12T21:07:36.278Z"
   },
   {
    "duration": 2909,
    "start_time": "2022-09-12T21:07:47.511Z"
   },
   {
    "duration": 131,
    "start_time": "2022-09-12T21:07:50.422Z"
   },
   {
    "duration": 162,
    "start_time": "2022-09-12T21:07:51.567Z"
   },
   {
    "duration": 3016,
    "start_time": "2022-09-12T21:07:54.241Z"
   },
   {
    "duration": 10,
    "start_time": "2022-09-12T21:08:48.644Z"
   },
   {
    "duration": 2861,
    "start_time": "2022-09-12T21:08:52.465Z"
   },
   {
    "duration": 3402,
    "start_time": "2022-09-12T21:09:19.189Z"
   },
   {
    "duration": 3154,
    "start_time": "2022-09-12T21:09:29.506Z"
   },
   {
    "duration": 155,
    "start_time": "2022-09-12T22:21:31.659Z"
   },
   {
    "duration": 137,
    "start_time": "2022-09-12T22:21:39.071Z"
   },
   {
    "duration": 139,
    "start_time": "2022-09-12T22:24:05.962Z"
   },
   {
    "duration": 148,
    "start_time": "2022-09-12T22:25:21.741Z"
   },
   {
    "duration": 147,
    "start_time": "2022-09-12T22:26:42.046Z"
   },
   {
    "duration": 147,
    "start_time": "2022-09-12T22:27:14.622Z"
   },
   {
    "duration": 541,
    "start_time": "2022-09-12T22:28:21.713Z"
   },
   {
    "duration": 161,
    "start_time": "2022-09-12T22:28:45.975Z"
   },
   {
    "duration": 245,
    "start_time": "2022-09-12T22:32:00.814Z"
   },
   {
    "duration": 161,
    "start_time": "2022-09-12T22:32:37.185Z"
   },
   {
    "duration": 139,
    "start_time": "2022-09-12T22:35:41.867Z"
   },
   {
    "duration": 271,
    "start_time": "2022-09-12T22:36:01.573Z"
   },
   {
    "duration": 268,
    "start_time": "2022-09-12T22:36:40.706Z"
   },
   {
    "duration": 289,
    "start_time": "2022-09-12T22:39:34.492Z"
   },
   {
    "duration": 331,
    "start_time": "2022-09-12T22:40:16.295Z"
   },
   {
    "duration": 4,
    "start_time": "2022-09-12T22:40:51.494Z"
   },
   {
    "duration": 503,
    "start_time": "2022-09-12T22:40:55.947Z"
   },
   {
    "duration": 144,
    "start_time": "2022-09-12T22:41:08.923Z"
   },
   {
    "duration": 158,
    "start_time": "2022-09-12T22:42:15.461Z"
   },
   {
    "duration": 162,
    "start_time": "2022-09-12T22:45:31.366Z"
   },
   {
    "duration": 1393,
    "start_time": "2022-09-12T22:49:22.185Z"
   },
   {
    "duration": 23,
    "start_time": "2022-09-12T22:49:23.580Z"
   },
   {
    "duration": 77,
    "start_time": "2022-09-12T22:49:23.605Z"
   },
   {
    "duration": 16,
    "start_time": "2022-09-12T22:49:23.684Z"
   },
   {
    "duration": 1826,
    "start_time": "2022-09-12T22:49:23.702Z"
   },
   {
    "duration": 9,
    "start_time": "2022-09-12T22:49:25.530Z"
   },
   {
    "duration": 10,
    "start_time": "2022-09-12T22:49:25.540Z"
   },
   {
    "duration": 6,
    "start_time": "2022-09-12T22:49:25.552Z"
   },
   {
    "duration": 9,
    "start_time": "2022-09-12T22:49:25.559Z"
   },
   {
    "duration": 7,
    "start_time": "2022-09-12T22:49:25.570Z"
   },
   {
    "duration": 8,
    "start_time": "2022-09-12T22:49:25.578Z"
   },
   {
    "duration": 11,
    "start_time": "2022-09-12T22:49:25.587Z"
   },
   {
    "duration": 11,
    "start_time": "2022-09-12T22:49:25.599Z"
   },
   {
    "duration": 9,
    "start_time": "2022-09-12T22:49:25.611Z"
   },
   {
    "duration": 9,
    "start_time": "2022-09-12T22:49:25.621Z"
   },
   {
    "duration": 86,
    "start_time": "2022-09-12T22:49:25.632Z"
   },
   {
    "duration": 6,
    "start_time": "2022-09-12T22:49:25.720Z"
   },
   {
    "duration": 1176,
    "start_time": "2022-09-12T22:49:25.728Z"
   },
   {
    "duration": 8,
    "start_time": "2022-09-12T22:49:26.906Z"
   },
   {
    "duration": 6,
    "start_time": "2022-09-12T22:49:26.916Z"
   },
   {
    "duration": 3,
    "start_time": "2022-09-12T22:49:26.924Z"
   },
   {
    "duration": 9,
    "start_time": "2022-09-12T22:49:26.929Z"
   },
   {
    "duration": 360,
    "start_time": "2022-09-12T22:49:26.940Z"
   },
   {
    "duration": 11,
    "start_time": "2022-09-12T22:49:27.302Z"
   },
   {
    "duration": 14,
    "start_time": "2022-09-12T22:49:27.315Z"
   },
   {
    "duration": 37,
    "start_time": "2022-09-12T22:49:27.330Z"
   },
   {
    "duration": 35,
    "start_time": "2022-09-12T22:49:27.369Z"
   },
   {
    "duration": 7,
    "start_time": "2022-09-12T22:49:27.409Z"
   },
   {
    "duration": 1259,
    "start_time": "2022-09-12T22:49:27.417Z"
   },
   {
    "duration": 23,
    "start_time": "2022-09-12T22:49:28.677Z"
   },
   {
    "duration": 9,
    "start_time": "2022-09-12T22:49:28.701Z"
   },
   {
    "duration": 43,
    "start_time": "2022-09-12T22:49:28.711Z"
   },
   {
    "duration": 4,
    "start_time": "2022-09-12T22:49:28.756Z"
   },
   {
    "duration": 33,
    "start_time": "2022-09-12T22:49:28.762Z"
   },
   {
    "duration": 313,
    "start_time": "2022-09-12T22:49:28.796Z"
   },
   {
    "duration": 27,
    "start_time": "2022-09-12T22:49:29.111Z"
   },
   {
    "duration": 102,
    "start_time": "2022-09-12T22:49:29.139Z"
   },
   {
    "duration": 2666,
    "start_time": "2022-09-12T22:49:29.242Z"
   },
   {
    "duration": 127,
    "start_time": "2022-09-12T22:49:31.909Z"
   },
   {
    "duration": 176,
    "start_time": "2022-09-12T22:49:32.037Z"
   },
   {
    "duration": 8,
    "start_time": "2022-09-12T22:49:32.214Z"
   },
   {
    "duration": 2499,
    "start_time": "2022-09-12T22:49:32.223Z"
   },
   {
    "duration": 276,
    "start_time": "2022-09-12T22:49:34.724Z"
   },
   {
    "duration": 149,
    "start_time": "2022-09-12T22:49:35.002Z"
   },
   {
    "duration": 149,
    "start_time": "2022-09-12T22:49:35.152Z"
   },
   {
    "duration": 143,
    "start_time": "2022-09-12T22:49:35.303Z"
   },
   {
    "duration": 253,
    "start_time": "2022-09-12T22:49:35.448Z"
   },
   {
    "duration": 142,
    "start_time": "2022-09-12T22:49:35.703Z"
   },
   {
    "duration": 281,
    "start_time": "2022-09-12T22:49:35.846Z"
   },
   {
    "duration": 163,
    "start_time": "2022-09-12T22:49:36.128Z"
   },
   {
    "duration": 2,
    "start_time": "2022-09-12T22:49:36.293Z"
   },
   {
    "duration": 156,
    "start_time": "2022-09-12T22:49:55.295Z"
   },
   {
    "duration": 154,
    "start_time": "2022-09-12T22:50:02.684Z"
   },
   {
    "duration": 155,
    "start_time": "2022-09-12T22:50:11.457Z"
   },
   {
    "duration": 294,
    "start_time": "2022-09-12T22:50:17.027Z"
   },
   {
    "duration": 158,
    "start_time": "2022-09-12T22:50:23.239Z"
   },
   {
    "duration": 50,
    "start_time": "2022-09-13T10:10:43.773Z"
   },
   {
    "duration": 1521,
    "start_time": "2022-09-13T10:10:51.129Z"
   },
   {
    "duration": 21,
    "start_time": "2022-09-13T10:10:52.652Z"
   },
   {
    "duration": 76,
    "start_time": "2022-09-13T10:10:52.675Z"
   },
   {
    "duration": 13,
    "start_time": "2022-09-13T10:10:52.753Z"
   },
   {
    "duration": 1851,
    "start_time": "2022-09-13T10:10:52.768Z"
   },
   {
    "duration": 8,
    "start_time": "2022-09-13T10:10:54.622Z"
   },
   {
    "duration": 7,
    "start_time": "2022-09-13T10:10:54.632Z"
   },
   {
    "duration": 7,
    "start_time": "2022-09-13T10:10:54.640Z"
   },
   {
    "duration": 17,
    "start_time": "2022-09-13T10:10:54.648Z"
   },
   {
    "duration": 16,
    "start_time": "2022-09-13T10:10:54.668Z"
   },
   {
    "duration": 11,
    "start_time": "2022-09-13T10:10:54.686Z"
   },
   {
    "duration": 7,
    "start_time": "2022-09-13T10:10:54.699Z"
   },
   {
    "duration": 22,
    "start_time": "2022-09-13T10:10:54.707Z"
   },
   {
    "duration": 9,
    "start_time": "2022-09-13T10:10:54.730Z"
   },
   {
    "duration": 9,
    "start_time": "2022-09-13T10:10:54.740Z"
   },
   {
    "duration": 74,
    "start_time": "2022-09-13T10:10:54.751Z"
   },
   {
    "duration": 6,
    "start_time": "2022-09-13T10:10:54.827Z"
   },
   {
    "duration": 1105,
    "start_time": "2022-09-13T10:10:54.835Z"
   },
   {
    "duration": 8,
    "start_time": "2022-09-13T10:10:55.942Z"
   },
   {
    "duration": 5,
    "start_time": "2022-09-13T10:10:55.952Z"
   },
   {
    "duration": 4,
    "start_time": "2022-09-13T10:10:55.959Z"
   },
   {
    "duration": 11,
    "start_time": "2022-09-13T10:10:55.964Z"
   },
   {
    "duration": 377,
    "start_time": "2022-09-13T10:10:55.977Z"
   },
   {
    "duration": 11,
    "start_time": "2022-09-13T10:10:56.356Z"
   },
   {
    "duration": 9,
    "start_time": "2022-09-13T10:10:56.368Z"
   },
   {
    "duration": 59,
    "start_time": "2022-09-13T10:10:56.378Z"
   },
   {
    "duration": 9,
    "start_time": "2022-09-13T10:10:56.439Z"
   },
   {
    "duration": 7,
    "start_time": "2022-09-13T10:10:56.451Z"
   },
   {
    "duration": 1307,
    "start_time": "2022-09-13T10:10:56.459Z"
   },
   {
    "duration": 8,
    "start_time": "2022-09-13T10:10:57.768Z"
   },
   {
    "duration": 9,
    "start_time": "2022-09-13T10:10:57.777Z"
   },
   {
    "duration": 59,
    "start_time": "2022-09-13T10:10:57.787Z"
   },
   {
    "duration": 5,
    "start_time": "2022-09-13T10:10:57.847Z"
   },
   {
    "duration": 17,
    "start_time": "2022-09-13T10:10:57.853Z"
   },
   {
    "duration": 349,
    "start_time": "2022-09-13T10:10:57.872Z"
   },
   {
    "duration": 28,
    "start_time": "2022-09-13T10:10:58.222Z"
   },
   {
    "duration": 101,
    "start_time": "2022-09-13T10:10:58.252Z"
   },
   {
    "duration": 2711,
    "start_time": "2022-09-13T10:10:58.354Z"
   },
   {
    "duration": 118,
    "start_time": "2022-09-13T10:11:01.067Z"
   },
   {
    "duration": 169,
    "start_time": "2022-09-13T10:11:01.187Z"
   },
   {
    "duration": 8,
    "start_time": "2022-09-13T10:11:01.357Z"
   },
   {
    "duration": 2596,
    "start_time": "2022-09-13T10:11:01.366Z"
   },
   {
    "duration": 277,
    "start_time": "2022-09-13T10:11:03.963Z"
   },
   {
    "duration": 144,
    "start_time": "2022-09-13T10:11:04.241Z"
   },
   {
    "duration": 161,
    "start_time": "2022-09-13T10:11:04.387Z"
   },
   {
    "duration": 167,
    "start_time": "2022-09-13T10:11:04.550Z"
   },
   {
    "duration": 247,
    "start_time": "2022-09-13T10:11:04.719Z"
   },
   {
    "duration": 154,
    "start_time": "2022-09-13T10:11:04.968Z"
   },
   {
    "duration": 275,
    "start_time": "2022-09-13T10:11:05.123Z"
   },
   {
    "duration": 162,
    "start_time": "2022-09-13T10:11:05.399Z"
   },
   {
    "duration": 2,
    "start_time": "2022-09-13T10:11:05.563Z"
   },
   {
    "duration": 13,
    "start_time": "2022-09-13T10:11:05.566Z"
   },
   {
    "duration": 143,
    "start_time": "2022-09-13T10:12:25.447Z"
   },
   {
    "duration": 141,
    "start_time": "2022-09-13T10:15:30.939Z"
   },
   {
    "duration": 33,
    "start_time": "2022-09-13T10:19:25.461Z"
   },
   {
    "duration": 38,
    "start_time": "2022-09-13T10:22:04.778Z"
   },
   {
    "duration": 29,
    "start_time": "2022-09-13T10:22:29.424Z"
   },
   {
    "duration": 33,
    "start_time": "2022-09-13T10:22:47.186Z"
   },
   {
    "duration": 128,
    "start_time": "2022-09-13T10:35:33.845Z"
   },
   {
    "duration": 229,
    "start_time": "2022-09-13T10:35:53.207Z"
   },
   {
    "duration": 202,
    "start_time": "2022-09-13T10:36:19.319Z"
   },
   {
    "duration": 218,
    "start_time": "2022-09-13T10:36:25.603Z"
   },
   {
    "duration": 1689,
    "start_time": "2022-09-13T10:46:02.503Z"
   },
   {
    "duration": 30,
    "start_time": "2022-09-13T10:46:04.194Z"
   },
   {
    "duration": 111,
    "start_time": "2022-09-13T10:46:04.226Z"
   },
   {
    "duration": 14,
    "start_time": "2022-09-13T10:46:04.339Z"
   },
   {
    "duration": 2365,
    "start_time": "2022-09-13T10:46:04.355Z"
   },
   {
    "duration": 13,
    "start_time": "2022-09-13T10:46:06.722Z"
   },
   {
    "duration": 12,
    "start_time": "2022-09-13T10:46:06.737Z"
   },
   {
    "duration": 7,
    "start_time": "2022-09-13T10:46:06.751Z"
   },
   {
    "duration": 16,
    "start_time": "2022-09-13T10:46:06.760Z"
   },
   {
    "duration": 7,
    "start_time": "2022-09-13T10:46:06.778Z"
   },
   {
    "duration": 24,
    "start_time": "2022-09-13T10:46:06.787Z"
   },
   {
    "duration": 15,
    "start_time": "2022-09-13T10:46:06.821Z"
   },
   {
    "duration": 14,
    "start_time": "2022-09-13T10:46:06.838Z"
   },
   {
    "duration": 12,
    "start_time": "2022-09-13T10:46:06.855Z"
   },
   {
    "duration": 19,
    "start_time": "2022-09-13T10:46:06.870Z"
   },
   {
    "duration": 101,
    "start_time": "2022-09-13T10:46:06.907Z"
   },
   {
    "duration": 11,
    "start_time": "2022-09-13T10:46:07.012Z"
   },
   {
    "duration": 1355,
    "start_time": "2022-09-13T10:46:07.024Z"
   },
   {
    "duration": 8,
    "start_time": "2022-09-13T10:46:08.381Z"
   },
   {
    "duration": 26,
    "start_time": "2022-09-13T10:46:08.391Z"
   },
   {
    "duration": 6,
    "start_time": "2022-09-13T10:46:08.420Z"
   },
   {
    "duration": 11,
    "start_time": "2022-09-13T10:46:08.428Z"
   },
   {
    "duration": 393,
    "start_time": "2022-09-13T10:46:08.441Z"
   },
   {
    "duration": 12,
    "start_time": "2022-09-13T10:46:08.836Z"
   },
   {
    "duration": 17,
    "start_time": "2022-09-13T10:46:08.849Z"
   },
   {
    "duration": 78,
    "start_time": "2022-09-13T10:46:08.869Z"
   },
   {
    "duration": 11,
    "start_time": "2022-09-13T10:46:08.949Z"
   },
   {
    "duration": 7,
    "start_time": "2022-09-13T10:46:08.962Z"
   },
   {
    "duration": 1468,
    "start_time": "2022-09-13T10:46:08.971Z"
   },
   {
    "duration": 9,
    "start_time": "2022-09-13T10:46:10.441Z"
   },
   {
    "duration": 4,
    "start_time": "2022-09-13T10:46:10.452Z"
   },
   {
    "duration": 77,
    "start_time": "2022-09-13T10:46:10.459Z"
   },
   {
    "duration": 6,
    "start_time": "2022-09-13T10:46:10.537Z"
   },
   {
    "duration": 17,
    "start_time": "2022-09-13T10:46:10.545Z"
   },
   {
    "duration": 369,
    "start_time": "2022-09-13T10:46:10.564Z"
   },
   {
    "duration": 30,
    "start_time": "2022-09-13T10:46:10.934Z"
   },
   {
    "duration": 112,
    "start_time": "2022-09-13T10:46:10.965Z"
   },
   {
    "duration": 3182,
    "start_time": "2022-09-13T10:46:11.078Z"
   },
   {
    "duration": 137,
    "start_time": "2022-09-13T10:46:14.262Z"
   },
   {
    "duration": 181,
    "start_time": "2022-09-13T10:46:14.405Z"
   },
   {
    "duration": 17,
    "start_time": "2022-09-13T10:46:14.590Z"
   },
   {
    "duration": 3073,
    "start_time": "2022-09-13T10:46:14.608Z"
   },
   {
    "duration": 409,
    "start_time": "2022-09-13T10:46:17.683Z"
   },
   {
    "duration": 186,
    "start_time": "2022-09-13T10:46:18.094Z"
   },
   {
    "duration": 184,
    "start_time": "2022-09-13T10:46:18.282Z"
   },
   {
    "duration": 186,
    "start_time": "2022-09-13T10:46:18.468Z"
   },
   {
    "duration": 341,
    "start_time": "2022-09-13T10:46:18.655Z"
   },
   {
    "duration": 177,
    "start_time": "2022-09-13T10:46:18.998Z"
   },
   {
    "duration": 336,
    "start_time": "2022-09-13T10:46:19.177Z"
   },
   {
    "duration": 250,
    "start_time": "2022-09-13T10:46:19.516Z"
   },
   {
    "duration": 185,
    "start_time": "2022-09-13T10:46:19.768Z"
   },
   {
    "duration": 36,
    "start_time": "2022-09-13T10:46:19.955Z"
   },
   {
    "duration": 243,
    "start_time": "2022-09-13T10:46:19.992Z"
   }
  ],
  "kernelspec": {
   "display_name": "Python 3 (ipykernel)",
   "language": "python",
   "name": "python3"
  },
  "language_info": {
   "codemirror_mode": {
    "name": "ipython",
    "version": 3
   },
   "file_extension": ".py",
   "mimetype": "text/x-python",
   "name": "python",
   "nbconvert_exporter": "python",
   "pygments_lexer": "ipython3",
   "version": "3.10.7"
  },
  "toc": {
   "base_numbering": 1,
   "nav_menu": {},
   "number_sections": true,
   "sideBar": true,
   "skip_h1_title": true,
   "title_cell": "Table of Contents",
   "title_sidebar": "Contents",
   "toc_cell": false,
   "toc_position": {},
   "toc_section_display": true,
   "toc_window_display": false
  }
 },
 "nbformat": 4,
 "nbformat_minor": 2
}
